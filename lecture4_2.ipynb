{
  "nbformat": 4,
  "nbformat_minor": 0,
  "metadata": {
    "colab": {
      "name": "lecture4-2.ipynb",
      "provenance": [],
      "collapsed_sections": [],
      "authorship_tag": "ABX9TyMywWWgjmdXxNTRSajrsb0f",
      "include_colab_link": true
    },
    "kernelspec": {
      "name": "python3",
      "display_name": "Python 3"
    },
    "language_info": {
      "name": "python"
    }
  },
  "cells": [
    {
      "cell_type": "markdown",
      "metadata": {
        "id": "view-in-github",
        "colab_type": "text"
      },
      "source": [
        "<a href=\"https://colab.research.google.com/github/duckbillLvr/software-lecture/blob/main/lecture4_2.ipynb\" target=\"_parent\"><img src=\"https://colab.research.google.com/assets/colab-badge.svg\" alt=\"Open In Colab\"/></a>"
      ]
    },
    {
      "cell_type": "code",
      "execution_count": 6,
      "metadata": {
        "colab": {
          "base_uri": "https://localhost:8080/"
        },
        "id": "PTk3DXo8Iy3o",
        "outputId": "688363c6-efe6-4356-8928-39ea9ec135d7"
      },
      "outputs": [
        {
          "output_type": "stream",
          "name": "stdout",
          "text": [
            "Requirement already satisfied: finterstellar in /usr/local/lib/python3.7/dist-packages (0.1.19)\n",
            "Requirement already satisfied: requests>=2.23.0 in /usr/local/lib/python3.7/dist-packages (from finterstellar) (2.23.0)\n",
            "Requirement already satisfied: pandas>=1.1.4 in /usr/local/lib/python3.7/dist-packages (from finterstellar) (1.3.5)\n",
            "Requirement already satisfied: numpy>=1.19.3 in /usr/local/lib/python3.7/dist-packages (from finterstellar) (1.21.5)\n",
            "Requirement already satisfied: lxml>=4.2.6 in /usr/local/lib/python3.7/dist-packages (from finterstellar) (4.2.6)\n",
            "Requirement already satisfied: pandas-datareader>=0.10.0 in /usr/local/lib/python3.7/dist-packages (from finterstellar) (0.10.0)\n",
            "Requirement already satisfied: python-dateutil>=2.7.3 in /usr/local/lib/python3.7/dist-packages (from pandas>=1.1.4->finterstellar) (2.8.2)\n",
            "Requirement already satisfied: pytz>=2017.3 in /usr/local/lib/python3.7/dist-packages (from pandas>=1.1.4->finterstellar) (2018.9)\n",
            "Requirement already satisfied: six>=1.5 in /usr/local/lib/python3.7/dist-packages (from python-dateutil>=2.7.3->pandas>=1.1.4->finterstellar) (1.15.0)\n",
            "Requirement already satisfied: certifi>=2017.4.17 in /usr/local/lib/python3.7/dist-packages (from requests>=2.23.0->finterstellar) (2021.10.8)\n",
            "Requirement already satisfied: idna<3,>=2.5 in /usr/local/lib/python3.7/dist-packages (from requests>=2.23.0->finterstellar) (2.10)\n",
            "Requirement already satisfied: urllib3!=1.25.0,!=1.25.1,<1.26,>=1.21.1 in /usr/local/lib/python3.7/dist-packages (from requests>=2.23.0->finterstellar) (1.24.3)\n",
            "Requirement already satisfied: chardet<4,>=3.0.2 in /usr/local/lib/python3.7/dist-packages (from requests>=2.23.0->finterstellar) (3.0.4)\n"
          ]
        }
      ],
      "source": [
        "!pip install finterstellar"
      ]
    },
    {
      "cell_type": "code",
      "source": [
        "import finterstellar as fs"
      ],
      "metadata": {
        "id": "xDQ0XR75I4KW"
      },
      "execution_count": 7,
      "outputs": []
    },
    {
      "cell_type": "markdown",
      "source": [
        "### 가치지표 결합하기\n",
        "- 가치주를 찾는 4가지 방법(PER, PBR, PSR, PCR)\n",
        "> PER : 기업의 이익을 중요시  \n",
        "PBR : 기업의 안정성을 중요시  \n",
        "PSR : 이익도 이익이지만 기업이 함부로 조작할 수 없는 매출을 중요시  \n",
        "PCR : 현금 창출능력을 중요시  \n",
        "\n",
        "- 가치지표 결합은 위의 방법을 적절히 결합하여 투자하는 방법이다.  \n"
      ],
      "metadata": {
        "id": "gaWLx31qBUsw"
      }
    },
    {
      "cell_type": "markdown",
      "source": [
        "PER과 PBR을 이용한 가치지표 결합\n",
        "1. 교집합  \n",
        "> 최초 PER과 PBR에서 각각 10종목씩 선택했다면 교집합은 10개 이하의 종목이 나온다.  \n",
        "10개 종목에 투자하고 싶다면 PER, PBR 각각 10개보다 많은 종목을 뽑고 교집합하여 추려야한다.\n",
        "\n",
        "2. 합산점수\n",
        "> 각각 얼마나 뽑아야 할지 신경 쓰지 않아도 되지만 대신 어떻게 점수를 매길지를 정해야 한다.  \n",
        "상대평가제 경우 낮은 종목부터 100점으로 점수를 매겨, 99점, 98점과 같이 배점한다.  \n",
        "절대평가제인 경우 최고점을 PER 1배, 최하점을 PER 10배 식의 기준으로 점수를 배점한다."
      ],
      "metadata": {
        "id": "Hdtss2t7B9Vh"
      }
    },
    {
      "cell_type": "code",
      "source": [
        "# PER과 PBR의 시그널 생성(하위 20개 종목 선택)\n",
        "t = '2020Q3'\n",
        "data = fs.fn_consolidated(otp='16486230601099712210', term=t, vol=0)\n",
        "data['PER'] = data['Price_M3'] / data['EPS']\n",
        "data['PBR'] = data['Price_M3'] / (data['Shareholders Equity'] / data['Shares'])\n",
        "s1 = fs.fn_filter(data, by='PER', floor=1, cap=10, n=20, asc=True) # PER 기준 하위 20개 종목 선택\n",
        "s2 = fs.fn_filter(data, by='PBR', floor=.1, cap=1, n=20, asc=True) # PBR 기준 하위 20개 종목 선택"
      ],
      "metadata": {
        "colab": {
          "base_uri": "https://localhost:8080/"
        },
        "id": "yXQACsByC1Yk",
        "outputId": "74f8191f-c85f-4703-b6db-c82a95c34483"
      },
      "execution_count": 8,
      "outputs": [
        {
          "output_type": "stream",
          "name": "stdout",
          "text": [
            "\r2020Q3...OK\n"
          ]
        }
      ]
    },
    {
      "cell_type": "code",
      "source": [
        "print(s1)\n",
        "print(s2)"
      ],
      "metadata": {
        "id": "_XFYLoXODpGX",
        "colab": {
          "base_uri": "https://localhost:8080/"
        },
        "outputId": "27563b5a-e9cf-496a-8b47-f4aa996647a1"
      },
      "execution_count": 9,
      "outputs": [
        {
          "output_type": "stream",
          "name": "stdout",
          "text": [
            "             PER\n",
            "symbol          \n",
            "VHC     1.250620\n",
            "UIS     1.348869\n",
            "JOB     1.538462\n",
            "MX      1.575758\n",
            "SND     1.577982\n",
            "VTOL    1.613744\n",
            "TNK     1.658133\n",
            "LIVE    1.919629\n",
            "BMA     1.941397\n",
            "LODE    1.962264\n",
            "CTO     2.126072\n",
            "FRO     2.245487\n",
            "TROX    2.270186\n",
            "DHT     2.324444\n",
            "BIG     2.329354\n",
            "DX      2.354497\n",
            "GGAL    2.355795\n",
            "TPHS    2.358491\n",
            "NRG     2.382614\n",
            "FVE     2.387543\n",
            "             PBR\n",
            "symbol          \n",
            "REI     0.103666\n",
            "ACOR    0.104986\n",
            "TNP     0.105140\n",
            "GECC    0.105790\n",
            "LTRPA   0.115385\n",
            "BORR    0.120192\n",
            "RIG     0.124788\n",
            "GNW     0.125471\n",
            "GLOP    0.136601\n",
            "GURE    0.149526\n",
            "SMHI    0.155095\n",
            "CDEV    0.155154\n",
            "FET     0.155406\n",
            "GASS    0.157510\n",
            "IRS     0.166423\n",
            "BBGI    0.168959\n",
            "NMM     0.174185\n",
            "TCOM    0.174534\n",
            "BHF     0.183101\n",
            "WPG     0.190015\n"
          ]
        }
      ]
    },
    {
      "cell_type": "code",
      "source": [
        "fs.combine_signal(s1, s2, how='and') # 교집합 종목 선택"
      ],
      "metadata": {
        "id": "pBb6CoDZDszm",
        "colab": {
          "base_uri": "https://localhost:8080/",
          "height": 81
        },
        "outputId": "360b305d-d2b5-49e8-b319-eec0ae1ff971"
      },
      "execution_count": 10,
      "outputs": [
        {
          "output_type": "execute_result",
          "data": {
            "text/plain": [
              "Empty DataFrame\n",
              "Columns: [PER, PBR]\n",
              "Index: []"
            ],
            "text/html": [
              "\n",
              "  <div id=\"df-3d3f8b0a-be76-45fd-b488-cf2471195af9\">\n",
              "    <div class=\"colab-df-container\">\n",
              "      <div>\n",
              "<style scoped>\n",
              "    .dataframe tbody tr th:only-of-type {\n",
              "        vertical-align: middle;\n",
              "    }\n",
              "\n",
              "    .dataframe tbody tr th {\n",
              "        vertical-align: top;\n",
              "    }\n",
              "\n",
              "    .dataframe thead th {\n",
              "        text-align: right;\n",
              "    }\n",
              "</style>\n",
              "<table border=\"1\" class=\"dataframe\">\n",
              "  <thead>\n",
              "    <tr style=\"text-align: right;\">\n",
              "      <th></th>\n",
              "      <th>PER</th>\n",
              "      <th>PBR</th>\n",
              "    </tr>\n",
              "    <tr>\n",
              "      <th>symbol</th>\n",
              "      <th></th>\n",
              "      <th></th>\n",
              "    </tr>\n",
              "  </thead>\n",
              "  <tbody>\n",
              "  </tbody>\n",
              "</table>\n",
              "</div>\n",
              "      <button class=\"colab-df-convert\" onclick=\"convertToInteractive('df-3d3f8b0a-be76-45fd-b488-cf2471195af9')\"\n",
              "              title=\"Convert this dataframe to an interactive table.\"\n",
              "              style=\"display:none;\">\n",
              "        \n",
              "  <svg xmlns=\"http://www.w3.org/2000/svg\" height=\"24px\"viewBox=\"0 0 24 24\"\n",
              "       width=\"24px\">\n",
              "    <path d=\"M0 0h24v24H0V0z\" fill=\"none\"/>\n",
              "    <path d=\"M18.56 5.44l.94 2.06.94-2.06 2.06-.94-2.06-.94-.94-2.06-.94 2.06-2.06.94zm-11 1L8.5 8.5l.94-2.06 2.06-.94-2.06-.94L8.5 2.5l-.94 2.06-2.06.94zm10 10l.94 2.06.94-2.06 2.06-.94-2.06-.94-.94-2.06-.94 2.06-2.06.94z\"/><path d=\"M17.41 7.96l-1.37-1.37c-.4-.4-.92-.59-1.43-.59-.52 0-1.04.2-1.43.59L10.3 9.45l-7.72 7.72c-.78.78-.78 2.05 0 2.83L4 21.41c.39.39.9.59 1.41.59.51 0 1.02-.2 1.41-.59l7.78-7.78 2.81-2.81c.8-.78.8-2.07 0-2.86zM5.41 20L4 18.59l7.72-7.72 1.47 1.35L5.41 20z\"/>\n",
              "  </svg>\n",
              "      </button>\n",
              "      \n",
              "  <style>\n",
              "    .colab-df-container {\n",
              "      display:flex;\n",
              "      flex-wrap:wrap;\n",
              "      gap: 12px;\n",
              "    }\n",
              "\n",
              "    .colab-df-convert {\n",
              "      background-color: #E8F0FE;\n",
              "      border: none;\n",
              "      border-radius: 50%;\n",
              "      cursor: pointer;\n",
              "      display: none;\n",
              "      fill: #1967D2;\n",
              "      height: 32px;\n",
              "      padding: 0 0 0 0;\n",
              "      width: 32px;\n",
              "    }\n",
              "\n",
              "    .colab-df-convert:hover {\n",
              "      background-color: #E2EBFA;\n",
              "      box-shadow: 0px 1px 2px rgba(60, 64, 67, 0.3), 0px 1px 3px 1px rgba(60, 64, 67, 0.15);\n",
              "      fill: #174EA6;\n",
              "    }\n",
              "\n",
              "    [theme=dark] .colab-df-convert {\n",
              "      background-color: #3B4455;\n",
              "      fill: #D2E3FC;\n",
              "    }\n",
              "\n",
              "    [theme=dark] .colab-df-convert:hover {\n",
              "      background-color: #434B5C;\n",
              "      box-shadow: 0px 1px 3px 1px rgba(0, 0, 0, 0.15);\n",
              "      filter: drop-shadow(0px 1px 2px rgba(0, 0, 0, 0.3));\n",
              "      fill: #FFFFFF;\n",
              "    }\n",
              "  </style>\n",
              "\n",
              "      <script>\n",
              "        const buttonEl =\n",
              "          document.querySelector('#df-3d3f8b0a-be76-45fd-b488-cf2471195af9 button.colab-df-convert');\n",
              "        buttonEl.style.display =\n",
              "          google.colab.kernel.accessAllowed ? 'block' : 'none';\n",
              "\n",
              "        async function convertToInteractive(key) {\n",
              "          const element = document.querySelector('#df-3d3f8b0a-be76-45fd-b488-cf2471195af9');\n",
              "          const dataTable =\n",
              "            await google.colab.kernel.invokeFunction('convertToInteractive',\n",
              "                                                     [key], {});\n",
              "          if (!dataTable) return;\n",
              "\n",
              "          const docLinkHtml = 'Like what you see? Visit the ' +\n",
              "            '<a target=\"_blank\" href=https://colab.research.google.com/notebooks/data_table.ipynb>data table notebook</a>'\n",
              "            + ' to learn more about interactive tables.';\n",
              "          element.innerHTML = '';\n",
              "          dataTable['output_type'] = 'display_data';\n",
              "          await google.colab.output.renderOutput(dataTable, element);\n",
              "          const docLink = document.createElement('div');\n",
              "          docLink.innerHTML = docLinkHtml;\n",
              "          element.appendChild(docLink);\n",
              "        }\n",
              "      </script>\n",
              "    </div>\n",
              "  </div>\n",
              "  "
            ]
          },
          "metadata": {},
          "execution_count": 10
        }
      ]
    },
    {
      "cell_type": "code",
      "source": [
        "fs.combine_signal(s1, s2, how='or') # 합집합 종목 선택 !큰 의미 X"
      ],
      "metadata": {
        "id": "IMMIoMgGDxez",
        "colab": {
          "base_uri": "https://localhost:8080/",
          "height": 1000
        },
        "outputId": "1bd3b2c9-fa4a-47f5-9f10-d894550023c8"
      },
      "execution_count": 11,
      "outputs": [
        {
          "output_type": "execute_result",
          "data": {
            "text/plain": [
              "             PER       PBR\n",
              "symbol                    \n",
              "ACOR         NaN  0.104986\n",
              "BBGI         NaN  0.168959\n",
              "BHF          NaN  0.183101\n",
              "BIG     2.329354       NaN\n",
              "BMA     1.941397       NaN\n",
              "BORR         NaN  0.120192\n",
              "CDEV         NaN  0.155154\n",
              "CTO     2.126072       NaN\n",
              "DHT     2.324444       NaN\n",
              "DX      2.354497       NaN\n",
              "FET          NaN  0.155406\n",
              "FRO     2.245487       NaN\n",
              "FVE     2.387543       NaN\n",
              "GASS         NaN  0.157510\n",
              "GECC         NaN  0.105790\n",
              "GGAL    2.355795       NaN\n",
              "GLOP         NaN  0.136601\n",
              "GNW          NaN  0.125471\n",
              "GURE         NaN  0.149526\n",
              "IRS          NaN  0.166423\n",
              "JOB     1.538462       NaN\n",
              "LIVE    1.919629       NaN\n",
              "LODE    1.962264       NaN\n",
              "LTRPA        NaN  0.115385\n",
              "MX      1.575758       NaN\n",
              "NMM          NaN  0.174185\n",
              "NRG     2.382614       NaN\n",
              "REI          NaN  0.103666\n",
              "RIG          NaN  0.124788\n",
              "SMHI         NaN  0.155095\n",
              "SND     1.577982       NaN\n",
              "TCOM         NaN  0.174534\n",
              "TNK     1.658133       NaN\n",
              "TNP          NaN  0.105140\n",
              "TPHS    2.358491       NaN\n",
              "TROX    2.270186       NaN\n",
              "UIS     1.348869       NaN\n",
              "VHC     1.250620       NaN\n",
              "VTOL    1.613744       NaN\n",
              "WPG          NaN  0.190015"
            ],
            "text/html": [
              "\n",
              "  <div id=\"df-74b25c55-5fe7-4d9d-919b-1b728078cd62\">\n",
              "    <div class=\"colab-df-container\">\n",
              "      <div>\n",
              "<style scoped>\n",
              "    .dataframe tbody tr th:only-of-type {\n",
              "        vertical-align: middle;\n",
              "    }\n",
              "\n",
              "    .dataframe tbody tr th {\n",
              "        vertical-align: top;\n",
              "    }\n",
              "\n",
              "    .dataframe thead th {\n",
              "        text-align: right;\n",
              "    }\n",
              "</style>\n",
              "<table border=\"1\" class=\"dataframe\">\n",
              "  <thead>\n",
              "    <tr style=\"text-align: right;\">\n",
              "      <th></th>\n",
              "      <th>PER</th>\n",
              "      <th>PBR</th>\n",
              "    </tr>\n",
              "    <tr>\n",
              "      <th>symbol</th>\n",
              "      <th></th>\n",
              "      <th></th>\n",
              "    </tr>\n",
              "  </thead>\n",
              "  <tbody>\n",
              "    <tr>\n",
              "      <th>ACOR</th>\n",
              "      <td>NaN</td>\n",
              "      <td>0.104986</td>\n",
              "    </tr>\n",
              "    <tr>\n",
              "      <th>BBGI</th>\n",
              "      <td>NaN</td>\n",
              "      <td>0.168959</td>\n",
              "    </tr>\n",
              "    <tr>\n",
              "      <th>BHF</th>\n",
              "      <td>NaN</td>\n",
              "      <td>0.183101</td>\n",
              "    </tr>\n",
              "    <tr>\n",
              "      <th>BIG</th>\n",
              "      <td>2.329354</td>\n",
              "      <td>NaN</td>\n",
              "    </tr>\n",
              "    <tr>\n",
              "      <th>BMA</th>\n",
              "      <td>1.941397</td>\n",
              "      <td>NaN</td>\n",
              "    </tr>\n",
              "    <tr>\n",
              "      <th>BORR</th>\n",
              "      <td>NaN</td>\n",
              "      <td>0.120192</td>\n",
              "    </tr>\n",
              "    <tr>\n",
              "      <th>CDEV</th>\n",
              "      <td>NaN</td>\n",
              "      <td>0.155154</td>\n",
              "    </tr>\n",
              "    <tr>\n",
              "      <th>CTO</th>\n",
              "      <td>2.126072</td>\n",
              "      <td>NaN</td>\n",
              "    </tr>\n",
              "    <tr>\n",
              "      <th>DHT</th>\n",
              "      <td>2.324444</td>\n",
              "      <td>NaN</td>\n",
              "    </tr>\n",
              "    <tr>\n",
              "      <th>DX</th>\n",
              "      <td>2.354497</td>\n",
              "      <td>NaN</td>\n",
              "    </tr>\n",
              "    <tr>\n",
              "      <th>FET</th>\n",
              "      <td>NaN</td>\n",
              "      <td>0.155406</td>\n",
              "    </tr>\n",
              "    <tr>\n",
              "      <th>FRO</th>\n",
              "      <td>2.245487</td>\n",
              "      <td>NaN</td>\n",
              "    </tr>\n",
              "    <tr>\n",
              "      <th>FVE</th>\n",
              "      <td>2.387543</td>\n",
              "      <td>NaN</td>\n",
              "    </tr>\n",
              "    <tr>\n",
              "      <th>GASS</th>\n",
              "      <td>NaN</td>\n",
              "      <td>0.157510</td>\n",
              "    </tr>\n",
              "    <tr>\n",
              "      <th>GECC</th>\n",
              "      <td>NaN</td>\n",
              "      <td>0.105790</td>\n",
              "    </tr>\n",
              "    <tr>\n",
              "      <th>GGAL</th>\n",
              "      <td>2.355795</td>\n",
              "      <td>NaN</td>\n",
              "    </tr>\n",
              "    <tr>\n",
              "      <th>GLOP</th>\n",
              "      <td>NaN</td>\n",
              "      <td>0.136601</td>\n",
              "    </tr>\n",
              "    <tr>\n",
              "      <th>GNW</th>\n",
              "      <td>NaN</td>\n",
              "      <td>0.125471</td>\n",
              "    </tr>\n",
              "    <tr>\n",
              "      <th>GURE</th>\n",
              "      <td>NaN</td>\n",
              "      <td>0.149526</td>\n",
              "    </tr>\n",
              "    <tr>\n",
              "      <th>IRS</th>\n",
              "      <td>NaN</td>\n",
              "      <td>0.166423</td>\n",
              "    </tr>\n",
              "    <tr>\n",
              "      <th>JOB</th>\n",
              "      <td>1.538462</td>\n",
              "      <td>NaN</td>\n",
              "    </tr>\n",
              "    <tr>\n",
              "      <th>LIVE</th>\n",
              "      <td>1.919629</td>\n",
              "      <td>NaN</td>\n",
              "    </tr>\n",
              "    <tr>\n",
              "      <th>LODE</th>\n",
              "      <td>1.962264</td>\n",
              "      <td>NaN</td>\n",
              "    </tr>\n",
              "    <tr>\n",
              "      <th>LTRPA</th>\n",
              "      <td>NaN</td>\n",
              "      <td>0.115385</td>\n",
              "    </tr>\n",
              "    <tr>\n",
              "      <th>MX</th>\n",
              "      <td>1.575758</td>\n",
              "      <td>NaN</td>\n",
              "    </tr>\n",
              "    <tr>\n",
              "      <th>NMM</th>\n",
              "      <td>NaN</td>\n",
              "      <td>0.174185</td>\n",
              "    </tr>\n",
              "    <tr>\n",
              "      <th>NRG</th>\n",
              "      <td>2.382614</td>\n",
              "      <td>NaN</td>\n",
              "    </tr>\n",
              "    <tr>\n",
              "      <th>REI</th>\n",
              "      <td>NaN</td>\n",
              "      <td>0.103666</td>\n",
              "    </tr>\n",
              "    <tr>\n",
              "      <th>RIG</th>\n",
              "      <td>NaN</td>\n",
              "      <td>0.124788</td>\n",
              "    </tr>\n",
              "    <tr>\n",
              "      <th>SMHI</th>\n",
              "      <td>NaN</td>\n",
              "      <td>0.155095</td>\n",
              "    </tr>\n",
              "    <tr>\n",
              "      <th>SND</th>\n",
              "      <td>1.577982</td>\n",
              "      <td>NaN</td>\n",
              "    </tr>\n",
              "    <tr>\n",
              "      <th>TCOM</th>\n",
              "      <td>NaN</td>\n",
              "      <td>0.174534</td>\n",
              "    </tr>\n",
              "    <tr>\n",
              "      <th>TNK</th>\n",
              "      <td>1.658133</td>\n",
              "      <td>NaN</td>\n",
              "    </tr>\n",
              "    <tr>\n",
              "      <th>TNP</th>\n",
              "      <td>NaN</td>\n",
              "      <td>0.105140</td>\n",
              "    </tr>\n",
              "    <tr>\n",
              "      <th>TPHS</th>\n",
              "      <td>2.358491</td>\n",
              "      <td>NaN</td>\n",
              "    </tr>\n",
              "    <tr>\n",
              "      <th>TROX</th>\n",
              "      <td>2.270186</td>\n",
              "      <td>NaN</td>\n",
              "    </tr>\n",
              "    <tr>\n",
              "      <th>UIS</th>\n",
              "      <td>1.348869</td>\n",
              "      <td>NaN</td>\n",
              "    </tr>\n",
              "    <tr>\n",
              "      <th>VHC</th>\n",
              "      <td>1.250620</td>\n",
              "      <td>NaN</td>\n",
              "    </tr>\n",
              "    <tr>\n",
              "      <th>VTOL</th>\n",
              "      <td>1.613744</td>\n",
              "      <td>NaN</td>\n",
              "    </tr>\n",
              "    <tr>\n",
              "      <th>WPG</th>\n",
              "      <td>NaN</td>\n",
              "      <td>0.190015</td>\n",
              "    </tr>\n",
              "  </tbody>\n",
              "</table>\n",
              "</div>\n",
              "      <button class=\"colab-df-convert\" onclick=\"convertToInteractive('df-74b25c55-5fe7-4d9d-919b-1b728078cd62')\"\n",
              "              title=\"Convert this dataframe to an interactive table.\"\n",
              "              style=\"display:none;\">\n",
              "        \n",
              "  <svg xmlns=\"http://www.w3.org/2000/svg\" height=\"24px\"viewBox=\"0 0 24 24\"\n",
              "       width=\"24px\">\n",
              "    <path d=\"M0 0h24v24H0V0z\" fill=\"none\"/>\n",
              "    <path d=\"M18.56 5.44l.94 2.06.94-2.06 2.06-.94-2.06-.94-.94-2.06-.94 2.06-2.06.94zm-11 1L8.5 8.5l.94-2.06 2.06-.94-2.06-.94L8.5 2.5l-.94 2.06-2.06.94zm10 10l.94 2.06.94-2.06 2.06-.94-2.06-.94-.94-2.06-.94 2.06-2.06.94z\"/><path d=\"M17.41 7.96l-1.37-1.37c-.4-.4-.92-.59-1.43-.59-.52 0-1.04.2-1.43.59L10.3 9.45l-7.72 7.72c-.78.78-.78 2.05 0 2.83L4 21.41c.39.39.9.59 1.41.59.51 0 1.02-.2 1.41-.59l7.78-7.78 2.81-2.81c.8-.78.8-2.07 0-2.86zM5.41 20L4 18.59l7.72-7.72 1.47 1.35L5.41 20z\"/>\n",
              "  </svg>\n",
              "      </button>\n",
              "      \n",
              "  <style>\n",
              "    .colab-df-container {\n",
              "      display:flex;\n",
              "      flex-wrap:wrap;\n",
              "      gap: 12px;\n",
              "    }\n",
              "\n",
              "    .colab-df-convert {\n",
              "      background-color: #E8F0FE;\n",
              "      border: none;\n",
              "      border-radius: 50%;\n",
              "      cursor: pointer;\n",
              "      display: none;\n",
              "      fill: #1967D2;\n",
              "      height: 32px;\n",
              "      padding: 0 0 0 0;\n",
              "      width: 32px;\n",
              "    }\n",
              "\n",
              "    .colab-df-convert:hover {\n",
              "      background-color: #E2EBFA;\n",
              "      box-shadow: 0px 1px 2px rgba(60, 64, 67, 0.3), 0px 1px 3px 1px rgba(60, 64, 67, 0.15);\n",
              "      fill: #174EA6;\n",
              "    }\n",
              "\n",
              "    [theme=dark] .colab-df-convert {\n",
              "      background-color: #3B4455;\n",
              "      fill: #D2E3FC;\n",
              "    }\n",
              "\n",
              "    [theme=dark] .colab-df-convert:hover {\n",
              "      background-color: #434B5C;\n",
              "      box-shadow: 0px 1px 3px 1px rgba(0, 0, 0, 0.15);\n",
              "      filter: drop-shadow(0px 1px 2px rgba(0, 0, 0, 0.3));\n",
              "      fill: #FFFFFF;\n",
              "    }\n",
              "  </style>\n",
              "\n",
              "      <script>\n",
              "        const buttonEl =\n",
              "          document.querySelector('#df-74b25c55-5fe7-4d9d-919b-1b728078cd62 button.colab-df-convert');\n",
              "        buttonEl.style.display =\n",
              "          google.colab.kernel.accessAllowed ? 'block' : 'none';\n",
              "\n",
              "        async function convertToInteractive(key) {\n",
              "          const element = document.querySelector('#df-74b25c55-5fe7-4d9d-919b-1b728078cd62');\n",
              "          const dataTable =\n",
              "            await google.colab.kernel.invokeFunction('convertToInteractive',\n",
              "                                                     [key], {});\n",
              "          if (!dataTable) return;\n",
              "\n",
              "          const docLinkHtml = 'Like what you see? Visit the ' +\n",
              "            '<a target=\"_blank\" href=https://colab.research.google.com/notebooks/data_table.ipynb>data table notebook</a>'\n",
              "            + ' to learn more about interactive tables.';\n",
              "          element.innerHTML = '';\n",
              "          dataTable['output_type'] = 'display_data';\n",
              "          await google.colab.output.renderOutput(dataTable, element);\n",
              "          const docLink = document.createElement('div');\n",
              "          docLink.innerHTML = docLinkHtml;\n",
              "          element.appendChild(docLink);\n",
              "        }\n",
              "      </script>\n",
              "    </div>\n",
              "  </div>\n",
              "  "
            ]
          },
          "metadata": {},
          "execution_count": 11
        }
      ]
    },
    {
      "cell_type": "code",
      "source": [
        "# 절대평가\n",
        "s1 = fs.fn_score(data, by='PER', method='absolute', floor=1, cap=10, asc=True)\n",
        "s2 = fs.fn_score(data, by='PBR', method='absolute', floor=.1, cap=1, asc=True)"
      ],
      "metadata": {
        "id": "YM7-uZdqD8Uz"
      },
      "execution_count": 12,
      "outputs": []
    },
    {
      "cell_type": "code",
      "source": [
        "# PER, PBR 절대점수 확인\n",
        "print(s1)\n",
        "print(s2)"
      ],
      "metadata": {
        "id": "Bx7emEESER3D",
        "colab": {
          "base_uri": "https://localhost:8080/"
        },
        "outputId": "fa091d4a-6ab9-42b5-9142-7e7373013735"
      },
      "execution_count": 13,
      "outputs": [
        {
          "output_type": "stream",
          "name": "stdout",
          "text": [
            "             PER  Score\n",
            "symbol                 \n",
            "VHC     1.250620   97.2\n",
            "UIS     1.348869   96.1\n",
            "JOB     1.538462   94.0\n",
            "MX      1.575758   93.6\n",
            "SND     1.577982   93.6\n",
            "...          ...    ...\n",
            "CZWI    9.900000    1.1\n",
            "LCNB    9.925676    0.8\n",
            "RDN     9.926471    0.8\n",
            "FISI    9.955752    0.5\n",
            "EBTC    9.980469    0.2\n",
            "\n",
            "[294 rows x 2 columns]\n",
            "             PBR  Score\n",
            "symbol                 \n",
            "REI     0.103666   99.6\n",
            "ACOR    0.104986   99.4\n",
            "TNP     0.105140   99.4\n",
            "GECC    0.105790   99.4\n",
            "LTRPA   0.115385   98.3\n",
            "...          ...    ...\n",
            "STCN    0.997557    0.3\n",
            "SITC    0.997706    0.3\n",
            "FCF     0.998493    0.2\n",
            "TEVA    0.998527    0.2\n",
            "CRS     0.999287    0.1\n",
            "\n",
            "[811 rows x 2 columns]\n"
          ]
        }
      ]
    },
    {
      "cell_type": "code",
      "source": [
        "fs.combine_score(s1, s2, n=10)"
      ],
      "metadata": {
        "id": "vS__xs9_ETlA",
        "colab": {
          "base_uri": "https://localhost:8080/",
          "height": 394
        },
        "outputId": "c3c34054-628f-4a38-e819-9e6a53d28b83"
      },
      "execution_count": 14,
      "outputs": [
        {
          "output_type": "execute_result",
          "data": {
            "text/plain": [
              "        Score  Score_    Sum\n",
              "symbol                      \n",
              "SND     46.80   42.40  89.20\n",
              "GECC    38.75   49.70  88.45\n",
              "TNK     46.35   37.65  84.00\n",
              "STNG    36.90   39.60  76.50\n",
              "PVL     37.10   37.20  74.30\n",
              "LIVE    44.90   28.60  73.50\n",
              "AEL     39.25   32.50  71.75\n",
              "JOB     47.00   24.70  71.70\n",
              "TNP     20.70   49.70  70.40\n",
              "BMA     44.75   25.40  70.15"
            ],
            "text/html": [
              "\n",
              "  <div id=\"df-d9e9d655-de63-4239-a2c8-065a8716ba9a\">\n",
              "    <div class=\"colab-df-container\">\n",
              "      <div>\n",
              "<style scoped>\n",
              "    .dataframe tbody tr th:only-of-type {\n",
              "        vertical-align: middle;\n",
              "    }\n",
              "\n",
              "    .dataframe tbody tr th {\n",
              "        vertical-align: top;\n",
              "    }\n",
              "\n",
              "    .dataframe thead th {\n",
              "        text-align: right;\n",
              "    }\n",
              "</style>\n",
              "<table border=\"1\" class=\"dataframe\">\n",
              "  <thead>\n",
              "    <tr style=\"text-align: right;\">\n",
              "      <th></th>\n",
              "      <th>Score</th>\n",
              "      <th>Score_</th>\n",
              "      <th>Sum</th>\n",
              "    </tr>\n",
              "    <tr>\n",
              "      <th>symbol</th>\n",
              "      <th></th>\n",
              "      <th></th>\n",
              "      <th></th>\n",
              "    </tr>\n",
              "  </thead>\n",
              "  <tbody>\n",
              "    <tr>\n",
              "      <th>SND</th>\n",
              "      <td>46.80</td>\n",
              "      <td>42.40</td>\n",
              "      <td>89.20</td>\n",
              "    </tr>\n",
              "    <tr>\n",
              "      <th>GECC</th>\n",
              "      <td>38.75</td>\n",
              "      <td>49.70</td>\n",
              "      <td>88.45</td>\n",
              "    </tr>\n",
              "    <tr>\n",
              "      <th>TNK</th>\n",
              "      <td>46.35</td>\n",
              "      <td>37.65</td>\n",
              "      <td>84.00</td>\n",
              "    </tr>\n",
              "    <tr>\n",
              "      <th>STNG</th>\n",
              "      <td>36.90</td>\n",
              "      <td>39.60</td>\n",
              "      <td>76.50</td>\n",
              "    </tr>\n",
              "    <tr>\n",
              "      <th>PVL</th>\n",
              "      <td>37.10</td>\n",
              "      <td>37.20</td>\n",
              "      <td>74.30</td>\n",
              "    </tr>\n",
              "    <tr>\n",
              "      <th>LIVE</th>\n",
              "      <td>44.90</td>\n",
              "      <td>28.60</td>\n",
              "      <td>73.50</td>\n",
              "    </tr>\n",
              "    <tr>\n",
              "      <th>AEL</th>\n",
              "      <td>39.25</td>\n",
              "      <td>32.50</td>\n",
              "      <td>71.75</td>\n",
              "    </tr>\n",
              "    <tr>\n",
              "      <th>JOB</th>\n",
              "      <td>47.00</td>\n",
              "      <td>24.70</td>\n",
              "      <td>71.70</td>\n",
              "    </tr>\n",
              "    <tr>\n",
              "      <th>TNP</th>\n",
              "      <td>20.70</td>\n",
              "      <td>49.70</td>\n",
              "      <td>70.40</td>\n",
              "    </tr>\n",
              "    <tr>\n",
              "      <th>BMA</th>\n",
              "      <td>44.75</td>\n",
              "      <td>25.40</td>\n",
              "      <td>70.15</td>\n",
              "    </tr>\n",
              "  </tbody>\n",
              "</table>\n",
              "</div>\n",
              "      <button class=\"colab-df-convert\" onclick=\"convertToInteractive('df-d9e9d655-de63-4239-a2c8-065a8716ba9a')\"\n",
              "              title=\"Convert this dataframe to an interactive table.\"\n",
              "              style=\"display:none;\">\n",
              "        \n",
              "  <svg xmlns=\"http://www.w3.org/2000/svg\" height=\"24px\"viewBox=\"0 0 24 24\"\n",
              "       width=\"24px\">\n",
              "    <path d=\"M0 0h24v24H0V0z\" fill=\"none\"/>\n",
              "    <path d=\"M18.56 5.44l.94 2.06.94-2.06 2.06-.94-2.06-.94-.94-2.06-.94 2.06-2.06.94zm-11 1L8.5 8.5l.94-2.06 2.06-.94-2.06-.94L8.5 2.5l-.94 2.06-2.06.94zm10 10l.94 2.06.94-2.06 2.06-.94-2.06-.94-.94-2.06-.94 2.06-2.06.94z\"/><path d=\"M17.41 7.96l-1.37-1.37c-.4-.4-.92-.59-1.43-.59-.52 0-1.04.2-1.43.59L10.3 9.45l-7.72 7.72c-.78.78-.78 2.05 0 2.83L4 21.41c.39.39.9.59 1.41.59.51 0 1.02-.2 1.41-.59l7.78-7.78 2.81-2.81c.8-.78.8-2.07 0-2.86zM5.41 20L4 18.59l7.72-7.72 1.47 1.35L5.41 20z\"/>\n",
              "  </svg>\n",
              "      </button>\n",
              "      \n",
              "  <style>\n",
              "    .colab-df-container {\n",
              "      display:flex;\n",
              "      flex-wrap:wrap;\n",
              "      gap: 12px;\n",
              "    }\n",
              "\n",
              "    .colab-df-convert {\n",
              "      background-color: #E8F0FE;\n",
              "      border: none;\n",
              "      border-radius: 50%;\n",
              "      cursor: pointer;\n",
              "      display: none;\n",
              "      fill: #1967D2;\n",
              "      height: 32px;\n",
              "      padding: 0 0 0 0;\n",
              "      width: 32px;\n",
              "    }\n",
              "\n",
              "    .colab-df-convert:hover {\n",
              "      background-color: #E2EBFA;\n",
              "      box-shadow: 0px 1px 2px rgba(60, 64, 67, 0.3), 0px 1px 3px 1px rgba(60, 64, 67, 0.15);\n",
              "      fill: #174EA6;\n",
              "    }\n",
              "\n",
              "    [theme=dark] .colab-df-convert {\n",
              "      background-color: #3B4455;\n",
              "      fill: #D2E3FC;\n",
              "    }\n",
              "\n",
              "    [theme=dark] .colab-df-convert:hover {\n",
              "      background-color: #434B5C;\n",
              "      box-shadow: 0px 1px 3px 1px rgba(0, 0, 0, 0.15);\n",
              "      filter: drop-shadow(0px 1px 2px rgba(0, 0, 0, 0.3));\n",
              "      fill: #FFFFFF;\n",
              "    }\n",
              "  </style>\n",
              "\n",
              "      <script>\n",
              "        const buttonEl =\n",
              "          document.querySelector('#df-d9e9d655-de63-4239-a2c8-065a8716ba9a button.colab-df-convert');\n",
              "        buttonEl.style.display =\n",
              "          google.colab.kernel.accessAllowed ? 'block' : 'none';\n",
              "\n",
              "        async function convertToInteractive(key) {\n",
              "          const element = document.querySelector('#df-d9e9d655-de63-4239-a2c8-065a8716ba9a');\n",
              "          const dataTable =\n",
              "            await google.colab.kernel.invokeFunction('convertToInteractive',\n",
              "                                                     [key], {});\n",
              "          if (!dataTable) return;\n",
              "\n",
              "          const docLinkHtml = 'Like what you see? Visit the ' +\n",
              "            '<a target=\"_blank\" href=https://colab.research.google.com/notebooks/data_table.ipynb>data table notebook</a>'\n",
              "            + ' to learn more about interactive tables.';\n",
              "          element.innerHTML = '';\n",
              "          dataTable['output_type'] = 'display_data';\n",
              "          await google.colab.output.renderOutput(dataTable, element);\n",
              "          const docLink = document.createElement('div');\n",
              "          docLink.innerHTML = docLinkHtml;\n",
              "          element.appendChild(docLink);\n",
              "        }\n",
              "      </script>\n",
              "    </div>\n",
              "  </div>\n",
              "  "
            ]
          },
          "metadata": {},
          "execution_count": 14
        }
      ]
    },
    {
      "cell_type": "code",
      "source": [
        "# 상대평가\n",
        "f1 = fs.fn_score(data, by='PER', method='relative', floor=1, cap=10, asc=True)\n",
        "f2=  fs.fn_score(data, by='PBR', method='relative', floor=.1, cap=1, asc=True)"
      ],
      "metadata": {
        "id": "512694ppEoSI"
      },
      "execution_count": 15,
      "outputs": []
    },
    {
      "cell_type": "code",
      "source": [
        "# PER, PBR 상대평가 점수 확인\n",
        "print(f1)\n",
        "print(f2)"
      ],
      "metadata": {
        "id": "EN4iJU-6E8xX",
        "colab": {
          "base_uri": "https://localhost:8080/"
        },
        "outputId": "9b74982c-a4fc-49bf-f50b-5fdbe5f0ab20"
      },
      "execution_count": 16,
      "outputs": [
        {
          "output_type": "stream",
          "name": "stdout",
          "text": [
            "             PER  Score\n",
            "symbol                 \n",
            "VHC     1.250620  100.0\n",
            "UIS     1.348869   99.7\n",
            "JOB     1.538462   99.3\n",
            "MX      1.575758   99.0\n",
            "SND     1.577982   98.6\n",
            "...          ...    ...\n",
            "CZWI    9.900000    1.7\n",
            "LCNB    9.925676    1.4\n",
            "RDN     9.926471    1.0\n",
            "FISI    9.955752    0.7\n",
            "EBTC    9.980469    0.3\n",
            "\n",
            "[294 rows x 2 columns]\n",
            "             PBR  Score\n",
            "symbol                 \n",
            "REI     0.103666  100.0\n",
            "ACOR    0.104986   99.9\n",
            "TNP     0.105140   99.8\n",
            "GECC    0.105790   99.6\n",
            "LTRPA   0.115385   99.5\n",
            "...          ...    ...\n",
            "STCN    0.997557    0.6\n",
            "SITC    0.997706    0.5\n",
            "FCF     0.998493    0.4\n",
            "TEVA    0.998527    0.2\n",
            "CRS     0.999287    0.1\n",
            "\n",
            "[811 rows x 2 columns]\n"
          ]
        }
      ]
    },
    {
      "cell_type": "code",
      "source": [
        "fs.combine_score(f1, f2, n=10) # 상대평가 합산점수 하위 10개"
      ],
      "metadata": {
        "id": "YK6lB5VzFDFa",
        "colab": {
          "base_uri": "https://localhost:8080/",
          "height": 394
        },
        "outputId": "59122a00-49e8-4daa-f636-d2e6152b8e96"
      },
      "execution_count": 17,
      "outputs": [
        {
          "output_type": "execute_result",
          "data": {
            "text/plain": [
              "        Score  Score_    Sum\n",
              "symbol                      \n",
              "SND     49.30   47.90  97.20\n",
              "GECC    45.60   49.80  95.40\n",
              "TNK     49.00   45.80  94.80\n",
              "STNG    44.75   46.75  91.50\n",
              "PVL     44.90   45.55  90.45\n",
              "LIVE    48.80   40.90  89.70\n",
              "AEL     45.90   43.10  89.00\n",
              "TRMD    44.55   43.65  88.20\n",
              "JOB     49.65   38.20  87.85\n",
              "BMA     48.65   38.70  87.35"
            ],
            "text/html": [
              "\n",
              "  <div id=\"df-c94e1a1d-1e81-4502-aa31-bf48296cdb6d\">\n",
              "    <div class=\"colab-df-container\">\n",
              "      <div>\n",
              "<style scoped>\n",
              "    .dataframe tbody tr th:only-of-type {\n",
              "        vertical-align: middle;\n",
              "    }\n",
              "\n",
              "    .dataframe tbody tr th {\n",
              "        vertical-align: top;\n",
              "    }\n",
              "\n",
              "    .dataframe thead th {\n",
              "        text-align: right;\n",
              "    }\n",
              "</style>\n",
              "<table border=\"1\" class=\"dataframe\">\n",
              "  <thead>\n",
              "    <tr style=\"text-align: right;\">\n",
              "      <th></th>\n",
              "      <th>Score</th>\n",
              "      <th>Score_</th>\n",
              "      <th>Sum</th>\n",
              "    </tr>\n",
              "    <tr>\n",
              "      <th>symbol</th>\n",
              "      <th></th>\n",
              "      <th></th>\n",
              "      <th></th>\n",
              "    </tr>\n",
              "  </thead>\n",
              "  <tbody>\n",
              "    <tr>\n",
              "      <th>SND</th>\n",
              "      <td>49.30</td>\n",
              "      <td>47.90</td>\n",
              "      <td>97.20</td>\n",
              "    </tr>\n",
              "    <tr>\n",
              "      <th>GECC</th>\n",
              "      <td>45.60</td>\n",
              "      <td>49.80</td>\n",
              "      <td>95.40</td>\n",
              "    </tr>\n",
              "    <tr>\n",
              "      <th>TNK</th>\n",
              "      <td>49.00</td>\n",
              "      <td>45.80</td>\n",
              "      <td>94.80</td>\n",
              "    </tr>\n",
              "    <tr>\n",
              "      <th>STNG</th>\n",
              "      <td>44.75</td>\n",
              "      <td>46.75</td>\n",
              "      <td>91.50</td>\n",
              "    </tr>\n",
              "    <tr>\n",
              "      <th>PVL</th>\n",
              "      <td>44.90</td>\n",
              "      <td>45.55</td>\n",
              "      <td>90.45</td>\n",
              "    </tr>\n",
              "    <tr>\n",
              "      <th>LIVE</th>\n",
              "      <td>48.80</td>\n",
              "      <td>40.90</td>\n",
              "      <td>89.70</td>\n",
              "    </tr>\n",
              "    <tr>\n",
              "      <th>AEL</th>\n",
              "      <td>45.90</td>\n",
              "      <td>43.10</td>\n",
              "      <td>89.00</td>\n",
              "    </tr>\n",
              "    <tr>\n",
              "      <th>TRMD</th>\n",
              "      <td>44.55</td>\n",
              "      <td>43.65</td>\n",
              "      <td>88.20</td>\n",
              "    </tr>\n",
              "    <tr>\n",
              "      <th>JOB</th>\n",
              "      <td>49.65</td>\n",
              "      <td>38.20</td>\n",
              "      <td>87.85</td>\n",
              "    </tr>\n",
              "    <tr>\n",
              "      <th>BMA</th>\n",
              "      <td>48.65</td>\n",
              "      <td>38.70</td>\n",
              "      <td>87.35</td>\n",
              "    </tr>\n",
              "  </tbody>\n",
              "</table>\n",
              "</div>\n",
              "      <button class=\"colab-df-convert\" onclick=\"convertToInteractive('df-c94e1a1d-1e81-4502-aa31-bf48296cdb6d')\"\n",
              "              title=\"Convert this dataframe to an interactive table.\"\n",
              "              style=\"display:none;\">\n",
              "        \n",
              "  <svg xmlns=\"http://www.w3.org/2000/svg\" height=\"24px\"viewBox=\"0 0 24 24\"\n",
              "       width=\"24px\">\n",
              "    <path d=\"M0 0h24v24H0V0z\" fill=\"none\"/>\n",
              "    <path d=\"M18.56 5.44l.94 2.06.94-2.06 2.06-.94-2.06-.94-.94-2.06-.94 2.06-2.06.94zm-11 1L8.5 8.5l.94-2.06 2.06-.94-2.06-.94L8.5 2.5l-.94 2.06-2.06.94zm10 10l.94 2.06.94-2.06 2.06-.94-2.06-.94-.94-2.06-.94 2.06-2.06.94z\"/><path d=\"M17.41 7.96l-1.37-1.37c-.4-.4-.92-.59-1.43-.59-.52 0-1.04.2-1.43.59L10.3 9.45l-7.72 7.72c-.78.78-.78 2.05 0 2.83L4 21.41c.39.39.9.59 1.41.59.51 0 1.02-.2 1.41-.59l7.78-7.78 2.81-2.81c.8-.78.8-2.07 0-2.86zM5.41 20L4 18.59l7.72-7.72 1.47 1.35L5.41 20z\"/>\n",
              "  </svg>\n",
              "      </button>\n",
              "      \n",
              "  <style>\n",
              "    .colab-df-container {\n",
              "      display:flex;\n",
              "      flex-wrap:wrap;\n",
              "      gap: 12px;\n",
              "    }\n",
              "\n",
              "    .colab-df-convert {\n",
              "      background-color: #E8F0FE;\n",
              "      border: none;\n",
              "      border-radius: 50%;\n",
              "      cursor: pointer;\n",
              "      display: none;\n",
              "      fill: #1967D2;\n",
              "      height: 32px;\n",
              "      padding: 0 0 0 0;\n",
              "      width: 32px;\n",
              "    }\n",
              "\n",
              "    .colab-df-convert:hover {\n",
              "      background-color: #E2EBFA;\n",
              "      box-shadow: 0px 1px 2px rgba(60, 64, 67, 0.3), 0px 1px 3px 1px rgba(60, 64, 67, 0.15);\n",
              "      fill: #174EA6;\n",
              "    }\n",
              "\n",
              "    [theme=dark] .colab-df-convert {\n",
              "      background-color: #3B4455;\n",
              "      fill: #D2E3FC;\n",
              "    }\n",
              "\n",
              "    [theme=dark] .colab-df-convert:hover {\n",
              "      background-color: #434B5C;\n",
              "      box-shadow: 0px 1px 3px 1px rgba(0, 0, 0, 0.15);\n",
              "      filter: drop-shadow(0px 1px 2px rgba(0, 0, 0, 0.3));\n",
              "      fill: #FFFFFF;\n",
              "    }\n",
              "  </style>\n",
              "\n",
              "      <script>\n",
              "        const buttonEl =\n",
              "          document.querySelector('#df-c94e1a1d-1e81-4502-aa31-bf48296cdb6d button.colab-df-convert');\n",
              "        buttonEl.style.display =\n",
              "          google.colab.kernel.accessAllowed ? 'block' : 'none';\n",
              "\n",
              "        async function convertToInteractive(key) {\n",
              "          const element = document.querySelector('#df-c94e1a1d-1e81-4502-aa31-bf48296cdb6d');\n",
              "          const dataTable =\n",
              "            await google.colab.kernel.invokeFunction('convertToInteractive',\n",
              "                                                     [key], {});\n",
              "          if (!dataTable) return;\n",
              "\n",
              "          const docLinkHtml = 'Like what you see? Visit the ' +\n",
              "            '<a target=\"_blank\" href=https://colab.research.google.com/notebooks/data_table.ipynb>data table notebook</a>'\n",
              "            + ' to learn more about interactive tables.';\n",
              "          element.innerHTML = '';\n",
              "          dataTable['output_type'] = 'display_data';\n",
              "          await google.colab.output.renderOutput(dataTable, element);\n",
              "          const docLink = document.createElement('div');\n",
              "          docLink.innerHTML = docLinkHtml;\n",
              "          element.appendChild(docLink);\n",
              "        }\n",
              "      </script>\n",
              "    </div>\n",
              "  </div>\n",
              "  "
            ]
          },
          "metadata": {},
          "execution_count": 17
        }
      ]
    },
    {
      "cell_type": "markdown",
      "source": [
        "#### 가치투자 4대장 콤포\n",
        "- 슈퍼가치전략 : PER, PBR, PCR, PSR 지표를 섞어서 사용"
      ],
      "metadata": {
        "id": "NMV3eetnFM3A"
      }
    },
    {
      "cell_type": "code",
      "source": [
        "terms = fs.set_terms(trade_start='2011Q1', trade_end='2021Q1') # 2011년 1분기 ~ 2021년 1분기\n",
        "terms"
      ],
      "metadata": {
        "id": "vNB7aBI5FlX7",
        "colab": {
          "base_uri": "https://localhost:8080/"
        },
        "outputId": "c9c2789c-91fd-45ae-9dd7-c00487e46eb6"
      },
      "execution_count": 18,
      "outputs": [
        {
          "output_type": "execute_result",
          "data": {
            "text/plain": [
              "Index(['2010Q4', '2011Q1', '2011Q2', '2011Q3', '2011Q4', '2012Q1', '2012Q2',\n",
              "       '2012Q3', '2012Q4', '2013Q1', '2013Q2', '2013Q3', '2013Q4', '2014Q1',\n",
              "       '2014Q2', '2014Q3', '2014Q4', '2015Q1', '2015Q2', '2015Q3', '2015Q4',\n",
              "       '2016Q1', '2016Q2', '2016Q3', '2016Q4', '2017Q1', '2017Q2', '2017Q3',\n",
              "       '2017Q4', '2018Q1', '2018Q2', '2018Q3', '2018Q4', '2019Q1', '2019Q2',\n",
              "       '2019Q3', '2019Q4', '2020Q1', '2020Q2', '2020Q3', '2020Q4'],\n",
              "      dtype='object')"
            ]
          },
          "metadata": {},
          "execution_count": 18
        }
      ]
    },
    {
      "cell_type": "code",
      "source": [
        "data = {}\n",
        "for t in terms:\n",
        "  data[t] = fs.fn_consolidated(otp='16486230601099712210', term=t)"
      ],
      "metadata": {
        "id": "OmiMFBCBFxoW",
        "colab": {
          "base_uri": "https://localhost:8080/"
        },
        "outputId": "a34a9393-ed0a-47ed-bccb-125f55f88811"
      },
      "execution_count": 19,
      "outputs": [
        {
          "output_type": "stream",
          "name": "stdout",
          "text": [
            "2010Q4...OK\n",
            "2011Q1...OK\n",
            "2011Q2...OK\n",
            "2011Q3...OK\n",
            "2011Q4...OK\n",
            "2012Q1...OK\n",
            "2012Q2...OK\n",
            "2012Q3...OK\n",
            "2012Q4...OK\n",
            "2013Q1...OK\n",
            "2013Q2...OK\n",
            "2013Q3...OK\n",
            "2013Q4...OK\n",
            "2014Q1...OK\n",
            "2014Q2...OK\n",
            "2014Q3...OK\n",
            "2014Q4...OK\n",
            "2015Q1...OK\n",
            "2015Q2...OK\n",
            "2015Q3...OK\n",
            "2015Q4...OK\n",
            "2016Q1...OK\n",
            "2016Q2...OK\n",
            "2016Q3...OK\n",
            "2016Q4...OK\n",
            "2017Q1...OK\n",
            "2017Q2...OK\n",
            "2017Q3...OK\n",
            "2017Q4...OK\n",
            "2018Q1...OK\n",
            "2018Q2...OK\n",
            "2018Q3...OK\n",
            "2018Q4...OK\n",
            "2019Q1...OK\n",
            "2019Q2...OK\n",
            "2019Q3...OK\n",
            "2019Q4...OK\n",
            "2020Q1...OK\n",
            "2020Q2...OK\n",
            "2020Q3...OK\n",
            "2020Q4...OK\n"
          ]
        }
      ]
    },
    {
      "cell_type": "markdown",
      "source": [
        "#### 시가총액 PER, PBR, PSR, PCR 계산\n",
        "- 주가는 모두 3개월 후 주가(Price_M3)를 이용"
      ],
      "metadata": {
        "id": "GfMErIqAF9h0"
      }
    },
    {
      "cell_type": "code",
      "source": [
        " for t in terms:\n",
        "  data[t]['Market Cap'] = data[t]['Price_M3'] * data[t]['Shares'] # 시가 총액 계산\n",
        "  data[t]['PER'] = data[t]['Price_M3'] / data[t]['EPS']\n",
        "  data[t]['PBR'] = data[t]['Price_M3'] / (data[t]['Shareholders Equity'] / data[t]['Shares'])\n",
        "  data[t]['PSR'] = data[t]['Price_M3'] / (data[t]['Revenue'] / data[t]['Shares'])\n",
        "  data[t]['PCR'] = data[t]['Price_M3'] / ((data[t]['Net Income'] + data[t]['Depreciation']) / data[t]['Shares'])"
      ],
      "metadata": {
        "id": "R_U7-iM_GE3_"
      },
      "execution_count": 20,
      "outputs": []
    },
    {
      "cell_type": "code",
      "source": [
        "data['2020Q4'].sort_values(by='Market Cap', ascending=False).head() #시가총액을 기준으로 내림차순"
      ],
      "metadata": {
        "id": "B_FMnz8vG_-3",
        "colab": {
          "base_uri": "https://localhost:8080/",
          "height": 267
        },
        "outputId": "f1be558f-f42f-4be3-a184-b37318be4375"
      },
      "execution_count": 21,
      "outputs": [
        {
          "output_type": "execute_result",
          "data": {
            "text/plain": [
              "          term   Revenue      COGS  Gross Profit     SG&A  Operating Income  \\\n",
              "symbol                                                                        \n",
              "AAPL    2020Q4  294239.0  179823.0      114416.0  20350.0           74253.0   \n",
              "MSFT    2020Q4  153284.0   48510.0      104774.0  24693.0           60155.0   \n",
              "AMZN    2020Q4  386064.0  233307.0      152757.0  87194.0           22899.0   \n",
              "GOOGL   2020Q4  182527.0   84732.0       97795.0  28998.0           41224.0   \n",
              "GOOG    2020Q4  182528.0   84732.0       97796.0  28998.0           41224.0   \n",
              "\n",
              "        Net Income      EPS   EBITDA     EBIT  ...                  name  \\\n",
              "symbol                                         ...                         \n",
              "AAPL       63930.0   3.7175  85508.0  74253.0  ...             Apple Inc   \n",
              "MSFT       51310.0   6.7800  72183.0  60155.0  ...        Microsoft Corp   \n",
              "AMZN       21331.0  42.3000  47654.0  22899.0  ...        Amazon.com Inc   \n",
              "GOOGL      40269.0  59.2600  54921.0  41224.0  ...  Alphabet Inc Class A   \n",
              "GOOG       40269.0  59.0200  54922.0  41224.0  ...  Alphabet Inc Class C   \n",
              "\n",
              "            name_kr                  sector                        industry  \\\n",
              "symbol                                                                        \n",
              "AAPL             애플              Technology            Consumer Electronics   \n",
              "MSFT        마이크로소프트              Technology         Software Infrastructure   \n",
              "AMZN          아마존닷컴       Consumer Cyclical                 Internet Retail   \n",
              "GOOGL   알파벳 Class A  Communication Services  Internet Content & Information   \n",
              "GOOG    알파벳 Class C  Communication Services  Internet Content & Information   \n",
              "\n",
              "        avg_volume    Market Cap        PER        PBR        PSR        PCR  \n",
              "symbol                                                                        \n",
              "AAPL     186217000  2.068610e+06  32.858104  31.236565   7.030374  27.641914  \n",
              "MSFT      33185700  1.781242e+06  34.774336  13.677035  11.620537  28.122807  \n",
              "AMZN       5822800  1.553228e+06  73.146099  16.629140   4.023240  33.343956  \n",
              "GOOGL      2787070  1.404197e+06  34.804590   6.309748   7.693090  26.020024  \n",
              "GOOG       2618030  1.398394e+06  35.049644   6.283674   7.661257  25.912498  \n",
              "\n",
              "[5 rows x 43 columns]"
            ],
            "text/html": [
              "\n",
              "  <div id=\"df-a1b30c76-f10e-495c-a163-27113b5257b9\">\n",
              "    <div class=\"colab-df-container\">\n",
              "      <div>\n",
              "<style scoped>\n",
              "    .dataframe tbody tr th:only-of-type {\n",
              "        vertical-align: middle;\n",
              "    }\n",
              "\n",
              "    .dataframe tbody tr th {\n",
              "        vertical-align: top;\n",
              "    }\n",
              "\n",
              "    .dataframe thead th {\n",
              "        text-align: right;\n",
              "    }\n",
              "</style>\n",
              "<table border=\"1\" class=\"dataframe\">\n",
              "  <thead>\n",
              "    <tr style=\"text-align: right;\">\n",
              "      <th></th>\n",
              "      <th>term</th>\n",
              "      <th>Revenue</th>\n",
              "      <th>COGS</th>\n",
              "      <th>Gross Profit</th>\n",
              "      <th>SG&amp;A</th>\n",
              "      <th>Operating Income</th>\n",
              "      <th>Net Income</th>\n",
              "      <th>EPS</th>\n",
              "      <th>EBITDA</th>\n",
              "      <th>EBIT</th>\n",
              "      <th>...</th>\n",
              "      <th>name</th>\n",
              "      <th>name_kr</th>\n",
              "      <th>sector</th>\n",
              "      <th>industry</th>\n",
              "      <th>avg_volume</th>\n",
              "      <th>Market Cap</th>\n",
              "      <th>PER</th>\n",
              "      <th>PBR</th>\n",
              "      <th>PSR</th>\n",
              "      <th>PCR</th>\n",
              "    </tr>\n",
              "    <tr>\n",
              "      <th>symbol</th>\n",
              "      <th></th>\n",
              "      <th></th>\n",
              "      <th></th>\n",
              "      <th></th>\n",
              "      <th></th>\n",
              "      <th></th>\n",
              "      <th></th>\n",
              "      <th></th>\n",
              "      <th></th>\n",
              "      <th></th>\n",
              "      <th></th>\n",
              "      <th></th>\n",
              "      <th></th>\n",
              "      <th></th>\n",
              "      <th></th>\n",
              "      <th></th>\n",
              "      <th></th>\n",
              "      <th></th>\n",
              "      <th></th>\n",
              "      <th></th>\n",
              "      <th></th>\n",
              "    </tr>\n",
              "  </thead>\n",
              "  <tbody>\n",
              "    <tr>\n",
              "      <th>AAPL</th>\n",
              "      <td>2020Q4</td>\n",
              "      <td>294239.0</td>\n",
              "      <td>179823.0</td>\n",
              "      <td>114416.0</td>\n",
              "      <td>20350.0</td>\n",
              "      <td>74253.0</td>\n",
              "      <td>63930.0</td>\n",
              "      <td>3.7175</td>\n",
              "      <td>85508.0</td>\n",
              "      <td>74253.0</td>\n",
              "      <td>...</td>\n",
              "      <td>Apple Inc</td>\n",
              "      <td>애플</td>\n",
              "      <td>Technology</td>\n",
              "      <td>Consumer Electronics</td>\n",
              "      <td>186217000</td>\n",
              "      <td>2.068610e+06</td>\n",
              "      <td>32.858104</td>\n",
              "      <td>31.236565</td>\n",
              "      <td>7.030374</td>\n",
              "      <td>27.641914</td>\n",
              "    </tr>\n",
              "    <tr>\n",
              "      <th>MSFT</th>\n",
              "      <td>2020Q4</td>\n",
              "      <td>153284.0</td>\n",
              "      <td>48510.0</td>\n",
              "      <td>104774.0</td>\n",
              "      <td>24693.0</td>\n",
              "      <td>60155.0</td>\n",
              "      <td>51310.0</td>\n",
              "      <td>6.7800</td>\n",
              "      <td>72183.0</td>\n",
              "      <td>60155.0</td>\n",
              "      <td>...</td>\n",
              "      <td>Microsoft Corp</td>\n",
              "      <td>마이크로소프트</td>\n",
              "      <td>Technology</td>\n",
              "      <td>Software Infrastructure</td>\n",
              "      <td>33185700</td>\n",
              "      <td>1.781242e+06</td>\n",
              "      <td>34.774336</td>\n",
              "      <td>13.677035</td>\n",
              "      <td>11.620537</td>\n",
              "      <td>28.122807</td>\n",
              "    </tr>\n",
              "    <tr>\n",
              "      <th>AMZN</th>\n",
              "      <td>2020Q4</td>\n",
              "      <td>386064.0</td>\n",
              "      <td>233307.0</td>\n",
              "      <td>152757.0</td>\n",
              "      <td>87194.0</td>\n",
              "      <td>22899.0</td>\n",
              "      <td>21331.0</td>\n",
              "      <td>42.3000</td>\n",
              "      <td>47654.0</td>\n",
              "      <td>22899.0</td>\n",
              "      <td>...</td>\n",
              "      <td>Amazon.com Inc</td>\n",
              "      <td>아마존닷컴</td>\n",
              "      <td>Consumer Cyclical</td>\n",
              "      <td>Internet Retail</td>\n",
              "      <td>5822800</td>\n",
              "      <td>1.553228e+06</td>\n",
              "      <td>73.146099</td>\n",
              "      <td>16.629140</td>\n",
              "      <td>4.023240</td>\n",
              "      <td>33.343956</td>\n",
              "    </tr>\n",
              "    <tr>\n",
              "      <th>GOOGL</th>\n",
              "      <td>2020Q4</td>\n",
              "      <td>182527.0</td>\n",
              "      <td>84732.0</td>\n",
              "      <td>97795.0</td>\n",
              "      <td>28998.0</td>\n",
              "      <td>41224.0</td>\n",
              "      <td>40269.0</td>\n",
              "      <td>59.2600</td>\n",
              "      <td>54921.0</td>\n",
              "      <td>41224.0</td>\n",
              "      <td>...</td>\n",
              "      <td>Alphabet Inc Class A</td>\n",
              "      <td>알파벳 Class A</td>\n",
              "      <td>Communication Services</td>\n",
              "      <td>Internet Content &amp; Information</td>\n",
              "      <td>2787070</td>\n",
              "      <td>1.404197e+06</td>\n",
              "      <td>34.804590</td>\n",
              "      <td>6.309748</td>\n",
              "      <td>7.693090</td>\n",
              "      <td>26.020024</td>\n",
              "    </tr>\n",
              "    <tr>\n",
              "      <th>GOOG</th>\n",
              "      <td>2020Q4</td>\n",
              "      <td>182528.0</td>\n",
              "      <td>84732.0</td>\n",
              "      <td>97796.0</td>\n",
              "      <td>28998.0</td>\n",
              "      <td>41224.0</td>\n",
              "      <td>40269.0</td>\n",
              "      <td>59.0200</td>\n",
              "      <td>54922.0</td>\n",
              "      <td>41224.0</td>\n",
              "      <td>...</td>\n",
              "      <td>Alphabet Inc Class C</td>\n",
              "      <td>알파벳 Class C</td>\n",
              "      <td>Communication Services</td>\n",
              "      <td>Internet Content &amp; Information</td>\n",
              "      <td>2618030</td>\n",
              "      <td>1.398394e+06</td>\n",
              "      <td>35.049644</td>\n",
              "      <td>6.283674</td>\n",
              "      <td>7.661257</td>\n",
              "      <td>25.912498</td>\n",
              "    </tr>\n",
              "  </tbody>\n",
              "</table>\n",
              "<p>5 rows × 43 columns</p>\n",
              "</div>\n",
              "      <button class=\"colab-df-convert\" onclick=\"convertToInteractive('df-a1b30c76-f10e-495c-a163-27113b5257b9')\"\n",
              "              title=\"Convert this dataframe to an interactive table.\"\n",
              "              style=\"display:none;\">\n",
              "        \n",
              "  <svg xmlns=\"http://www.w3.org/2000/svg\" height=\"24px\"viewBox=\"0 0 24 24\"\n",
              "       width=\"24px\">\n",
              "    <path d=\"M0 0h24v24H0V0z\" fill=\"none\"/>\n",
              "    <path d=\"M18.56 5.44l.94 2.06.94-2.06 2.06-.94-2.06-.94-.94-2.06-.94 2.06-2.06.94zm-11 1L8.5 8.5l.94-2.06 2.06-.94-2.06-.94L8.5 2.5l-.94 2.06-2.06.94zm10 10l.94 2.06.94-2.06 2.06-.94-2.06-.94-.94-2.06-.94 2.06-2.06.94z\"/><path d=\"M17.41 7.96l-1.37-1.37c-.4-.4-.92-.59-1.43-.59-.52 0-1.04.2-1.43.59L10.3 9.45l-7.72 7.72c-.78.78-.78 2.05 0 2.83L4 21.41c.39.39.9.59 1.41.59.51 0 1.02-.2 1.41-.59l7.78-7.78 2.81-2.81c.8-.78.8-2.07 0-2.86zM5.41 20L4 18.59l7.72-7.72 1.47 1.35L5.41 20z\"/>\n",
              "  </svg>\n",
              "      </button>\n",
              "      \n",
              "  <style>\n",
              "    .colab-df-container {\n",
              "      display:flex;\n",
              "      flex-wrap:wrap;\n",
              "      gap: 12px;\n",
              "    }\n",
              "\n",
              "    .colab-df-convert {\n",
              "      background-color: #E8F0FE;\n",
              "      border: none;\n",
              "      border-radius: 50%;\n",
              "      cursor: pointer;\n",
              "      display: none;\n",
              "      fill: #1967D2;\n",
              "      height: 32px;\n",
              "      padding: 0 0 0 0;\n",
              "      width: 32px;\n",
              "    }\n",
              "\n",
              "    .colab-df-convert:hover {\n",
              "      background-color: #E2EBFA;\n",
              "      box-shadow: 0px 1px 2px rgba(60, 64, 67, 0.3), 0px 1px 3px 1px rgba(60, 64, 67, 0.15);\n",
              "      fill: #174EA6;\n",
              "    }\n",
              "\n",
              "    [theme=dark] .colab-df-convert {\n",
              "      background-color: #3B4455;\n",
              "      fill: #D2E3FC;\n",
              "    }\n",
              "\n",
              "    [theme=dark] .colab-df-convert:hover {\n",
              "      background-color: #434B5C;\n",
              "      box-shadow: 0px 1px 3px 1px rgba(0, 0, 0, 0.15);\n",
              "      filter: drop-shadow(0px 1px 2px rgba(0, 0, 0, 0.3));\n",
              "      fill: #FFFFFF;\n",
              "    }\n",
              "  </style>\n",
              "\n",
              "      <script>\n",
              "        const buttonEl =\n",
              "          document.querySelector('#df-a1b30c76-f10e-495c-a163-27113b5257b9 button.colab-df-convert');\n",
              "        buttonEl.style.display =\n",
              "          google.colab.kernel.accessAllowed ? 'block' : 'none';\n",
              "\n",
              "        async function convertToInteractive(key) {\n",
              "          const element = document.querySelector('#df-a1b30c76-f10e-495c-a163-27113b5257b9');\n",
              "          const dataTable =\n",
              "            await google.colab.kernel.invokeFunction('convertToInteractive',\n",
              "                                                     [key], {});\n",
              "          if (!dataTable) return;\n",
              "\n",
              "          const docLinkHtml = 'Like what you see? Visit the ' +\n",
              "            '<a target=\"_blank\" href=https://colab.research.google.com/notebooks/data_table.ipynb>data table notebook</a>'\n",
              "            + ' to learn more about interactive tables.';\n",
              "          element.innerHTML = '';\n",
              "          dataTable['output_type'] = 'display_data';\n",
              "          await google.colab.output.renderOutput(dataTable, element);\n",
              "          const docLink = document.createElement('div');\n",
              "          docLink.innerHTML = docLinkHtml;\n",
              "          element.appendChild(docLink);\n",
              "        }\n",
              "      </script>\n",
              "    </div>\n",
              "  </div>\n",
              "  "
            ]
          },
          "metadata": {},
          "execution_count": 21
        }
      ]
    },
    {
      "cell_type": "code",
      "source": [
        "# 소형주를 뽑아내기 위해 시가총액 기준으로 필터링하고 PER, PBR, PSR, PCR의 상대 점수를 구한다.\n",
        "# 매겨진 점수를 각각 s1~5까지 딕셔너리에 저장\n",
        "s1 = {}\n",
        "s2 = {}\n",
        "s3 = {}\n",
        "s4 = {}\n",
        "s5 = {}\n",
        "for t in terms:\n",
        "  s1[t] = fs.fn_filter(data[t], by='Market Cap', floor=0, n=1000, asc=True) # 시가 총액 하위 1000개 종목 선정\n",
        "  s2[t] = fs.fn_score(data[t], by='PER', method='relative', floor=1, asc=True)\n",
        "  s3[t] = fs.fn_score(data[t], by='PBR', method='relative', floor=.1, asc=True)\n",
        "  s4[t] = fs.fn_score(data[t], by='PSR', method='relative', floor=.1, asc=True)\n",
        "  s5[t] = fs.fn_score(data[t], by='PCR', method='relative', floor=.1, asc=True)"
      ],
      "metadata": {
        "id": "uzzv-cwwHQYg"
      },
      "execution_count": 22,
      "outputs": []
    },
    {
      "cell_type": "code",
      "source": [
        "s6 = {}\n",
        "for t in terms:\n",
        "  s6[t] = fs.combine_score(s2[t], s3[t], s4[t], s5[t]) # 지표 점수 합산"
      ],
      "metadata": {
        "id": "vSHx8uz0H97k"
      },
      "execution_count": 23,
      "outputs": []
    },
    {
      "cell_type": "code",
      "source": [
        "s = {}\n",
        "signal = {}\n",
        "for t in terms:\n",
        "  s[t] = fs.combine_signal(s6[t], s1[t], how='and', n=50) # 상대점수 합산 후 하위 50개 종목 선정\n",
        "  signal[t] = list(s[t].index) # 선정된 종목 저장"
      ],
      "metadata": {
        "id": "NB5Fl_TlIW9d"
      },
      "execution_count": 24,
      "outputs": []
    },
    {
      "cell_type": "code",
      "source": [
        "df = fs.backtest(signal=signal, data=data, m=3, cost=.001)"
      ],
      "metadata": {
        "id": "MDoSqpr2YP05",
        "colab": {
          "base_uri": "https://localhost:8080/"
        },
        "outputId": "ecefbeda-acf9-4c95-baed-af381275c017"
      },
      "execution_count": 25,
      "outputs": [
        {
          "output_type": "stream",
          "name": "stdout",
          "text": [
            "CAGR: 11.05%\n",
            "Accumulated return: 185.55%\n",
            "Investment period: 10.0yrs\n",
            "Sharpe ratio: 0.57\n",
            "MDD: -51.92%\n"
          ]
        }
      ]
    },
    {
      "cell_type": "code",
      "source": [
        "fs.draw_return(df) # 기간별 수익률 그래프 그려보기"
      ],
      "metadata": {
        "id": "FKASeq3VYVNy",
        "colab": {
          "base_uri": "https://localhost:8080/",
          "height": 359
        },
        "outputId": "4205ee34-b784-41f9-9034-06a6c9a69387"
      },
      "execution_count": 26,
      "outputs": [
        {
          "output_type": "display_data",
          "data": {
            "text/plain": [
              "<Figure size 720x360 with 2 Axes>"
            ],
            "image/png": "[encoded data removed]"
          },
          "metadata": {
            "needs_background": "light"
          }
        }
      ]
    },
    {
      "cell_type": "code",
      "source": [
        "# 4대장 + 소형주 전략 코드 모아쓰기\n",
        "terms = fs.set_terms(trade_start='2011Q1', trade_end='2021Q1')\n",
        "data = {}\n",
        "for t in terms:\n",
        "  data[t] = fs.fn_consolidated(otp='16486230601099712210', term=t)\n",
        "\n",
        "s1, s2, s3, s4, s5, s6 = {}, {}, {}, {}, {}, {}\n",
        "s, signal = {}, {}\n",
        "for t in terms:\n",
        "  data[t]['Market Cap'] = data[t]['Price_M3'] * data[t]['Shares'] # 시가 총액 계산\n",
        "  data[t]['PER'] = data[t]['Price_M3'] / data[t]['EPS']\n",
        "  data[t]['PBR'] = data[t]['Price_M3'] / (data[t]['Shareholders Equity'] / data[t]['Shares'])\n",
        "  data[t]['PSR'] = data[t]['Price_M3'] / (data[t]['Revenue'] / data[t]['Shares'])\n",
        "  data[t]['PCR'] = data[t]['Price_M3'] / ((data[t]['Net Income'] + data[t]['Depreciation']) / data[t]['Shares'])\n",
        "  s1[t] = fs.fn_filter(data[t], by='Market Cap', floor=0, n=1000, asc=True) # 시가 총액 하위 1000개 종목 선정\n",
        "  s2[t] = fs.fn_score(data[t], by='PER', method='relative', floor=1, asc=True)\n",
        "  s3[t] = fs.fn_score(data[t], by='PBR', method='relative', floor=.1, asc=True)\n",
        "  s4[t] = fs.fn_score(data[t], by='PSR', method='relative', floor=.1, asc=True)\n",
        "  s5[t] = fs.fn_score(data[t], by='PCR', method='relative', floor=.1, asc=True)\n",
        "  s6[t] = fs.combine_score(s2[t], s3[t], s4[t], s5[t]) # 지표 점수 합산\n",
        "  s[t] = fs.combine_signal(s6[t], s1[t], how='and', n=50) # 상대점수 합산 후 하위 50개 종목 선정)\n",
        "  signal[t] = list(s[t].index)\n",
        "\n",
        "df = fs.backtest(signal=signal, data=data, m=3, cost=.001) # 백테스팅"
      ],
      "metadata": {
        "id": "OlX7R1AMYaN8",
        "colab": {
          "base_uri": "https://localhost:8080/"
        },
        "outputId": "dce8db33-841e-4cea-c7e5-a1098479736e"
      },
      "execution_count": 27,
      "outputs": [
        {
          "output_type": "stream",
          "name": "stdout",
          "text": [
            "2010Q4...OK\n",
            "2011Q1...OK\n",
            "2011Q2...OK\n",
            "2011Q3...OK\n",
            "2011Q4...OK\n",
            "2012Q1...OK\n",
            "2012Q2...OK\n",
            "2012Q3...OK\n",
            "2012Q4...OK\n",
            "2013Q1...OK\n",
            "2013Q2...OK\n",
            "2013Q3...OK\n",
            "2013Q4...OK\n",
            "2014Q1...OK\n",
            "2014Q2...OK\n",
            "2014Q3...OK\n",
            "2014Q4...OK\n",
            "2015Q1...OK\n",
            "2015Q2...OK\n",
            "2015Q3...OK\n",
            "2015Q4...OK\n",
            "2016Q1...OK\n",
            "2016Q2...OK\n",
            "2016Q3...OK\n",
            "2016Q4...OK\n",
            "2017Q1...OK\n",
            "2017Q2...OK\n",
            "2017Q3...OK\n",
            "2017Q4...OK\n",
            "2018Q1...OK\n",
            "2018Q2...OK\n",
            "2018Q3...OK\n",
            "2018Q4...OK\n",
            "2019Q1...OK\n",
            "2019Q2...OK\n",
            "2019Q3...OK\n",
            "2019Q4...OK\n",
            "2020Q1...OK\n",
            "2020Q2...OK\n",
            "2020Q3...OK\n",
            "2020Q4...OK\n",
            "CAGR: 11.05%\n",
            "Accumulated return: 185.55%\n",
            "Investment period: 10.0yrs\n",
            "Sharpe ratio: 0.57\n",
            "MDD: -51.92%\n"
          ]
        }
      ]
    },
    {
      "cell_type": "code",
      "source": [
        "# 4대장 + 대형주 전략 코드 모아쓰기\n",
        "terms = fs.set_terms(trade_start='2011Q1', trade_end='2021Q1')\n",
        "data = {}\n",
        "for t in terms:\n",
        "  data[t] = fs.fn_consolidated(otp='16486230601099712210', term=t)\n",
        "\n",
        "s1, s2, s3, s4, s5, s6 = {}, {}, {}, {}, {}, {}\n",
        "s, signal = {}, {}\n",
        "for t in terms:\n",
        "  data[t]['Market Cap'] = data[t]['Price_M3'] * data[t]['Shares'] # 시가 총액 계산\n",
        "  data[t]['PER'] = data[t]['Price_M3'] / data[t]['EPS']\n",
        "  data[t]['PBR'] = data[t]['Price_M3'] / (data[t]['Shareholders Equity'] / data[t]['Shares'])\n",
        "  data[t]['PSR'] = data[t]['Price_M3'] / (data[t]['Revenue'] / data[t]['Shares'])\n",
        "  data[t]['PCR'] = data[t]['Price_M3'] / ((data[t]['Net Income'] + data[t]['Depreciation']) / data[t]['Shares'])\n",
        "  s1[t] = fs.fn_filter(data[t], by='Market Cap', floor=0, n=1000, asc=False) # 시가 총액 상위 1000개 종목 선정\n",
        "  s2[t] = fs.fn_score(data[t], by='PER', method='relative', floor=1, asc=True)\n",
        "  s3[t] = fs.fn_score(data[t], by='PBR', method='relative', floor=.1, asc=True)\n",
        "  s4[t] = fs.fn_score(data[t], by='PSR', method='relative', floor=.1, asc=True)\n",
        "  s5[t] = fs.fn_score(data[t], by='PCR', method='relative', floor=.1, asc=True)\n",
        "  s6[t] = fs.combine_score(s2[t], s3[t], s4[t], s5[t]) # 지표 점수 합산\n",
        "  s[t] = fs.combine_signal(s6[t], s1[t], how='and', n=50) # 상대점수 합산 후 하위 50개 종목 선정)\n",
        "  signal[t] = list(s[t].index)\n",
        "\n",
        "df = fs.backtest(signal=signal, data=data, m=3, cost=.001) # 백테스팅"
      ],
      "metadata": {
        "id": "eiBE2zNfYx5g",
        "colab": {
          "base_uri": "https://localhost:8080/"
        },
        "outputId": "5fd99f00-d722-44c2-e605-214b7067520a"
      },
      "execution_count": 28,
      "outputs": [
        {
          "output_type": "stream",
          "name": "stdout",
          "text": [
            "2010Q4...OK\n",
            "2011Q1...OK\n",
            "2011Q2...OK\n",
            "2011Q3...OK\n",
            "2011Q4...OK\n",
            "2012Q1...OK\n",
            "2012Q2...OK\n",
            "2012Q3...OK\n",
            "2012Q4...OK\n",
            "2013Q1...OK\n",
            "2013Q2...OK\n",
            "2013Q3...OK\n",
            "2013Q4...OK\n",
            "2014Q1...OK\n",
            "2014Q2...OK\n",
            "2014Q3...OK\n",
            "2014Q4...OK\n",
            "2015Q1...OK\n",
            "2015Q2...OK\n",
            "2015Q3...OK\n",
            "2015Q4...OK\n",
            "2016Q1...OK\n",
            "2016Q2...OK\n",
            "2016Q3...OK\n",
            "2016Q4...OK\n",
            "2017Q1...OK\n",
            "2017Q2...OK\n",
            "2017Q3...OK\n",
            "2017Q4...OK\n",
            "2018Q1...OK\n",
            "2018Q2...OK\n",
            "2018Q3...OK\n",
            "2018Q4...OK\n",
            "2019Q1...OK\n",
            "2019Q2...OK\n",
            "2019Q3...OK\n",
            "2019Q4...OK\n",
            "2020Q1...OK\n",
            "2020Q2...OK\n",
            "2020Q3...OK\n",
            "2020Q4...OK\n",
            "CAGR: 5.06%\n",
            "Accumulated return: 63.91%\n",
            "Investment period: 10.0yrs\n",
            "Sharpe ratio: 0.26\n",
            "MDD: -49.45%\n"
          ]
        }
      ]
    },
    {
      "cell_type": "markdown",
      "source": [
        "### 실적 대비 기업가치, EV/EBITDA & EV/Sales\n",
        "- 회사의 주식을 사는데 필요한 비용은 지분가치(Equity Value)이고, 지분가치와 더불어 부채까지 해결하는데 필요한 비용이 진정한 기업가치(Enterprise Value)이다.  \n",
        "- EV는 원래 주식투자보다 M&A 세계에서 사용하는 개념으로 **기업을 인수하는데 들어가는 총비용**을 의미한다.  \n",
        "- EV 산식은 다음과 같다.  \n",
        "> EV = 시가총액 + 순차입금 = 시가총액 + (차입금 - 현금성자산)\n",
        "\n",
        "EV는 EV/EBITDA, EV/Sales 등 다른 재무제표 지표와 결합해 멀티플을 만들어 기업가치를 상대평가 하는데 이용된다.\n",
        "\n",
        "EV/EBITDA\n",
        "- **당기순이익에서 이자, 세금, 감가상각비를 제외하기 전 영업이익**을 뜻하며, 재무제표의 영업이익항목에 감가상각비를 더한 금액이다.\n",
        ">EV/EVITDA = $\\frac{EV}{EBITDA}$ = $\\frac{시가총액+차입금}{영업이익+감가상각비}$  \n",
        "매출액대비시가총액(PSR) = $\\frac{시가총액}{매출액}$  \n",
        "EV/Sales = $\\frac{EV}{Sales}$=$\\frac{시가총액+차입금}{매출액}$"
      ],
      "metadata": {
        "id": "_cK6DhsIaVkT"
      }
    },
    {
      "cell_type": "code",
      "source": [
        "df = fs.fn_single(otp='16486230601099712210', symbol='NKE', window='T') # 나이키(NKE) 제무제표 데이터 불러오기"
      ],
      "metadata": {
        "id": "DMPrC0x8a4xr"
      },
      "execution_count": 29,
      "outputs": []
    },
    {
      "cell_type": "code",
      "source": [
        "# EV = 시가총액 + 차입금 - 현금성자산\n",
        "df['Market Cap'] = df['Price'] * df['Shares'] # 시가총액\n",
        "df['EV'] = df['Market Cap'] + df['Long Term Debt'] + df['Current Debt'] - df['Cash & Equivalents'] # EV 계산"
      ],
      "metadata": {
        "id": "D0d3uqcud1WM"
      },
      "execution_count": 30,
      "outputs": []
    },
    {
      "cell_type": "code",
      "source": [
        "df['EV/EBITDA'] = df['EV'] / df['EBITDA']"
      ],
      "metadata": {
        "id": "2XX2mZ7CfDDP"
      },
      "execution_count": 31,
      "outputs": []
    },
    {
      "cell_type": "code",
      "source": [
        "# EV/EVITDA 와 PER 비교\n",
        "df['PER'] = df['Price'] / df['EPS']\n",
        "fs.draw_chart(df, left='PER', right='EV/EBITDA')"
      ],
      "metadata": {
        "id": "SVqzzkz_mJSO",
        "colab": {
          "base_uri": "https://localhost:8080/",
          "height": 319
        },
        "outputId": "75d2a6d8-1fcb-42b1-d91d-d5feb0cb026c"
      },
      "execution_count": 35,
      "outputs": [
        {
          "output_type": "display_data",
          "data": {
            "text/plain": [
              "<Figure size 720x360 with 2 Axes>"
            ],
            "image/png": "[encoded data removed]"
          },
          "metadata": {
            "needs_background": "light"
          }
        }
      ]
    },
    {
      "cell_type": "markdown",
      "source": [
        "- EV를 계산하고 EV/Salse 추이를 차트로 그려본다.\n",
        "> EV/Sales = EV / 매출액\n",
        "EV/Sales와 PSR 비교 그래프"
      ],
      "metadata": {
        "id": "dw6777rCmVyT"
      }
    },
    {
      "cell_type": "code",
      "source": [
        "df['EV/Sales'] = df['EV'] / df['Revenue'] # EV/Sales 계산\n",
        "df['PSR'] = df['Price'] / (df['Revenue']/df['Shares']) # PSR\n",
        "fs.draw_chart(df, left='PSR', right='EV/Sales') # PSR 대비 EV/Sales 비교"
      ],
      "metadata": {
        "id": "tOKtd2-TnH4K",
        "colab": {
          "base_uri": "https://localhost:8080/",
          "height": 319
        },
        "outputId": "16530c9a-dda5-45d9-d494-d970b9f72ed1"
      },
      "execution_count": 36,
      "outputs": [
        {
          "output_type": "display_data",
          "data": {
            "text/plain": [
              "<Figure size 720x360 with 2 Axes>"
            ],
            "image/png": "[encoded data removed]"
          },
          "metadata": {
            "needs_background": "light"
          }
        }
      ]
    },
    {
      "cell_type": "markdown",
      "source": [
        "#### EV/EVITDA 전략 백테스팅\n",
        "- 분기별로 EV/EVITDA 값이 낮은 순서대로 상위 30개 종목에 투자하는 전략 테스트"
      ],
      "metadata": {
        "id": "j1TOkMeznZEF"
      }
    },
    {
      "cell_type": "code",
      "source": [
        "terms = fs.set_terms(trade_start='2011Q1', trade_end='2021Q1') # 2011년 1분기 ~ 2021년 1분기\n",
        "data = {}\n",
        "for t in terms:\n",
        "  data[t] = fs.fn_consolidated(otp='16486230601099712210', term=t)\n",
        "s, signal = {}, {}\n",
        "for t in terms:\n",
        "  data[t]['Market Cap'] = data[t]['Price_M3'] * data[t]['Shares'] # 분기별 시가총액 계산\n",
        "  data[t]['EV'] = data[t]['Market Cap'] + data[t]['Long Term Debt'] + data[t]['Current Debt'] - data[t]['Cash & Equivalents'] # 분기별 EV 계산\n",
        "  data[t]['EV/EBITDA'] = data[t]['EV'] / data[t]['EBITDA']\n",
        "  data[t].loc[(data[t]['EV'] <= 0) | (data[t]['EBITDA'] <= 0), 'EV/EBITDA'] = float('nan') # EV가 음수 or EBITDA가 음수일 경우 nan으로 처리\n",
        "  s[t] = fs.fn_filter(data[t], by='EV/EBITDA', floor=0, n=30, asc=True) # EV/EVITDA 기준 하위 30개 종목 선정\n",
        "  signal[t] = list(s[t].index)\n",
        "\n",
        "df = fs.backtest(signal=signal, data=data, m=3, cost=.001) # 백 테스트"
      ],
      "metadata": {
        "id": "-csAiWIbn7Cg",
        "colab": {
          "base_uri": "https://localhost:8080/"
        },
        "outputId": "23ca16fc-1770-4a22-cbdc-e458a9edb54d"
      },
      "execution_count": 37,
      "outputs": [
        {
          "output_type": "stream",
          "name": "stdout",
          "text": [
            "2010Q4...OK\n",
            "2011Q1...OK\n",
            "2011Q2...OK\n",
            "2011Q3...OK\n",
            "2011Q4...OK\n",
            "2012Q1...OK\n",
            "2012Q2...OK\n",
            "2012Q3...OK\n",
            "2012Q4...OK\n",
            "2013Q1...OK\n",
            "2013Q2...OK\n",
            "2013Q3...OK\n",
            "2013Q4...OK\n",
            "2014Q1...OK\n",
            "2014Q2...OK\n",
            "2014Q3...OK\n",
            "2014Q4...OK\n",
            "2015Q1...OK\n",
            "2015Q2...OK\n",
            "2015Q3...OK\n",
            "2015Q4...OK\n",
            "2016Q1...OK\n",
            "2016Q2...OK\n",
            "2016Q3...OK\n",
            "2016Q4...OK\n",
            "2017Q1...OK\n",
            "2017Q2...OK\n",
            "2017Q3...OK\n",
            "2017Q4...OK\n",
            "2018Q1...OK\n",
            "2018Q2...OK\n",
            "2018Q3...OK\n",
            "2018Q4...OK\n",
            "2019Q1...OK\n",
            "2019Q2...OK\n",
            "2019Q3...OK\n",
            "2019Q4...OK\n",
            "2020Q1...OK\n",
            "2020Q2...OK\n",
            "2020Q3...OK\n",
            "2020Q4...OK\n",
            "CAGR: 9.48%\n",
            "Accumulated return: 147.56%\n",
            "Investment period: 10.0yrs\n",
            "Sharpe ratio: 0.51\n",
            "MDD: -49.39%\n"
          ]
        }
      ]
    },
    {
      "cell_type": "markdown",
      "source": [
        "EV/Sales 전략 백테스팅\n",
        "- 분기별로 EV/Sales 값이 낮은 순서대로 상위 30개 종목에 투자하는 테스트"
      ],
      "metadata": {
        "id": "nVRPvDX6rY5y"
      }
    },
    {
      "cell_type": "code",
      "source": [
        "fs.draw_return(df) # 기간별 수익률 그래프"
      ],
      "metadata": {
        "id": "S28aLTY9qwCA",
        "colab": {
          "base_uri": "https://localhost:8080/",
          "height": 359
        },
        "outputId": "dd65677b-123c-414e-89b4-eee353394ace"
      },
      "execution_count": 38,
      "outputs": [
        {
          "output_type": "display_data",
          "data": {
            "text/plain": [
              "<Figure size 720x360 with 2 Axes>"
            ],
            "image/png": "[encoded data removed]"
          },
          "metadata": {
            "needs_background": "light"
          }
        }
      ]
    },
    {
      "cell_type": "code",
      "source": [
        "terms = fs.set_terms(trade_start='2011Q1', trade_end='2021Q1') # 2011년 1분기 ~ 2021년 1분기\n",
        "data = {}\n",
        "for t in terms:\n",
        "  data[t] = fs.fn_consolidated(otp='16486230601099712210', term=t)\n",
        "s, signal = {}, {}\n",
        "for t in terms:\n",
        "  data[t]['Market Cap'] = data[t]['Price_M3'] * data[t]['Shares'] # 분기별 시가총액 계산\n",
        "  data[t]['EV'] = data[t]['Market Cap'] + data[t]['Long Term Debt'] + data[t]['Current Debt'] - data[t]['Cash & Equivalents'] # 분기별 EV 계산\n",
        "  data[t]['EV/Sales'] = data[t]['EV'] / data[t]['Revenue']\n",
        "  data[t].loc[(data[t]['EV'] <= 0) | (data[t]['Revenue'] <= 0), 'EV/Revenue'] = float('nan') # EV가 음수 or EBITDA가 음수일 경우 nan으로 처리\n",
        "  s[t] = fs.fn_filter(data[t], by='EV/Sales', floor=0, n=30, asc=True) # EV/EVITDA 기준 하위 30개 종목 선정\n",
        "  signal[t] = list(s[t].index)\n",
        "\n",
        "df = fs.backtest(signal=signal, data=data, m=3, cost=.001)"
      ],
      "metadata": {
        "id": "pS3cp5Eiq0Yq",
        "colab": {
          "base_uri": "https://localhost:8080/"
        },
        "outputId": "0df81106-5c38-47cf-eabb-0dfc83181b18"
      },
      "execution_count": 39,
      "outputs": [
        {
          "output_type": "stream",
          "name": "stdout",
          "text": [
            "2010Q4...OK\n",
            "2011Q1...OK\n",
            "2011Q2...OK\n",
            "2011Q3...OK\n",
            "2011Q4...OK\n",
            "2012Q1...OK\n",
            "2012Q2...OK\n",
            "2012Q3...OK\n",
            "2012Q4...OK\n",
            "2013Q1...OK\n",
            "2013Q2...OK\n",
            "2013Q3...OK\n",
            "2013Q4...OK\n",
            "2014Q1...OK\n",
            "2014Q2...OK\n",
            "2014Q3...OK\n",
            "2014Q4...OK\n",
            "2015Q1...OK\n",
            "2015Q2...OK\n",
            "2015Q3...OK\n",
            "2015Q4...OK\n",
            "2016Q1...OK\n",
            "2016Q2...OK\n",
            "2016Q3...OK\n",
            "2016Q4...OK\n",
            "2017Q1...OK\n",
            "2017Q2...OK\n",
            "2017Q3...OK\n",
            "2017Q4...OK\n",
            "2018Q1...OK\n",
            "2018Q2...OK\n",
            "2018Q3...OK\n",
            "2018Q4...OK\n",
            "2019Q1...OK\n",
            "2019Q2...OK\n",
            "2019Q3...OK\n",
            "2019Q4...OK\n",
            "2020Q1...OK\n",
            "2020Q2...OK\n",
            "2020Q3...OK\n",
            "2020Q4...OK\n",
            "CAGR: 27.30%\n",
            "Accumulated return: 1019.81%\n",
            "Investment period: 10.0yrs\n",
            "Sharpe ratio: 3.04\n",
            "MDD: -26.79%\n"
          ]
        }
      ]
    },
    {
      "cell_type": "code",
      "source": [
        "fs.draw_return(df)"
      ],
      "metadata": {
        "id": "s7toM4zfr7DN",
        "colab": {
          "base_uri": "https://localhost:8080/",
          "height": 359
        },
        "outputId": "507feeb0-05c5-46c3-ff5f-6b80587a36d1"
      },
      "execution_count": 40,
      "outputs": [
        {
          "output_type": "display_data",
          "data": {
            "text/plain": [
              "<Figure size 720x360 with 2 Axes>"
            ],
            "image/png": "[encoded data removed]"
          },
          "metadata": {
            "needs_background": "light"
          }
        }
      ]
    },
    {
      "cell_type": "markdown",
      "source": [
        "### 안전마진이 있는 그레이엄의 NCAV(청산가치) 투자법\n",
        "- 청산가치 = 유동자산 - 부채  \n",
        "> 유동자산 : 1년안에 현금화 가능한 자산  \n",
        "비유동자산 : 부동산, 공장, 기계 설비 등 현금화가 쉽지 않은 자산  \n",
        "\n",
        "![image.png](data:image/png;base64,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)\n",
        "\n",
        "- 그레이엄표 안전마진 : 청산가치가 시가총액 1.5이상인 기업  \n",
        "안전마진 = 청산가치 - (시가총액 X 1.5) = (유동자산 - 부채) - (시가총액 X 1.5)"
      ],
      "metadata": {
        "id": "ppxcOPw4tzct"
      }
    },
    {
      "cell_type": "code",
      "source": [
        "df = fs.fn_single(otp='16486230601099712210', symbol='FB', window='T')"
      ],
      "metadata": {
        "id": "aycYJI7kW9-z"
      },
      "execution_count": 41,
      "outputs": []
    },
    {
      "cell_type": "markdown",
      "source": [
        "- 청산가치(NCAV) = 유동자산 - 총부채  \n",
        "- 시가총액 = 주가 X 주식수  \n",
        "- 안전마진 = NCAV - 시가총액 X 1.5"
      ],
      "metadata": {
        "id": "r19i9GjbXK9m"
      }
    },
    {
      "cell_type": "code",
      "source": [
        "df['NCAV'] = df['Current Assets'] - df['Total Liabilities'] # 청산가치\n",
        "df['Market Cap'] = df['Price'] * df['Shares'] # 시가총액 계산\n",
        "df['Safety Margin'] = df['NCAV'] - df['Market Cap'] * 1.5 # 안전마진 계산"
      ],
      "metadata": {
        "id": "sriHe6cUXjCJ"
      },
      "execution_count": 43,
      "outputs": []
    },
    {
      "cell_type": "code",
      "source": [
        "# 주가 대비 안전마진 비교 그래프\n",
        "fs.draw_chart(df, left='Price', right='Safety Margin')"
      ],
      "metadata": {
        "id": "-OPktW_3X50j",
        "colab": {
          "base_uri": "https://localhost:8080/",
          "height": 336
        },
        "outputId": "3101af0b-2780-4ea7-d0e4-7cb08557df00"
      },
      "execution_count": 44,
      "outputs": [
        {
          "output_type": "display_data",
          "data": {
            "text/plain": [
              "<Figure size 720x360 with 2 Axes>"
            ],
            "image/png": "[encoded data removed]"
          },
          "metadata": {
            "needs_background": "light"
          }
        }
      ]
    },
    {
      "cell_type": "code",
      "source": [
        "# PBR 대비 안전마진 비교 그래프\n",
        "df['PBR'] = df['Price'] / (df['Shareholders Equity'] / df['Shares'])\n",
        "fs.draw_chart(df, left='PBR', right='Safety Margin')"
      ],
      "metadata": {
        "colab": {
          "base_uri": "https://localhost:8080/",
          "height": 336
        },
        "id": "tx8DzkM6nksA",
        "outputId": "43c85658-c97b-4907-b1a3-e16f113fab27"
      },
      "execution_count": 45,
      "outputs": [
        {
          "output_type": "display_data",
          "data": {
            "text/plain": [
              "<Figure size 720x360 with 2 Axes>"
            ],
            "image/png": "[encoded data removed]"
          },
          "metadata": {
            "needs_background": "light"
          }
        }
      ]
    },
    {
      "cell_type": "code",
      "source": [
        "# 안전마진이 있는 그레이엄의 NCAV(청산가치) 투자법\n",
        "# 백테스팅\n",
        "# Safety Margin Code\n",
        "terms = fs.set_terms(trade_start='2011Q1', trade_end='2021Q1')\n",
        "data = {}\n",
        "for t in terms:\n",
        "  data[t] = fs.fn_consolidated(otp='16486230601099712210', term=t, vol=10000)\n",
        "\n",
        "s , signla = {}, {}\n",
        "for t in terms:\n",
        "  data[t]['NCAV'] = data[t]['Current Assets'] - data[t]['Total Liabilities'] # 청산가치 NCAV\n",
        "  data[t]['Market Cap'] = data[t]['Price_M3'] * data[t]['Shares'] # 분기별 시가총액 계산\n",
        "  data[t]['Safety Margin'] = data[t]['NCAV'] - data[t]['Market Cap'] * 1.5 # 안전마진 계산\n",
        "  s[t] = fs.fn_filter(data[t], by='Safety Margin', floor=0, n=30, asc=False) # 안전마진 기준 상위 30개 종목 선정\n",
        "  signal[t] = list(s[t].index)\n",
        "\n",
        "df = fs.backtest(signal=signal, data=data, m=3, cost=.001)"
      ],
      "metadata": {
        "colab": {
          "base_uri": "https://localhost:8080/"
        },
        "id": "1ixnmOjTnzM6",
        "outputId": "ed0be423-0c6e-4392-db77-7de1a5cfb57e"
      },
      "execution_count": 50,
      "outputs": [
        {
          "output_type": "stream",
          "name": "stdout",
          "text": [
            "2010Q4...OK\n",
            "2011Q1...OK\n",
            "2011Q2...OK\n",
            "2011Q3...OK\n",
            "2011Q4...OK\n",
            "2012Q1...OK\n",
            "2012Q2...OK\n",
            "2012Q3...OK\n",
            "2012Q4...OK\n",
            "2013Q1...OK\n",
            "2013Q2...OK\n",
            "2013Q3...OK\n",
            "2013Q4...OK\n",
            "2014Q1...OK\n",
            "2014Q2...OK\n",
            "2014Q3...OK\n",
            "2014Q4...OK\n",
            "2015Q1...OK\n",
            "2015Q2...OK\n",
            "2015Q3...OK\n",
            "2015Q4...OK\n",
            "2016Q1...OK\n",
            "2016Q2...OK\n",
            "2016Q3...OK\n",
            "2016Q4...OK\n",
            "2017Q1...OK\n",
            "2017Q2...OK\n",
            "2017Q3...OK\n",
            "2017Q4...OK\n",
            "2018Q1...OK\n",
            "2018Q2...OK\n",
            "2018Q3...OK\n",
            "2018Q4...OK\n",
            "2019Q1...OK\n",
            "2019Q2...OK\n",
            "2019Q3...OK\n",
            "2019Q4...OK\n",
            "2020Q1...OK\n",
            "2020Q2...OK\n",
            "2020Q3...OK\n",
            "2020Q4...OK\n",
            "CAGR: 24.39%\n",
            "Accumulated return: 788.32%\n",
            "Investment period: 10.0yrs\n",
            "Sharpe ratio: 2.51\n",
            "MDD: -5.93%\n"
          ]
        }
      ]
    },
    {
      "cell_type": "code",
      "source": [
        "fs.draw_return(df)"
      ],
      "metadata": {
        "colab": {
          "base_uri": "https://localhost:8080/",
          "height": 359
        },
        "id": "i2hW7o-7pMvV",
        "outputId": "e89a0762-d494-44a0-a20e-f8a86cf96b72"
      },
      "execution_count": 51,
      "outputs": [
        {
          "output_type": "display_data",
          "data": {
            "text/plain": [
              "<Figure size 720x360 with 2 Axes>"
            ],
            "image/png": "[encoded data removed]"
          },
          "metadata": {
            "needs_background": "light"
          }
        }
      ]
    },
    {
      "cell_type": "markdown",
      "source": [
        "- 분기별로 안전 마진 값이 큰 순서대로 상위 30개 종목에 투자하는 전략 분기별 확인"
      ],
      "metadata": {
        "id": "mM2QHu_gpPJ2"
      }
    },
    {
      "cell_type": "code",
      "source": [
        "for k, v in signal.items():\n",
        "  print(k, len(v))"
      ],
      "metadata": {
        "colab": {
          "base_uri": "https://localhost:8080/"
        },
        "id": "adw5Ga47prHS",
        "outputId": "732edede-857f-4f91-f9f2-b27978bb0298"
      },
      "execution_count": 52,
      "outputs": [
        {
          "output_type": "stream",
          "name": "stdout",
          "text": [
            "2010Q4 0\n",
            "2011Q1 4\n",
            "2011Q2 14\n",
            "2011Q3 12\n",
            "2011Q4 8\n",
            "2012Q1 13\n",
            "2012Q2 12\n",
            "2012Q3 14\n",
            "2012Q4 9\n",
            "2013Q1 9\n",
            "2013Q2 7\n",
            "2013Q3 4\n",
            "2013Q4 5\n",
            "2014Q1 7\n",
            "2014Q2 7\n",
            "2014Q3 7\n",
            "2014Q4 8\n",
            "2015Q1 7\n",
            "2015Q2 11\n",
            "2015Q3 12\n",
            "2015Q4 9\n",
            "2016Q1 15\n",
            "2016Q2 9\n",
            "2016Q3 14\n",
            "2016Q4 6\n",
            "2017Q1 12\n",
            "2017Q2 11\n",
            "2017Q3 6\n",
            "2017Q4 7\n",
            "2018Q1 7\n",
            "2018Q2 8\n",
            "2018Q3 14\n",
            "2018Q4 13\n",
            "2019Q1 13\n",
            "2019Q2 18\n",
            "2019Q3 20\n",
            "2019Q4 30\n",
            "2020Q1 29\n",
            "2020Q2 30\n",
            "2020Q3 22\n",
            "2020Q4 18\n"
          ]
        }
      ]
    },
    {
      "cell_type": "markdown",
      "source": [
        "### 성장주 투자가 하고 싶다면, PEG(주가수익성장비율)\n",
        "- PER, PBR, PSR, PCR은 **실적 대비 저평가된 가치주**를 찾는 기술이다.  \n",
        "- 성장주는 가치주와는 반대되는 개념으로 미래 성장 기대감에 베팅하는 것이다.  \n",
        "\n",
        "> 주가수익성장비율(PEG) = $\\frac{PER}{EPS Growth}$"
      ],
      "metadata": {
        "id": "d_uG-HyQpwVP"
      }
    },
    {
      "cell_type": "code",
      "source": [
        "# 애플 재무제표 데이터를 이용한 성장주 투자\n",
        "df = fs.fn_single(otp = '16486230601099712210', symbol='AAPL', window='T')"
      ],
      "metadata": {
        "id": "UY3iJ7Gfq5yZ"
      },
      "execution_count": 53,
      "outputs": []
    },
    {
      "cell_type": "code",
      "source": [
        "# 애플과 아마존의 PEG를 산출하여 어느 종목이 이익 성장에 비해 저평가 되었는지 확인\n",
        "df['PER'] = df['Price'] / df['EPS']\n",
        "df['EPS Growth'] = (df['EPS'] - df['EPS'].shift(4)) / abs(df['EPS'].shift(4)) * 100 # EPS (4일간)성장률 계산\n",
        "df['PEG'] = df['PER'] / df['EPS Growth']"
      ],
      "metadata": {
        "id": "LZug0uYgrJRE"
      },
      "execution_count": 54,
      "outputs": []
    },
    {
      "cell_type": "code",
      "source": [
        "df[['EPS', 'EPS Growth', 'PER', 'PEG']].tail(10) # EPS, EPS Growth, PER, PEG 데이터 10개"
      ],
      "metadata": {
        "colab": {
          "base_uri": "https://localhost:8080/",
          "height": 363
        },
        "id": "mnybyjJLrsLP",
        "outputId": "ea77749a-6914-4358-8fad-35ce766ba8ac"
      },
      "execution_count": 57,
      "outputs": [
        {
          "output_type": "execute_result",
          "data": {
            "text/plain": [
              "            EPS  EPS Growth   PER    PEG\n",
              "2019-09-30 2.98       -0.25 18.76 -74.84\n",
              "2019-12-31 3.19        3.99 23.01   5.76\n",
              "2020-03-31 3.22        7.34 19.76   2.69\n",
              "2020-06-30 3.32       12.26 27.47   2.24\n",
              "2020-09-30 3.30       10.47 35.12   3.35\n",
              "2020-12-31 3.72       16.54 35.69   2.16\n",
              "2021-03-31 4.47       39.01 27.31   0.70\n",
              "2021-06-30 5.12       54.22 26.75   0.49\n",
              "2021-09-30 5.62       70.43 25.18   0.36\n",
              "2021-12-31 6.04       62.47 29.40   0.47"
            ],
            "text/html": [
              "\n",
              "  <div id=\"df-d77dfb93-a5d8-4ffb-94d4-54311a33c118\">\n",
              "    <div class=\"colab-df-container\">\n",
              "      <div>\n",
              "<style scoped>\n",
              "    .dataframe tbody tr th:only-of-type {\n",
              "        vertical-align: middle;\n",
              "    }\n",
              "\n",
              "    .dataframe tbody tr th {\n",
              "        vertical-align: top;\n",
              "    }\n",
              "\n",
              "    .dataframe thead th {\n",
              "        text-align: right;\n",
              "    }\n",
              "</style>\n",
              "<table border=\"1\" class=\"dataframe\">\n",
              "  <thead>\n",
              "    <tr style=\"text-align: right;\">\n",
              "      <th></th>\n",
              "      <th>EPS</th>\n",
              "      <th>EPS Growth</th>\n",
              "      <th>PER</th>\n",
              "      <th>PEG</th>\n",
              "    </tr>\n",
              "  </thead>\n",
              "  <tbody>\n",
              "    <tr>\n",
              "      <th>2019-09-30</th>\n",
              "      <td>2.98</td>\n",
              "      <td>-0.25</td>\n",
              "      <td>18.76</td>\n",
              "      <td>-74.84</td>\n",
              "    </tr>\n",
              "    <tr>\n",
              "      <th>2019-12-31</th>\n",
              "      <td>3.19</td>\n",
              "      <td>3.99</td>\n",
              "      <td>23.01</td>\n",
              "      <td>5.76</td>\n",
              "    </tr>\n",
              "    <tr>\n",
              "      <th>2020-03-31</th>\n",
              "      <td>3.22</td>\n",
              "      <td>7.34</td>\n",
              "      <td>19.76</td>\n",
              "      <td>2.69</td>\n",
              "    </tr>\n",
              "    <tr>\n",
              "      <th>2020-06-30</th>\n",
              "      <td>3.32</td>\n",
              "      <td>12.26</td>\n",
              "      <td>27.47</td>\n",
              "      <td>2.24</td>\n",
              "    </tr>\n",
              "    <tr>\n",
              "      <th>2020-09-30</th>\n",
              "      <td>3.30</td>\n",
              "      <td>10.47</td>\n",
              "      <td>35.12</td>\n",
              "      <td>3.35</td>\n",
              "    </tr>\n",
              "    <tr>\n",
              "      <th>2020-12-31</th>\n",
              "      <td>3.72</td>\n",
              "      <td>16.54</td>\n",
              "      <td>35.69</td>\n",
              "      <td>2.16</td>\n",
              "    </tr>\n",
              "    <tr>\n",
              "      <th>2021-03-31</th>\n",
              "      <td>4.47</td>\n",
              "      <td>39.01</td>\n",
              "      <td>27.31</td>\n",
              "      <td>0.70</td>\n",
              "    </tr>\n",
              "    <tr>\n",
              "      <th>2021-06-30</th>\n",
              "      <td>5.12</td>\n",
              "      <td>54.22</td>\n",
              "      <td>26.75</td>\n",
              "      <td>0.49</td>\n",
              "    </tr>\n",
              "    <tr>\n",
              "      <th>2021-09-30</th>\n",
              "      <td>5.62</td>\n",
              "      <td>70.43</td>\n",
              "      <td>25.18</td>\n",
              "      <td>0.36</td>\n",
              "    </tr>\n",
              "    <tr>\n",
              "      <th>2021-12-31</th>\n",
              "      <td>6.04</td>\n",
              "      <td>62.47</td>\n",
              "      <td>29.40</td>\n",
              "      <td>0.47</td>\n",
              "    </tr>\n",
              "  </tbody>\n",
              "</table>\n",
              "</div>\n",
              "      <button class=\"colab-df-convert\" onclick=\"convertToInteractive('df-d77dfb93-a5d8-4ffb-94d4-54311a33c118')\"\n",
              "              title=\"Convert this dataframe to an interactive table.\"\n",
              "              style=\"display:none;\">\n",
              "        \n",
              "  <svg xmlns=\"http://www.w3.org/2000/svg\" height=\"24px\"viewBox=\"0 0 24 24\"\n",
              "       width=\"24px\">\n",
              "    <path d=\"M0 0h24v24H0V0z\" fill=\"none\"/>\n",
              "    <path d=\"M18.56 5.44l.94 2.06.94-2.06 2.06-.94-2.06-.94-.94-2.06-.94 2.06-2.06.94zm-11 1L8.5 8.5l.94-2.06 2.06-.94-2.06-.94L8.5 2.5l-.94 2.06-2.06.94zm10 10l.94 2.06.94-2.06 2.06-.94-2.06-.94-.94-2.06-.94 2.06-2.06.94z\"/><path d=\"M17.41 7.96l-1.37-1.37c-.4-.4-.92-.59-1.43-.59-.52 0-1.04.2-1.43.59L10.3 9.45l-7.72 7.72c-.78.78-.78 2.05 0 2.83L4 21.41c.39.39.9.59 1.41.59.51 0 1.02-.2 1.41-.59l7.78-7.78 2.81-2.81c.8-.78.8-2.07 0-2.86zM5.41 20L4 18.59l7.72-7.72 1.47 1.35L5.41 20z\"/>\n",
              "  </svg>\n",
              "      </button>\n",
              "      \n",
              "  <style>\n",
              "    .colab-df-container {\n",
              "      display:flex;\n",
              "      flex-wrap:wrap;\n",
              "      gap: 12px;\n",
              "    }\n",
              "\n",
              "    .colab-df-convert {\n",
              "      background-color: #E8F0FE;\n",
              "      border: none;\n",
              "      border-radius: 50%;\n",
              "      cursor: pointer;\n",
              "      display: none;\n",
              "      fill: #1967D2;\n",
              "      height: 32px;\n",
              "      padding: 0 0 0 0;\n",
              "      width: 32px;\n",
              "    }\n",
              "\n",
              "    .colab-df-convert:hover {\n",
              "      background-color: #E2EBFA;\n",
              "      box-shadow: 0px 1px 2px rgba(60, 64, 67, 0.3), 0px 1px 3px 1px rgba(60, 64, 67, 0.15);\n",
              "      fill: #174EA6;\n",
              "    }\n",
              "\n",
              "    [theme=dark] .colab-df-convert {\n",
              "      background-color: #3B4455;\n",
              "      fill: #D2E3FC;\n",
              "    }\n",
              "\n",
              "    [theme=dark] .colab-df-convert:hover {\n",
              "      background-color: #434B5C;\n",
              "      box-shadow: 0px 1px 3px 1px rgba(0, 0, 0, 0.15);\n",
              "      filter: drop-shadow(0px 1px 2px rgba(0, 0, 0, 0.3));\n",
              "      fill: #FFFFFF;\n",
              "    }\n",
              "  </style>\n",
              "\n",
              "      <script>\n",
              "        const buttonEl =\n",
              "          document.querySelector('#df-d77dfb93-a5d8-4ffb-94d4-54311a33c118 button.colab-df-convert');\n",
              "        buttonEl.style.display =\n",
              "          google.colab.kernel.accessAllowed ? 'block' : 'none';\n",
              "\n",
              "        async function convertToInteractive(key) {\n",
              "          const element = document.querySelector('#df-d77dfb93-a5d8-4ffb-94d4-54311a33c118');\n",
              "          const dataTable =\n",
              "            await google.colab.kernel.invokeFunction('convertToInteractive',\n",
              "                                                     [key], {});\n",
              "          if (!dataTable) return;\n",
              "\n",
              "          const docLinkHtml = 'Like what you see? Visit the ' +\n",
              "            '<a target=\"_blank\" href=https://colab.research.google.com/notebooks/data_table.ipynb>data table notebook</a>'\n",
              "            + ' to learn more about interactive tables.';\n",
              "          element.innerHTML = '';\n",
              "          dataTable['output_type'] = 'display_data';\n",
              "          await google.colab.output.renderOutput(dataTable, element);\n",
              "          const docLink = document.createElement('div');\n",
              "          docLink.innerHTML = docLinkHtml;\n",
              "          element.appendChild(docLink);\n",
              "        }\n",
              "      </script>\n",
              "    </div>\n",
              "  </div>\n",
              "  "
            ]
          },
          "metadata": {},
          "execution_count": 57
        }
      ]
    },
    {
      "cell_type": "code",
      "source": [
        "# 비교를 위해 AMZN의 PEG 산출\n",
        "df = fs.fn_single(otp = '16486230601099712210', symbol='AMZN', window='T')\n",
        "df['PER'] = df['Price'] / df['EPS']\n",
        "df['EPS Growth'] = (df['EPS'] - df['EPS'].shift(4)) / abs(df['EPS'].shift(4)) * 100 # EPS (4일간)성장률 계산\n",
        "df['PEG'] = df['PER'] / df['EPS Growth']\n",
        "df[['EPS', 'EPS Growth', 'PER', 'PEG']].tail(10) # EPS, EPS Growth, PER, PEG 데이터 10개"
      ],
      "metadata": {
        "colab": {
          "base_uri": "https://localhost:8080/",
          "height": 363
        },
        "id": "7UwVpXi4r38v",
        "outputId": "85906eb1-5863-49a2-e1aa-d1ba610f2869"
      },
      "execution_count": 58,
      "outputs": [
        {
          "output_type": "execute_result",
          "data": {
            "text/plain": [
              "             EPS  EPS Growth    PER   PEG\n",
              "2019-09-30 23.05       25.75  75.31  2.92\n",
              "2019-12-31 23.45       13.50  78.80  5.84\n",
              "2020-03-31 21.30      -13.20  91.54 -6.93\n",
              "2020-06-30 26.48        7.42 104.19 14.03\n",
              "2020-09-30 34.80       50.98  90.48  1.77\n",
              "2020-12-31 42.30       80.38  77.00  0.96\n",
              "2021-03-31 53.01      148.87  58.37  0.39\n",
              "2021-06-30 57.64      117.67  59.68  0.51\n",
              "2021-09-30 51.14       46.95  64.24  1.37\n",
              "2021-12-31 64.82       53.24  51.44  0.97"
            ],
            "text/html": [
              "\n",
              "  <div id=\"df-cf28eed0-eab0-4fce-a26d-72acb46f7669\">\n",
              "    <div class=\"colab-df-container\">\n",
              "      <div>\n",
              "<style scoped>\n",
              "    .dataframe tbody tr th:only-of-type {\n",
              "        vertical-align: middle;\n",
              "    }\n",
              "\n",
              "    .dataframe tbody tr th {\n",
              "        vertical-align: top;\n",
              "    }\n",
              "\n",
              "    .dataframe thead th {\n",
              "        text-align: right;\n",
              "    }\n",
              "</style>\n",
              "<table border=\"1\" class=\"dataframe\">\n",
              "  <thead>\n",
              "    <tr style=\"text-align: right;\">\n",
              "      <th></th>\n",
              "      <th>EPS</th>\n",
              "      <th>EPS Growth</th>\n",
              "      <th>PER</th>\n",
              "      <th>PEG</th>\n",
              "    </tr>\n",
              "  </thead>\n",
              "  <tbody>\n",
              "    <tr>\n",
              "      <th>2019-09-30</th>\n",
              "      <td>23.05</td>\n",
              "      <td>25.75</td>\n",
              "      <td>75.31</td>\n",
              "      <td>2.92</td>\n",
              "    </tr>\n",
              "    <tr>\n",
              "      <th>2019-12-31</th>\n",
              "      <td>23.45</td>\n",
              "      <td>13.50</td>\n",
              "      <td>78.80</td>\n",
              "      <td>5.84</td>\n",
              "    </tr>\n",
              "    <tr>\n",
              "      <th>2020-03-31</th>\n",
              "      <td>21.30</td>\n",
              "      <td>-13.20</td>\n",
              "      <td>91.54</td>\n",
              "      <td>-6.93</td>\n",
              "    </tr>\n",
              "    <tr>\n",
              "      <th>2020-06-30</th>\n",
              "      <td>26.48</td>\n",
              "      <td>7.42</td>\n",
              "      <td>104.19</td>\n",
              "      <td>14.03</td>\n",
              "    </tr>\n",
              "    <tr>\n",
              "      <th>2020-09-30</th>\n",
              "      <td>34.80</td>\n",
              "      <td>50.98</td>\n",
              "      <td>90.48</td>\n",
              "      <td>1.77</td>\n",
              "    </tr>\n",
              "    <tr>\n",
              "      <th>2020-12-31</th>\n",
              "      <td>42.30</td>\n",
              "      <td>80.38</td>\n",
              "      <td>77.00</td>\n",
              "      <td>0.96</td>\n",
              "    </tr>\n",
              "    <tr>\n",
              "      <th>2021-03-31</th>\n",
              "      <td>53.01</td>\n",
              "      <td>148.87</td>\n",
              "      <td>58.37</td>\n",
              "      <td>0.39</td>\n",
              "    </tr>\n",
              "    <tr>\n",
              "      <th>2021-06-30</th>\n",
              "      <td>57.64</td>\n",
              "      <td>117.67</td>\n",
              "      <td>59.68</td>\n",
              "      <td>0.51</td>\n",
              "    </tr>\n",
              "    <tr>\n",
              "      <th>2021-09-30</th>\n",
              "      <td>51.14</td>\n",
              "      <td>46.95</td>\n",
              "      <td>64.24</td>\n",
              "      <td>1.37</td>\n",
              "    </tr>\n",
              "    <tr>\n",
              "      <th>2021-12-31</th>\n",
              "      <td>64.82</td>\n",
              "      <td>53.24</td>\n",
              "      <td>51.44</td>\n",
              "      <td>0.97</td>\n",
              "    </tr>\n",
              "  </tbody>\n",
              "</table>\n",
              "</div>\n",
              "      <button class=\"colab-df-convert\" onclick=\"convertToInteractive('df-cf28eed0-eab0-4fce-a26d-72acb46f7669')\"\n",
              "              title=\"Convert this dataframe to an interactive table.\"\n",
              "              style=\"display:none;\">\n",
              "        \n",
              "  <svg xmlns=\"http://www.w3.org/2000/svg\" height=\"24px\"viewBox=\"0 0 24 24\"\n",
              "       width=\"24px\">\n",
              "    <path d=\"M0 0h24v24H0V0z\" fill=\"none\"/>\n",
              "    <path d=\"M18.56 5.44l.94 2.06.94-2.06 2.06-.94-2.06-.94-.94-2.06-.94 2.06-2.06.94zm-11 1L8.5 8.5l.94-2.06 2.06-.94-2.06-.94L8.5 2.5l-.94 2.06-2.06.94zm10 10l.94 2.06.94-2.06 2.06-.94-2.06-.94-.94-2.06-.94 2.06-2.06.94z\"/><path d=\"M17.41 7.96l-1.37-1.37c-.4-.4-.92-.59-1.43-.59-.52 0-1.04.2-1.43.59L10.3 9.45l-7.72 7.72c-.78.78-.78 2.05 0 2.83L4 21.41c.39.39.9.59 1.41.59.51 0 1.02-.2 1.41-.59l7.78-7.78 2.81-2.81c.8-.78.8-2.07 0-2.86zM5.41 20L4 18.59l7.72-7.72 1.47 1.35L5.41 20z\"/>\n",
              "  </svg>\n",
              "      </button>\n",
              "      \n",
              "  <style>\n",
              "    .colab-df-container {\n",
              "      display:flex;\n",
              "      flex-wrap:wrap;\n",
              "      gap: 12px;\n",
              "    }\n",
              "\n",
              "    .colab-df-convert {\n",
              "      background-color: #E8F0FE;\n",
              "      border: none;\n",
              "      border-radius: 50%;\n",
              "      cursor: pointer;\n",
              "      display: none;\n",
              "      fill: #1967D2;\n",
              "      height: 32px;\n",
              "      padding: 0 0 0 0;\n",
              "      width: 32px;\n",
              "    }\n",
              "\n",
              "    .colab-df-convert:hover {\n",
              "      background-color: #E2EBFA;\n",
              "      box-shadow: 0px 1px 2px rgba(60, 64, 67, 0.3), 0px 1px 3px 1px rgba(60, 64, 67, 0.15);\n",
              "      fill: #174EA6;\n",
              "    }\n",
              "\n",
              "    [theme=dark] .colab-df-convert {\n",
              "      background-color: #3B4455;\n",
              "      fill: #D2E3FC;\n",
              "    }\n",
              "\n",
              "    [theme=dark] .colab-df-convert:hover {\n",
              "      background-color: #434B5C;\n",
              "      box-shadow: 0px 1px 3px 1px rgba(0, 0, 0, 0.15);\n",
              "      filter: drop-shadow(0px 1px 2px rgba(0, 0, 0, 0.3));\n",
              "      fill: #FFFFFF;\n",
              "    }\n",
              "  </style>\n",
              "\n",
              "      <script>\n",
              "        const buttonEl =\n",
              "          document.querySelector('#df-cf28eed0-eab0-4fce-a26d-72acb46f7669 button.colab-df-convert');\n",
              "        buttonEl.style.display =\n",
              "          google.colab.kernel.accessAllowed ? 'block' : 'none';\n",
              "\n",
              "        async function convertToInteractive(key) {\n",
              "          const element = document.querySelector('#df-cf28eed0-eab0-4fce-a26d-72acb46f7669');\n",
              "          const dataTable =\n",
              "            await google.colab.kernel.invokeFunction('convertToInteractive',\n",
              "                                                     [key], {});\n",
              "          if (!dataTable) return;\n",
              "\n",
              "          const docLinkHtml = 'Like what you see? Visit the ' +\n",
              "            '<a target=\"_blank\" href=https://colab.research.google.com/notebooks/data_table.ipynb>data table notebook</a>'\n",
              "            + ' to learn more about interactive tables.';\n",
              "          element.innerHTML = '';\n",
              "          dataTable['output_type'] = 'display_data';\n",
              "          await google.colab.output.renderOutput(dataTable, element);\n",
              "          const docLink = document.createElement('div');\n",
              "          docLink.innerHTML = docLinkHtml;\n",
              "          element.appendChild(docLink);\n",
              "        }\n",
              "      </script>\n",
              "    </div>\n",
              "  </div>\n",
              "  "
            ]
          },
          "metadata": {},
          "execution_count": 58
        }
      ]
    },
    {
      "cell_type": "markdown",
      "source": [
        "- 주가수익성장비율 PEG 백테스팅"
      ],
      "metadata": {
        "id": "2jawhz06sSez"
      }
    },
    {
      "cell_type": "code",
      "source": [
        "# PEG\n",
        "terms = fs.set_terms(trade_start='2011Q1', trade_end='2021Q1') # 2011년 1분기 ~ 2021년 1분기\n",
        "data = {}\n",
        "for t in terms:\n",
        "  data[t] = fs.fn_consolidated(otp='16486230601099712210', term=t)"
      ],
      "metadata": {
        "colab": {
          "base_uri": "https://localhost:8080/"
        },
        "id": "vaVZIeyQsgNS",
        "outputId": "937bb682-6bb2-44ff-ad4c-5070c6599b0b"
      },
      "execution_count": 64,
      "outputs": [
        {
          "output_type": "stream",
          "name": "stdout",
          "text": [
            "2010Q4...OK\n",
            "2011Q1...OK\n",
            "2011Q2...OK\n",
            "2011Q3...OK\n",
            "2011Q4...OK\n",
            "2012Q1...OK\n",
            "2012Q2...OK\n",
            "2012Q3...OK\n",
            "2012Q4...OK\n",
            "2013Q1...OK\n",
            "2013Q2...OK\n",
            "2013Q3...OK\n",
            "2013Q4...OK\n",
            "2014Q1...OK\n",
            "2014Q2...OK\n",
            "2014Q3...OK\n",
            "2014Q4...OK\n",
            "2015Q1...OK\n",
            "2015Q2...OK\n",
            "2015Q3...OK\n",
            "2015Q4...OK\n",
            "2016Q1...OK\n",
            "2016Q2...OK\n",
            "2016Q3...OK\n",
            "2016Q4...OK\n",
            "2017Q1...OK\n",
            "2017Q2...OK\n",
            "2017Q3...OK\n",
            "2017Q4...OK\n",
            "2018Q1...OK\n",
            "2018Q2...OK\n",
            "2018Q3...OK\n",
            "2018Q4...OK\n",
            "2019Q1...OK\n",
            "2019Q2...OK\n",
            "2019Q3...OK\n",
            "2019Q4...OK\n",
            "2020Q1...OK\n",
            "2020Q2...OK\n",
            "2020Q3...OK\n",
            "2020Q4...OK\n"
          ]
        }
      ]
    },
    {
      "cell_type": "code",
      "source": [
        "s = {}\n",
        "signal = {}\n",
        "for t in terms:\n",
        "  t_4 = fs.quarters_before(terms, t, 4) # 4분기 이전\n",
        "  data[t]['PER'] = data[t]['Price_M3'] / data[t]['EPS']\n",
        "  data[t]['EPS Growth'] = (data[t]['EPS'] - data[t_4]['EPS']) / abs(data[t_4]['EPS']) * 100\n",
        "  data[t]['PEG'] = data[t]['PER'] / data[t]['EPS Growth']\n",
        "  data[t].loc[(data[t]['PER'] <= 0) | (data[t]['EPS Growth'] <= 0), 'PEG'] = float('nan')\n",
        "  s[t] = fs.fn_filter(data[t], by='PEG', floor=.1, cap=1, n=30, asc=True)\n",
        "  signal[t] = list(s[t].index)\n",
        "\n",
        "df = fs.backtest(signal=signal, data=data, m=3, cost=.001)"
      ],
      "metadata": {
        "colab": {
          "base_uri": "https://localhost:8080/"
        },
        "id": "eEe9SWZvvumO",
        "outputId": "6c1c3ac9-7063-4500-8a7b-9e9430bb07c3"
      },
      "execution_count": 68,
      "outputs": [
        {
          "output_type": "stream",
          "name": "stdout",
          "text": [
            "CAGR: 10.45%\n",
            "Accumulated return: 170.32%\n",
            "Investment period: 10.0yrs\n",
            "Sharpe ratio: 0.83\n",
            "MDD: -37.05%\n"
          ]
        }
      ]
    },
    {
      "cell_type": "code",
      "source": [
        "fs.draw_return(df)"
      ],
      "metadata": {
        "colab": {
          "base_uri": "https://localhost:8080/",
          "height": 359
        },
        "id": "Jr0GeROquKvj",
        "outputId": "faf5f366-5796-4ff7-d952-16ec5f52fb9f"
      },
      "execution_count": 69,
      "outputs": [
        {
          "output_type": "display_data",
          "data": {
            "text/plain": [
              "<Figure size 720x360 with 2 Axes>"
            ],
            "image/png": "[encoded data removed]"
          },
          "metadata": {
            "needs_background": "light"
          }
        }
      ]
    },
    {
      "cell_type": "code",
      "source": [
        "                                                                                                                                                                                                                                                                                                                                                                                                                                                                                                                                                                                                                                                                                                                                                                                                                                                                                                                                                                                                                                                                                                                                                                                                                                                                                                                                                                                                                                                                                                                                                                                                                                                                                                                                                                                                                                                                                                                                                                                                                                                                                                                                                                                                                                                                                                                                                                                                                                                                                                                                                                                                                                                                                                                                                                                                                                                                                                                                                                                                                                                                                                                                                                                                                                                                                                                                                                                                                                                                                                                                                                                                                                                                                                                                                                                                                                                                                                                                                                                                                                                                                                                                                                                                                                                                                                                                                                                                                                                             "
      ],
      "metadata": {
        "id": "DAxyd-ZkuNeo"
      },
      "execution_count": 66,
      "outputs": []
    }
  ]
}