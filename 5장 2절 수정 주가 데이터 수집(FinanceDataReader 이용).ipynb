{
 "cells": [
  {
   "cell_type": "code",
   "execution_count": 1,
   "id": "b782a18e",
   "metadata": {},
   "outputs": [],
   "source": [
    "import FinanceDataReader as fdr"
   ]
  },
  {
   "cell_type": "code",
   "execution_count": 2,
   "id": "706bd915",
   "metadata": {},
   "outputs": [],
   "source": [
    "stock_list = fdr.StockListing('KRX').dropna() # 상장폐지 종목은 삭제"
   ]
  },
  {
   "cell_type": "code",
   "execution_count": 3,
   "id": "2b3ec1c0",
   "metadata": {},
   "outputs": [],
   "source": [
    "stock_list = stock_list.head(3) # 시간 단축을 위하여 3개만 활용"
   ]
  },
  {
   "cell_type": "code",
   "execution_count": 4,
   "id": "968a3c52",
   "metadata": {},
   "outputs": [
    {
     "data": {
      "text/html": [
       "<div>\n",
       "<style scoped>\n",
       "    .dataframe tbody tr th:only-of-type {\n",
       "        vertical-align: middle;\n",
       "    }\n",
       "\n",
       "    .dataframe tbody tr th {\n",
       "        vertical-align: top;\n",
       "    }\n",
       "\n",
       "    .dataframe thead th {\n",
       "        text-align: right;\n",
       "    }\n",
       "</style>\n",
       "<table border=\"1\" class=\"dataframe\">\n",
       "  <thead>\n",
       "    <tr style=\"text-align: right;\">\n",
       "      <th></th>\n",
       "      <th>Symbol</th>\n",
       "      <th>Market</th>\n",
       "      <th>Name</th>\n",
       "      <th>Sector</th>\n",
       "      <th>Industry</th>\n",
       "      <th>ListingDate</th>\n",
       "      <th>SettleMonth</th>\n",
       "      <th>Representative</th>\n",
       "      <th>HomePage</th>\n",
       "      <th>Region</th>\n",
       "    </tr>\n",
       "  </thead>\n",
       "  <tbody>\n",
       "    <tr>\n",
       "      <th>0</th>\n",
       "      <td>060310</td>\n",
       "      <td>KOSDAQ</td>\n",
       "      <td>3S</td>\n",
       "      <td>전자부품 제조업</td>\n",
       "      <td>반도체 웨이퍼 캐리어</td>\n",
       "      <td>2002-04-23</td>\n",
       "      <td>03월</td>\n",
       "      <td>김세완</td>\n",
       "      <td>http://www.3sref.com</td>\n",
       "      <td>서울특별시</td>\n",
       "    </tr>\n",
       "    <tr>\n",
       "      <th>1</th>\n",
       "      <td>095570</td>\n",
       "      <td>KOSPI</td>\n",
       "      <td>AJ네트웍스</td>\n",
       "      <td>산업용 기계 및 장비 임대업</td>\n",
       "      <td>렌탈(파렛트, OA장비, 건설장비)</td>\n",
       "      <td>2015-08-21</td>\n",
       "      <td>12월</td>\n",
       "      <td>박대현, 손삼달</td>\n",
       "      <td>http://www.ajnet.co.kr</td>\n",
       "      <td>서울특별시</td>\n",
       "    </tr>\n",
       "    <tr>\n",
       "      <th>2</th>\n",
       "      <td>006840</td>\n",
       "      <td>KOSPI</td>\n",
       "      <td>AK홀딩스</td>\n",
       "      <td>기타 금융업</td>\n",
       "      <td>지주사업</td>\n",
       "      <td>1999-08-11</td>\n",
       "      <td>12월</td>\n",
       "      <td>채형석, 이석주(각자 대표이사)</td>\n",
       "      <td>http://www.aekyunggroup.co.kr</td>\n",
       "      <td>서울특별시</td>\n",
       "    </tr>\n",
       "  </tbody>\n",
       "</table>\n",
       "</div>"
      ],
      "text/plain": [
       "   Symbol  Market    Name           Sector             Industry ListingDate  \\\n",
       "0  060310  KOSDAQ      3S         전자부품 제조업          반도체 웨이퍼 캐리어  2002-04-23   \n",
       "1  095570   KOSPI  AJ네트웍스  산업용 기계 및 장비 임대업  렌탈(파렛트, OA장비, 건설장비)  2015-08-21   \n",
       "2  006840   KOSPI   AK홀딩스           기타 금융업                 지주사업  1999-08-11   \n",
       "\n",
       "  SettleMonth     Representative                       HomePage Region  \n",
       "0         03월                김세완           http://www.3sref.com  서울특별시  \n",
       "1         12월           박대현, 손삼달         http://www.ajnet.co.kr  서울특별시  \n",
       "2         12월  채형석, 이석주(각자 대표이사)  http://www.aekyunggroup.co.kr  서울특별시  "
      ]
     },
     "execution_count": 4,
     "metadata": {},
     "output_type": "execute_result"
    }
   ],
   "source": [
    "stock_list"
   ]
  },
  {
   "cell_type": "code",
   "execution_count": 5,
   "id": "bb762003",
   "metadata": {},
   "outputs": [],
   "source": [
    "import time\n",
    "import pandas as pd"
   ]
  },
  {
   "cell_type": "code",
   "execution_count": 6,
   "id": "2d983957",
   "metadata": {},
   "outputs": [
    {
     "name": "stdout",
     "output_type": "stream",
     "text": [
      "060310 3S\n",
      "095570 AJ네트웍스\n",
      "006840 AK홀딩스\n"
     ]
    }
   ],
   "source": [
    "daily = pd.DataFrame()\n",
    "for code, name in stock_list[['Symbol', 'Name']].values:\n",
    "    print(code, name)\n",
    "    date = '2022-05-02'\n",
    "    ohlcv = fdr.DataReader(code, date, date) # 하루치 데이터 불러오기\n",
    "    ohlcv['Code'] = code\n",
    "    ohlcv['Name'] = name\n",
    "    daily = pd.concat([daily, ohlcv])"
   ]
  },
  {
   "cell_type": "markdown",
   "id": "0defec7d",
   "metadata": {},
   "source": [
    "[Pandas 기초] 데이터프레임 합치기(merge, join, concat)\n",
    "- https://yganalyst.github.io/data_handling/Pd_12/\n",
    "\n",
    "Pandas(판다스) - FinanceDataReader을 사용해 주식 데이터를 dataframe으로 불러오기 \n",
    "- https://blog.naver.com/PostView.naver?blogId=ji0eeeee&logNo=221527166066&parentCategoryNo=&categoryNo=11&viewDate=&isShowPopularPosts=true&from=search\n",
    "\n",
    "열 추가, 값 수정, 데이터 합치기\n",
    "- https://nalara12200.tistory.com/162 \n",
    "\n",
    "[python] 팬더스 데이터 프레임의 인덱스를 열로 변환하는 방법은 무엇입니까?\n",
    "- http://daplus.net/python-%ED%8C%AC%EB%8D%94-%EB%8D%B0%EC%9D%B4%ED%84%B0-%ED%94%84%EB%A0%88%EC%9E%84%EC%9D%98-%EC%9D%B8%EB%8D%B1%EC%8A%A"
   ]
  },
  {
   "cell_type": "code",
   "execution_count": 7,
   "id": "a2dddabb",
   "metadata": {},
   "outputs": [
    {
     "data": {
      "text/html": [
       "<div>\n",
       "<style scoped>\n",
       "    .dataframe tbody tr th:only-of-type {\n",
       "        vertical-align: middle;\n",
       "    }\n",
       "\n",
       "    .dataframe tbody tr th {\n",
       "        vertical-align: top;\n",
       "    }\n",
       "\n",
       "    .dataframe thead th {\n",
       "        text-align: right;\n",
       "    }\n",
       "</style>\n",
       "<table border=\"1\" class=\"dataframe\">\n",
       "  <thead>\n",
       "    <tr style=\"text-align: right;\">\n",
       "      <th></th>\n",
       "      <th>Open</th>\n",
       "      <th>High</th>\n",
       "      <th>Low</th>\n",
       "      <th>Close</th>\n",
       "      <th>Volume</th>\n",
       "      <th>Change</th>\n",
       "      <th>Code</th>\n",
       "      <th>Name</th>\n",
       "    </tr>\n",
       "    <tr>\n",
       "      <th>Date</th>\n",
       "      <th></th>\n",
       "      <th></th>\n",
       "      <th></th>\n",
       "      <th></th>\n",
       "      <th></th>\n",
       "      <th></th>\n",
       "      <th></th>\n",
       "      <th></th>\n",
       "    </tr>\n",
       "  </thead>\n",
       "  <tbody>\n",
       "    <tr>\n",
       "      <th>2022-05-02</th>\n",
       "      <td>3200</td>\n",
       "      <td>3275</td>\n",
       "      <td>3200</td>\n",
       "      <td>3250</td>\n",
       "      <td>69707</td>\n",
       "      <td>0.003086</td>\n",
       "      <td>060310</td>\n",
       "      <td>3S</td>\n",
       "    </tr>\n",
       "    <tr>\n",
       "      <th>2022-05-02</th>\n",
       "      <td>6630</td>\n",
       "      <td>6660</td>\n",
       "      <td>6420</td>\n",
       "      <td>6650</td>\n",
       "      <td>30618</td>\n",
       "      <td>0.000000</td>\n",
       "      <td>095570</td>\n",
       "      <td>AJ네트웍스</td>\n",
       "    </tr>\n",
       "    <tr>\n",
       "      <th>2022-05-02</th>\n",
       "      <td>21550</td>\n",
       "      <td>21650</td>\n",
       "      <td>21050</td>\n",
       "      <td>21350</td>\n",
       "      <td>14068</td>\n",
       "      <td>-0.006977</td>\n",
       "      <td>006840</td>\n",
       "      <td>AK홀딩스</td>\n",
       "    </tr>\n",
       "  </tbody>\n",
       "</table>\n",
       "</div>"
      ],
      "text/plain": [
       "             Open   High    Low  Close  Volume    Change    Code    Name\n",
       "Date                                                                    \n",
       "2022-05-02   3200   3275   3200   3250   69707  0.003086  060310      3S\n",
       "2022-05-02   6630   6660   6420   6650   30618  0.000000  095570  AJ네트웍스\n",
       "2022-05-02  21550  21650  21050  21350   14068 -0.006977  006840   AK홀딩스"
      ]
     },
     "execution_count": 7,
     "metadata": {},
     "output_type": "execute_result"
    }
   ],
   "source": [
    "daily"
   ]
  },
  {
   "cell_type": "code",
   "execution_count": 10,
   "id": "c14047c1",
   "metadata": {},
   "outputs": [],
   "source": [
    "import pandas as pd\n",
    "import numpy as np\n",
    "import time, json, requests\n",
    "from datetime import datetime, timedelta, date\n",
    "\n",
    "import pymysql # python에서 mysql을 사용하는 패키지\n",
    "\n",
    "import sqlalchemy # sql 접근 및 관리를 도와주는 패키지\n",
    "from sqlalchemy import create_engine"
   ]
  },
  {
   "cell_type": "code",
   "execution_count": 11,
   "id": "46ef6839",
   "metadata": {},
   "outputs": [],
   "source": [
    "server = '127.0.0.1'\n",
    "user = 'root'\n",
    "passwd = 'abcd123456'\n",
    "db = 'whsf1_db'\n",
    "\n",
    "# sqlalchemy의 create_engine을 이용하여 DB 연결\n",
    "engine = create_engine('mysql+pymysql://{}:{}@{}/{}?charset=utf8'.format(user, passwd, server, db))\n"
   ]
  },
  {
   "cell_type": "code",
   "execution_count": 12,
   "id": "b8c732db",
   "metadata": {},
   "outputs": [],
   "source": [
    "daily.to_sql(name='kospi_adjusted1',con=engine,if_exists='append',index=False,\n",
    "             dtype = { # sql에 저장할 때, 데이터 유형도 설정할 수 있다.\n",
    "\n",
    "                 'Open' : sqlalchemy.types.BIGINT(),\n",
    "                 'High' : sqlalchemy.types.BIGINT(),\n",
    "                 'Low' : sqlalchemy.types.BIGINT(),\n",
    "                 'Close' : sqlalchemy.types.BIGINT(),\n",
    "                 'Volume' : sqlalchemy.types.BIGINT(),\n",
    "                 'Change' : sqlalchemy.types.FLOAT(),\n",
    "                 'Code' : sqlalchemy.types.VARCHAR(10),\n",
    "                 'Name' : sqlalchemy.types.TEXT(),\n",
    "                 'Date' : sqlalchemy.types.DATE(),\n",
    "             }\n",
    "            )"
   ]
  },
  {
   "cell_type": "code",
   "execution_count": 16,
   "id": "6e9959e2",
   "metadata": {},
   "outputs": [
    {
     "data": {
      "text/html": [
       "<div>\n",
       "<style scoped>\n",
       "    .dataframe tbody tr th:only-of-type {\n",
       "        vertical-align: middle;\n",
       "    }\n",
       "\n",
       "    .dataframe tbody tr th {\n",
       "        vertical-align: top;\n",
       "    }\n",
       "\n",
       "    .dataframe thead th {\n",
       "        text-align: right;\n",
       "    }\n",
       "</style>\n",
       "<table border=\"1\" class=\"dataframe\">\n",
       "  <thead>\n",
       "    <tr style=\"text-align: right;\">\n",
       "      <th></th>\n",
       "      <th>Open</th>\n",
       "      <th>High</th>\n",
       "      <th>Low</th>\n",
       "      <th>Close</th>\n",
       "      <th>Volume</th>\n",
       "      <th>Change</th>\n",
       "      <th>Code</th>\n",
       "      <th>Name</th>\n",
       "    </tr>\n",
       "  </thead>\n",
       "  <tbody>\n",
       "    <tr>\n",
       "      <th>0</th>\n",
       "      <td>3200</td>\n",
       "      <td>3275</td>\n",
       "      <td>3200</td>\n",
       "      <td>3250</td>\n",
       "      <td>69707</td>\n",
       "      <td>0.003086</td>\n",
       "      <td>060310</td>\n",
       "      <td>3S</td>\n",
       "    </tr>\n",
       "    <tr>\n",
       "      <th>1</th>\n",
       "      <td>6630</td>\n",
       "      <td>6660</td>\n",
       "      <td>6420</td>\n",
       "      <td>6650</td>\n",
       "      <td>30618</td>\n",
       "      <td>0.000000</td>\n",
       "      <td>095570</td>\n",
       "      <td>AJ네트웍스</td>\n",
       "    </tr>\n",
       "    <tr>\n",
       "      <th>2</th>\n",
       "      <td>21550</td>\n",
       "      <td>21650</td>\n",
       "      <td>21050</td>\n",
       "      <td>21350</td>\n",
       "      <td>14068</td>\n",
       "      <td>-0.006977</td>\n",
       "      <td>006840</td>\n",
       "      <td>AK홀딩스</td>\n",
       "    </tr>\n",
       "  </tbody>\n",
       "</table>\n",
       "</div>"
      ],
      "text/plain": [
       "    Open   High    Low  Close  Volume    Change    Code    Name\n",
       "0   3200   3275   3200   3250   69707  0.003086  060310      3S\n",
       "1   6630   6660   6420   6650   30618  0.000000  095570  AJ네트웍스\n",
       "2  21550  21650  21050  21350   14068 -0.006977  006840   AK홀딩스"
      ]
     },
     "execution_count": 16,
     "metadata": {},
     "output_type": "execute_result"
    }
   ],
   "source": [
    "# DB 데이터 저장 확인\n",
    "sql = 'select * from kospi_adjusted1'\n",
    "db_data = pd.read_sql(sql, engine)\n",
    "db_data"
   ]
  },
  {
   "cell_type": "code",
   "execution_count": 17,
   "id": "dbcf2af1",
   "metadata": {},
   "outputs": [],
   "source": [
    "# DB 접속 해제\n",
    "engine.dispose()\n",
    "#cur.close()\n",
    "#conn.close()"
   ]
  },
  {
   "cell_type": "code",
   "execution_count": null,
   "id": "0144b16c",
   "metadata": {},
   "outputs": [],
   "source": []
  }
 ],
 "metadata": {
  "kernelspec": {
   "display_name": "Python 3 (ipykernel)",
   "language": "python",
   "name": "python3"
  },
  "language_info": {
   "codemirror_mode": {
    "name": "ipython",
    "version": 3
   },
   "file_extension": ".py",
   "mimetype": "text/x-python",
   "name": "python",
   "nbconvert_exporter": "python",
   "pygments_lexer": "ipython3",
   "version": "3.9.7"
  }
 },
 "nbformat": 4,
 "nbformat_minor": 5
}
