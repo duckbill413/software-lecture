{
 "cells": [
  {
   "cell_type": "code",
   "execution_count": 1,
   "id": "433b9a9a",
   "metadata": {},
   "outputs": [
    {
     "name": "stdout",
     "output_type": "stream",
     "text": [
      "Requirement already satisfied: pandas in c:\\users\\uhyeo\\anaconda3\\lib\\site-packages (1.3.4)\n",
      "Requirement already satisfied: numpy>=1.17.3 in c:\\users\\uhyeo\\anaconda3\\lib\\site-packages (from pandas) (1.20.3)\n",
      "Requirement already satisfied: python-dateutil>=2.7.3 in c:\\users\\uhyeo\\appdata\\roaming\\python\\python39\\site-packages (from pandas) (2.8.1)\n",
      "Requirement already satisfied: pytz>=2017.3 in c:\\users\\uhyeo\\anaconda3\\lib\\site-packages (from pandas) (2021.3)\n",
      "Requirement already satisfied: six>=1.5 in c:\\users\\uhyeo\\appdata\\roaming\\python\\python39\\site-packages (from python-dateutil>=2.7.3->pandas) (1.16.0)\n"
     ]
    }
   ],
   "source": [
    "!pip install pandas"
   ]
  },
  {
   "cell_type": "code",
   "execution_count": 2,
   "id": "0b829144",
   "metadata": {},
   "outputs": [],
   "source": [
    "import pandas as pd\n",
    "import numpy as np\n",
    "import os"
   ]
  },
  {
   "cell_type": "code",
   "execution_count": 3,
   "id": "ed4577bb",
   "metadata": {},
   "outputs": [],
   "source": [
    "# krx 코드 테스트(참고내용 테스트)"
   ]
  },
  {
   "cell_type": "code",
   "execution_count": 4,
   "id": "60d1f82f",
   "metadata": {},
   "outputs": [],
   "source": [
    "url = 'http://kind.krx.co.kr/corpgeneral/corpList.do?method=download&searchType=13'"
   ]
  },
  {
   "cell_type": "code",
   "execution_count": 5,
   "id": "b2fc1a93",
   "metadata": {},
   "outputs": [],
   "source": [
    "stock_code = pd.read_html(url, header=0)[0]"
   ]
  },
  {
   "cell_type": "code",
   "execution_count": 6,
   "id": "d6d9c3ef",
   "metadata": {},
   "outputs": [
    {
     "data": {
      "text/html": [
       "<div>\n",
       "<style scoped>\n",
       "    .dataframe tbody tr th:only-of-type {\n",
       "        vertical-align: middle;\n",
       "    }\n",
       "\n",
       "    .dataframe tbody tr th {\n",
       "        vertical-align: top;\n",
       "    }\n",
       "\n",
       "    .dataframe thead th {\n",
       "        text-align: right;\n",
       "    }\n",
       "</style>\n",
       "<table border=\"1\" class=\"dataframe\">\n",
       "  <thead>\n",
       "    <tr style=\"text-align: right;\">\n",
       "      <th></th>\n",
       "      <th>회사명</th>\n",
       "      <th>종목코드</th>\n",
       "      <th>업종</th>\n",
       "      <th>주요제품</th>\n",
       "      <th>상장일</th>\n",
       "      <th>결산월</th>\n",
       "      <th>대표자명</th>\n",
       "      <th>홈페이지</th>\n",
       "      <th>지역</th>\n",
       "    </tr>\n",
       "  </thead>\n",
       "  <tbody>\n",
       "    <tr>\n",
       "      <th>0</th>\n",
       "      <td>DL</td>\n",
       "      <td>000210</td>\n",
       "      <td>기타 금융업</td>\n",
       "      <td>지주회사</td>\n",
       "      <td>1976-02-02</td>\n",
       "      <td>12월</td>\n",
       "      <td>전병욱</td>\n",
       "      <td>http://www.dlholdings.co.kr</td>\n",
       "      <td>서울특별시</td>\n",
       "    </tr>\n",
       "    <tr>\n",
       "      <th>1</th>\n",
       "      <td>DRB동일</td>\n",
       "      <td>004840</td>\n",
       "      <td>고무제품 제조업</td>\n",
       "      <td>고무벨트(V벨트,콘베이어벨트,평벨트),프라스틱제품 제조,판매</td>\n",
       "      <td>1976-05-21</td>\n",
       "      <td>12월</td>\n",
       "      <td>류영식</td>\n",
       "      <td>http://drbworld.com</td>\n",
       "      <td>부산광역시</td>\n",
       "    </tr>\n",
       "    <tr>\n",
       "      <th>2</th>\n",
       "      <td>DSR</td>\n",
       "      <td>155660</td>\n",
       "      <td>1차 비철금속 제조업</td>\n",
       "      <td>합섬섬유로프</td>\n",
       "      <td>2013-05-15</td>\n",
       "      <td>12월</td>\n",
       "      <td>홍석빈</td>\n",
       "      <td>http://www.dsr.com</td>\n",
       "      <td>부산광역시</td>\n",
       "    </tr>\n",
       "    <tr>\n",
       "      <th>3</th>\n",
       "      <td>GS</td>\n",
       "      <td>078930</td>\n",
       "      <td>기타 금융업</td>\n",
       "      <td>지주회사/부동산 임대</td>\n",
       "      <td>2004-08-05</td>\n",
       "      <td>12월</td>\n",
       "      <td>허태수, 홍순기 (각자 대표이사)</td>\n",
       "      <td>NaN</td>\n",
       "      <td>서울특별시</td>\n",
       "    </tr>\n",
       "    <tr>\n",
       "      <th>4</th>\n",
       "      <td>KG동부제철</td>\n",
       "      <td>016380</td>\n",
       "      <td>1차 철강 제조업</td>\n",
       "      <td>철강재(냉연강판,아연도강판,칼라강판,석도강판,선재류,강관,형강,봉강),비철금속 제조,도매</td>\n",
       "      <td>1986-02-03</td>\n",
       "      <td>12월</td>\n",
       "      <td>박성희</td>\n",
       "      <td>http://www.kgdongbusteel.co.kr</td>\n",
       "      <td>서울특별시</td>\n",
       "    </tr>\n",
       "  </tbody>\n",
       "</table>\n",
       "</div>"
      ],
      "text/plain": [
       "      회사명    종목코드           업종  \\\n",
       "0      DL  000210       기타 금융업   \n",
       "1   DRB동일  004840     고무제품 제조업   \n",
       "2     DSR  155660  1차 비철금속 제조업   \n",
       "3      GS  078930       기타 금융업   \n",
       "4  KG동부제철  016380    1차 철강 제조업   \n",
       "\n",
       "                                                주요제품         상장일  결산월  \\\n",
       "0                                               지주회사  1976-02-02  12월   \n",
       "1                  고무벨트(V벨트,콘베이어벨트,평벨트),프라스틱제품 제조,판매  1976-05-21  12월   \n",
       "2                                             합섬섬유로프  2013-05-15  12월   \n",
       "3                                        지주회사/부동산 임대  2004-08-05  12월   \n",
       "4  철강재(냉연강판,아연도강판,칼라강판,석도강판,선재류,강관,형강,봉강),비철금속 제조,도매  1986-02-03  12월   \n",
       "\n",
       "                 대표자명                            홈페이지     지역  \n",
       "0                 전병욱     http://www.dlholdings.co.kr  서울특별시  \n",
       "1                 류영식             http://drbworld.com  부산광역시  \n",
       "2                 홍석빈              http://www.dsr.com  부산광역시  \n",
       "3  허태수, 홍순기 (각자 대표이사)                             NaN  서울특별시  \n",
       "4                 박성희  http://www.kgdongbusteel.co.kr  서울특별시  "
      ]
     },
     "execution_count": 6,
     "metadata": {},
     "output_type": "execute_result"
    }
   ],
   "source": [
    "# 종목코드를 6자리로 수정\n",
    "stock_code['종목코드'] = stock_code['종목코드'].map('{:06d}'.format)\n",
    "stock_code.head()"
   ]
  },
  {
   "cell_type": "code",
   "execution_count": 7,
   "id": "6d2b4e83",
   "metadata": {},
   "outputs": [
    {
     "data": {
      "text/html": [
       "<div>\n",
       "<style scoped>\n",
       "    .dataframe tbody tr th:only-of-type {\n",
       "        vertical-align: middle;\n",
       "    }\n",
       "\n",
       "    .dataframe tbody tr th {\n",
       "        vertical-align: top;\n",
       "    }\n",
       "\n",
       "    .dataframe thead th {\n",
       "        text-align: right;\n",
       "    }\n",
       "</style>\n",
       "<table border=\"1\" class=\"dataframe\">\n",
       "  <thead>\n",
       "    <tr style=\"text-align: right;\">\n",
       "      <th></th>\n",
       "      <th>name</th>\n",
       "      <th>code</th>\n",
       "      <th>sectors</th>\n",
       "      <th>products</th>\n",
       "      <th>listing_date</th>\n",
       "      <th>closing_date</th>\n",
       "    </tr>\n",
       "  </thead>\n",
       "  <tbody>\n",
       "    <tr>\n",
       "      <th>0</th>\n",
       "      <td>DL</td>\n",
       "      <td>000210</td>\n",
       "      <td>기타 금융업</td>\n",
       "      <td>지주회사</td>\n",
       "      <td>1976-02-02</td>\n",
       "      <td>12월</td>\n",
       "    </tr>\n",
       "    <tr>\n",
       "      <th>1</th>\n",
       "      <td>DRB동일</td>\n",
       "      <td>004840</td>\n",
       "      <td>고무제품 제조업</td>\n",
       "      <td>고무벨트(V벨트,콘베이어벨트,평벨트),프라스틱제품 제조,판매</td>\n",
       "      <td>1976-05-21</td>\n",
       "      <td>12월</td>\n",
       "    </tr>\n",
       "    <tr>\n",
       "      <th>2</th>\n",
       "      <td>DSR</td>\n",
       "      <td>155660</td>\n",
       "      <td>1차 비철금속 제조업</td>\n",
       "      <td>합섬섬유로프</td>\n",
       "      <td>2013-05-15</td>\n",
       "      <td>12월</td>\n",
       "    </tr>\n",
       "    <tr>\n",
       "      <th>3</th>\n",
       "      <td>GS</td>\n",
       "      <td>078930</td>\n",
       "      <td>기타 금융업</td>\n",
       "      <td>지주회사/부동산 임대</td>\n",
       "      <td>2004-08-05</td>\n",
       "      <td>12월</td>\n",
       "    </tr>\n",
       "    <tr>\n",
       "      <th>4</th>\n",
       "      <td>KG동부제철</td>\n",
       "      <td>016380</td>\n",
       "      <td>1차 철강 제조업</td>\n",
       "      <td>철강재(냉연강판,아연도강판,칼라강판,석도강판,선재류,강관,형강,봉강),비철금속 제조,도매</td>\n",
       "      <td>1986-02-03</td>\n",
       "      <td>12월</td>\n",
       "    </tr>\n",
       "  </tbody>\n",
       "</table>\n",
       "</div>"
      ],
      "text/plain": [
       "     name    code      sectors  \\\n",
       "0      DL  000210       기타 금융업   \n",
       "1   DRB동일  004840     고무제품 제조업   \n",
       "2     DSR  155660  1차 비철금속 제조업   \n",
       "3      GS  078930       기타 금융업   \n",
       "4  KG동부제철  016380    1차 철강 제조업   \n",
       "\n",
       "                                            products listing_date closing_date  \n",
       "0                                               지주회사   1976-02-02          12월  \n",
       "1                  고무벨트(V벨트,콘베이어벨트,평벨트),프라스틱제품 제조,판매   1976-05-21          12월  \n",
       "2                                             합섬섬유로프   2013-05-15          12월  \n",
       "3                                        지주회사/부동산 임대   2004-08-05          12월  \n",
       "4  철강재(냉연강판,아연도강판,칼라강판,석도강판,선재류,강관,형강,봉강),비철금속 제조,도매   1986-02-03          12월  "
      ]
     },
     "execution_count": 7,
     "metadata": {},
     "output_type": "execute_result"
    }
   ],
   "source": [
    "# 분석에 필요한 칼럼만 수정하고, 영어로 수정\n",
    "stock_code = stock_code[['회사명', '종목코드', '업종', '주요제품', '상장일', '결산월']]\n",
    "stock_code = stock_code.rename(columns = {'회사명': 'name', '종목코드': 'code', '업종': 'sectors','주요제품': 'products',\n",
    "                                         '상장일': 'listing_date', '결산월': 'closing_date'})\n",
    "stock_code['listing_date'] = pd.to_datetime(stock_code['listing_date'])\n",
    "stock_code.head()"
   ]
  },
  {
   "cell_type": "code",
   "execution_count": 8,
   "id": "2abf352f",
   "metadata": {},
   "outputs": [],
   "source": [
    "# 위의 내용을 함수로 정리\n",
    "def get_krx_code():\n",
    "    url = 'http://kind.krx.co.kr/corpgeneral/corpList.do?method=download&searchType=13'\n",
    "    stock_code = pd.read_html(url, header = 0)[0]\n",
    "    stock_code['종목코드'] = stock_code['종목코드'].map('{:06d}'.format)\n",
    "    stock_code = stock_code[['회사명', '종목코드', '업종', '주요제품', '상장일', '결산월']]\n",
    "    stock_code = stock_code.rename(columns = {'회사명': 'name', '종목코드': 'code', '업종': 'sectors','주요제품': 'products',\n",
    "                                              '상장일': 'listing_date', '결산월': 'closing_date'})\n",
    "    stock_code['listing_date'] = pd.to_datetime(stock_code['listing_date'])\n",
    "    \n",
    "    return stock_code"
   ]
  },
  {
   "cell_type": "code",
   "execution_count": 9,
   "id": "09a36b44",
   "metadata": {},
   "outputs": [
    {
     "data": {
      "text/html": [
       "<div>\n",
       "<style scoped>\n",
       "    .dataframe tbody tr th:only-of-type {\n",
       "        vertical-align: middle;\n",
       "    }\n",
       "\n",
       "    .dataframe tbody tr th {\n",
       "        vertical-align: top;\n",
       "    }\n",
       "\n",
       "    .dataframe thead th {\n",
       "        text-align: right;\n",
       "    }\n",
       "</style>\n",
       "<table border=\"1\" class=\"dataframe\">\n",
       "  <thead>\n",
       "    <tr style=\"text-align: right;\">\n",
       "      <th></th>\n",
       "      <th>name</th>\n",
       "      <th>code</th>\n",
       "      <th>sectors</th>\n",
       "      <th>products</th>\n",
       "      <th>listing_date</th>\n",
       "      <th>closing_date</th>\n",
       "    </tr>\n",
       "  </thead>\n",
       "  <tbody>\n",
       "    <tr>\n",
       "      <th>0</th>\n",
       "      <td>DL</td>\n",
       "      <td>000210</td>\n",
       "      <td>기타 금융업</td>\n",
       "      <td>지주회사</td>\n",
       "      <td>1976-02-02</td>\n",
       "      <td>12월</td>\n",
       "    </tr>\n",
       "    <tr>\n",
       "      <th>1</th>\n",
       "      <td>DRB동일</td>\n",
       "      <td>004840</td>\n",
       "      <td>고무제품 제조업</td>\n",
       "      <td>고무벨트(V벨트,콘베이어벨트,평벨트),프라스틱제품 제조,판매</td>\n",
       "      <td>1976-05-21</td>\n",
       "      <td>12월</td>\n",
       "    </tr>\n",
       "    <tr>\n",
       "      <th>2</th>\n",
       "      <td>DSR</td>\n",
       "      <td>155660</td>\n",
       "      <td>1차 비철금속 제조업</td>\n",
       "      <td>합섬섬유로프</td>\n",
       "      <td>2013-05-15</td>\n",
       "      <td>12월</td>\n",
       "    </tr>\n",
       "    <tr>\n",
       "      <th>3</th>\n",
       "      <td>GS</td>\n",
       "      <td>078930</td>\n",
       "      <td>기타 금융업</td>\n",
       "      <td>지주회사/부동산 임대</td>\n",
       "      <td>2004-08-05</td>\n",
       "      <td>12월</td>\n",
       "    </tr>\n",
       "    <tr>\n",
       "      <th>4</th>\n",
       "      <td>KG동부제철</td>\n",
       "      <td>016380</td>\n",
       "      <td>1차 철강 제조업</td>\n",
       "      <td>철강재(냉연강판,아연도강판,칼라강판,석도강판,선재류,강관,형강,봉강),비철금속 제조,도매</td>\n",
       "      <td>1986-02-03</td>\n",
       "      <td>12월</td>\n",
       "    </tr>\n",
       "    <tr>\n",
       "      <th>...</th>\n",
       "      <td>...</td>\n",
       "      <td>...</td>\n",
       "      <td>...</td>\n",
       "      <td>...</td>\n",
       "      <td>...</td>\n",
       "      <td>...</td>\n",
       "    </tr>\n",
       "    <tr>\n",
       "      <th>2497</th>\n",
       "      <td>토마토시스템</td>\n",
       "      <td>393210</td>\n",
       "      <td>소프트웨어 개발 및 공급업</td>\n",
       "      <td>UI솔루션</td>\n",
       "      <td>2021-10-14</td>\n",
       "      <td>12월</td>\n",
       "    </tr>\n",
       "    <tr>\n",
       "      <th>2498</th>\n",
       "      <td>틸론</td>\n",
       "      <td>217880</td>\n",
       "      <td>소프트웨어 개발 및 공급업</td>\n",
       "      <td>Cloud Solution (D,A,E,Rstation)</td>\n",
       "      <td>2015-05-28</td>\n",
       "      <td>12월</td>\n",
       "    </tr>\n",
       "    <tr>\n",
       "      <th>2499</th>\n",
       "      <td>플럼라인생명과학</td>\n",
       "      <td>222670</td>\n",
       "      <td>자연과학 및 공학 연구개발업</td>\n",
       "      <td>강아지암치료제,돼지DNA테라피</td>\n",
       "      <td>2015-07-28</td>\n",
       "      <td>12월</td>\n",
       "    </tr>\n",
       "    <tr>\n",
       "      <th>2500</th>\n",
       "      <td>한국미라클피플사</td>\n",
       "      <td>331660</td>\n",
       "      <td>기타 화학제품 제조업</td>\n",
       "      <td>은나노스텝, 닥터오렌지 등</td>\n",
       "      <td>2019-10-28</td>\n",
       "      <td>12월</td>\n",
       "    </tr>\n",
       "    <tr>\n",
       "      <th>2501</th>\n",
       "      <td>휴벡셀</td>\n",
       "      <td>212310</td>\n",
       "      <td>의료용 기기 제조업</td>\n",
       "      <td>척추용 임플란트 등</td>\n",
       "      <td>2016-07-26</td>\n",
       "      <td>12월</td>\n",
       "    </tr>\n",
       "  </tbody>\n",
       "</table>\n",
       "<p>2502 rows × 6 columns</p>\n",
       "</div>"
      ],
      "text/plain": [
       "          name    code          sectors  \\\n",
       "0           DL  000210           기타 금융업   \n",
       "1        DRB동일  004840         고무제품 제조업   \n",
       "2          DSR  155660      1차 비철금속 제조업   \n",
       "3           GS  078930           기타 금융업   \n",
       "4       KG동부제철  016380        1차 철강 제조업   \n",
       "...        ...     ...              ...   \n",
       "2497    토마토시스템  393210   소프트웨어 개발 및 공급업   \n",
       "2498        틸론  217880   소프트웨어 개발 및 공급업   \n",
       "2499  플럼라인생명과학  222670  자연과학 및 공학 연구개발업   \n",
       "2500  한국미라클피플사  331660      기타 화학제품 제조업   \n",
       "2501       휴벡셀  212310       의료용 기기 제조업   \n",
       "\n",
       "                                               products listing_date  \\\n",
       "0                                                  지주회사   1976-02-02   \n",
       "1                     고무벨트(V벨트,콘베이어벨트,평벨트),프라스틱제품 제조,판매   1976-05-21   \n",
       "2                                                합섬섬유로프   2013-05-15   \n",
       "3                                           지주회사/부동산 임대   2004-08-05   \n",
       "4     철강재(냉연강판,아연도강판,칼라강판,석도강판,선재류,강관,형강,봉강),비철금속 제조,도매   1986-02-03   \n",
       "...                                                 ...          ...   \n",
       "2497                                              UI솔루션   2021-10-14   \n",
       "2498                    Cloud Solution (D,A,E,Rstation)   2015-05-28   \n",
       "2499                                   강아지암치료제,돼지DNA테라피   2015-07-28   \n",
       "2500                                     은나노스텝, 닥터오렌지 등   2019-10-28   \n",
       "2501                                         척추용 임플란트 등   2016-07-26   \n",
       "\n",
       "     closing_date  \n",
       "0             12월  \n",
       "1             12월  \n",
       "2             12월  \n",
       "3             12월  \n",
       "4             12월  \n",
       "...           ...  \n",
       "2497          12월  \n",
       "2498          12월  \n",
       "2499          12월  \n",
       "2500          12월  \n",
       "2501          12월  \n",
       "\n",
       "[2502 rows x 6 columns]"
      ]
     },
     "execution_count": 9,
     "metadata": {},
     "output_type": "execute_result"
    }
   ],
   "source": [
    "get_krx_code()"
   ]
  },
  {
   "cell_type": "code",
   "execution_count": 10,
   "id": "d787f6a4",
   "metadata": {},
   "outputs": [],
   "source": [
    "# 강의 내용 6-2 실습"
   ]
  },
  {
   "cell_type": "code",
   "execution_count": 11,
   "id": "5e1225c9",
   "metadata": {},
   "outputs": [
    {
     "data": {
      "text/html": [
       "<div>\n",
       "<style scoped>\n",
       "    .dataframe tbody tr th:only-of-type {\n",
       "        vertical-align: middle;\n",
       "    }\n",
       "\n",
       "    .dataframe tbody tr th {\n",
       "        vertical-align: top;\n",
       "    }\n",
       "\n",
       "    .dataframe thead th {\n",
       "        text-align: right;\n",
       "    }\n",
       "</style>\n",
       "<table border=\"1\" class=\"dataframe\">\n",
       "  <thead>\n",
       "    <tr style=\"text-align: right;\">\n",
       "      <th></th>\n",
       "      <th>code</th>\n",
       "      <th>company</th>\n",
       "    </tr>\n",
       "  </thead>\n",
       "  <tbody>\n",
       "    <tr>\n",
       "      <th>0</th>\n",
       "      <td>000210</td>\n",
       "      <td>DL</td>\n",
       "    </tr>\n",
       "    <tr>\n",
       "      <th>1</th>\n",
       "      <td>004840</td>\n",
       "      <td>DRB동일</td>\n",
       "    </tr>\n",
       "    <tr>\n",
       "      <th>2</th>\n",
       "      <td>155660</td>\n",
       "      <td>DSR</td>\n",
       "    </tr>\n",
       "    <tr>\n",
       "      <th>3</th>\n",
       "      <td>078930</td>\n",
       "      <td>GS</td>\n",
       "    </tr>\n",
       "    <tr>\n",
       "      <th>4</th>\n",
       "      <td>016380</td>\n",
       "      <td>KG동부제철</td>\n",
       "    </tr>\n",
       "    <tr>\n",
       "      <th>...</th>\n",
       "      <td>...</td>\n",
       "      <td>...</td>\n",
       "    </tr>\n",
       "    <tr>\n",
       "      <th>2497</th>\n",
       "      <td>393210</td>\n",
       "      <td>토마토시스템</td>\n",
       "    </tr>\n",
       "    <tr>\n",
       "      <th>2498</th>\n",
       "      <td>217880</td>\n",
       "      <td>틸론</td>\n",
       "    </tr>\n",
       "    <tr>\n",
       "      <th>2499</th>\n",
       "      <td>222670</td>\n",
       "      <td>플럼라인생명과학</td>\n",
       "    </tr>\n",
       "    <tr>\n",
       "      <th>2500</th>\n",
       "      <td>331660</td>\n",
       "      <td>한국미라클피플사</td>\n",
       "    </tr>\n",
       "    <tr>\n",
       "      <th>2501</th>\n",
       "      <td>212310</td>\n",
       "      <td>휴벡셀</td>\n",
       "    </tr>\n",
       "  </tbody>\n",
       "</table>\n",
       "<p>2502 rows × 2 columns</p>\n",
       "</div>"
      ],
      "text/plain": [
       "        code   company\n",
       "0     000210        DL\n",
       "1     004840     DRB동일\n",
       "2     155660       DSR\n",
       "3     078930        GS\n",
       "4     016380    KG동부제철\n",
       "...      ...       ...\n",
       "2497  393210    토마토시스템\n",
       "2498  217880        틸론\n",
       "2499  222670  플럼라인생명과학\n",
       "2500  331660  한국미라클피플사\n",
       "2501  212310       휴벡셀\n",
       "\n",
       "[2502 rows x 2 columns]"
      ]
     },
     "execution_count": 11,
     "metadata": {},
     "output_type": "execute_result"
    }
   ],
   "source": [
    "def read_krx_code():\n",
    "    \"\"\"KRX로부터 상장기업 목록 파일을 읽어와서 데이터프레임 반환\"\"\"\n",
    "    url = 'http://kind.krx.co.kr/corpgeneral/corpList.do?method=download&searchType=13'\n",
    "    krx = pd.read_html(url, header = 0)[0]\n",
    "    krx = krx[['종목코드', '회사명']]\n",
    "    krx = krx.rename(columns={'종목코드': 'code', '회사명': 'company'})\n",
    "    krx.code = krx.code.map('{:06d}'.format)\n",
    "    return krx\n",
    "\n",
    "read_krx_code()"
   ]
  },
  {
   "cell_type": "code",
   "execution_count": 12,
   "id": "4b677f69",
   "metadata": {},
   "outputs": [
    {
     "name": "stdout",
     "output_type": "stream",
     "text": [
      "Requirement already satisfied: pymysql in c:\\users\\uhyeo\\anaconda3\\lib\\site-packages (1.0.2)\n"
     ]
    }
   ],
   "source": [
    "!pip install pymysql\n",
    "import pymysql as pm\n",
    "from datetime import datetime"
   ]
  },
  {
   "cell_type": "code",
   "execution_count": 13,
   "id": "9774a49d",
   "metadata": {},
   "outputs": [],
   "source": [
    "conn=pm.connect(host='localhost', port=3306, user='root', passwd='abcd123456', db='whsf1_db', autocommit=True, charset='utf8')\n",
    "\"\"\"종목코드를 company_info 테이블에 업데이트 한 후 딕셔너리에 저장\"\"\"\n",
    "\n",
    "sql = \"select * from company_info\"\n",
    "\n",
    "codes = dict()\n",
    "curs = conn.cursor()\n",
    "\n",
    "df = pd.read_sql(sql, conn)"
   ]
  },
  {
   "cell_type": "code",
   "execution_count": 14,
   "id": "1802881c",
   "metadata": {},
   "outputs": [
    {
     "data": {
      "text/html": [
       "<div>\n",
       "<style scoped>\n",
       "    .dataframe tbody tr th:only-of-type {\n",
       "        vertical-align: middle;\n",
       "    }\n",
       "\n",
       "    .dataframe tbody tr th {\n",
       "        vertical-align: top;\n",
       "    }\n",
       "\n",
       "    .dataframe thead th {\n",
       "        text-align: right;\n",
       "    }\n",
       "</style>\n",
       "<table border=\"1\" class=\"dataframe\">\n",
       "  <thead>\n",
       "    <tr style=\"text-align: right;\">\n",
       "      <th></th>\n",
       "      <th>code</th>\n",
       "      <th>company</th>\n",
       "      <th>last_update</th>\n",
       "    </tr>\n",
       "  </thead>\n",
       "  <tbody>\n",
       "  </tbody>\n",
       "</table>\n",
       "</div>"
      ],
      "text/plain": [
       "Empty DataFrame\n",
       "Columns: [code, company, last_update]\n",
       "Index: []"
      ]
     },
     "execution_count": 14,
     "metadata": {},
     "output_type": "execute_result"
    }
   ],
   "source": [
    "df"
   ]
  },
  {
   "cell_type": "code",
   "execution_count": 15,
   "id": "8eeda7b3",
   "metadata": {},
   "outputs": [],
   "source": [
    "# df에 있는 데이터중 code와 company 컬럼값을 추출\n",
    "for idx in range(len(df)):\n",
    "    codes[df['code'].values[idx]] = df['company'].values[idx]"
   ]
  },
  {
   "cell_type": "code",
   "execution_count": 16,
   "id": "e8e27fe7",
   "metadata": {},
   "outputs": [
    {
     "name": "stdout",
     "output_type": "stream",
     "text": [
      "(None,)\n",
      "2022-04-09 01:08:25.355598\n",
      "2022-04-09\n"
     ]
    }
   ],
   "source": [
    "# DB에서 종목명 업데이트된 마지막 일자 추출\n",
    "sql = \"select max(last_update) from company_info\"\n",
    "curs.execute(sql)\n",
    "\n",
    "# DB에서 가져온 첫번째 결과\n",
    "rs = curs.fetchone()\n",
    "print(rs)\n",
    "\n",
    "# 오늘 날짜 및 현재시간\n",
    "var = datetime.today()\n",
    "print(var)\n",
    "\n",
    "# 오늘 날짜 부분만 today에 할당\n",
    "today = datetime.today().strftime('%Y-%m-%d')\n",
    "print(today)"
   ]
  },
  {
   "cell_type": "code",
   "execution_count": 19,
   "id": "5a3a279a",
   "metadata": {},
   "outputs": [
    {
     "name": "stdout",
     "output_type": "stream",
     "text": [
      "000210\n",
      "DL\n",
      "[2022-04-09 01:15] #0001 replace into company_info values (000210, DL, 2022-04-09)\n",
      "004840\n",
      "DRB동일\n",
      "[2022-04-09 01:15] #0002 replace into company_info values (004840, DRB동일, 2022-04-09)\n",
      "155660\n",
      "DSR\n",
      "[2022-04-09 01:15] #0003 replace into company_info values (155660, DSR, 2022-04-09)\n",
      "078930\n",
      "GS\n",
      "[2022-04-09 01:15] #0004 replace into company_info values (078930, GS, 2022-04-09)\n",
      "016380\n",
      "KG동부제철\n",
      "[2022-04-09 01:15] #0005 replace into company_info values (016380, KG동부제철, 2022-04-09)\n",
      "Update Complete!\n"
     ]
    }
   ],
   "source": [
    "# DB에 데이터가 없거나 오늘 전의 데이터일 경우 종목명 및 코드 업데이트\n",
    "def update_krx_data():\n",
    "    if rs[0] == None or rs[0].strftime('%Y-%m-%d') < today:\n",
    "        krx = read_krx_code()\n",
    "\n",
    "        for idx in range(len(krx)):\n",
    "            code = krx.code.values[idx]\n",
    "            company = krx.company.values[idx]\n",
    "            sql = f\"replace into company_info (code, company, last\"\\\n",
    "            f\"_update) values ('{code}', '{company}', '{today}')\"\n",
    "            curs.execute(sql)\n",
    "            codes[code] = company\n",
    "            tmnow = datetime.now().strftime('%Y-%m-%d %H:%M')\n",
    "            if idx < 5:\n",
    "                print(code)\n",
    "                print(company)\n",
    "                print(f\"[{tmnow}] #{idx+1:04d} replace into company_info \"\\\n",
    "                  f\"values ({code}, {company}, {today})\")\n",
    "        print(\"Update Complete!\")\n",
    "        conn.commit()\n",
    "    else :\n",
    "        print(\"Update Fail!\")\n",
    "\n",
    "update_krx_data() # 데이터 업데이트\n",
    "#conn.close()"
   ]
  },
  {
   "cell_type": "code",
   "execution_count": 20,
   "id": "4ad92128",
   "metadata": {},
   "outputs": [
    {
     "data": {
      "text/plain": [
       "0"
      ]
     },
     "execution_count": 20,
     "metadata": {},
     "output_type": "execute_result"
    }
   ],
   "source": [
    "# truncate 데이터 삭제 실습\n",
    "trunsql = \"truncate company_info\"\n",
    "curs.execute(trunsql)"
   ]
  },
  {
   "cell_type": "code",
   "execution_count": 21,
   "id": "ff9fb879",
   "metadata": {},
   "outputs": [
    {
     "name": "stdout",
     "output_type": "stream",
     "text": [
      "000210\n",
      "DL\n",
      "[2022-04-09 01:15] #0001 replace into company_info values (000210, DL, 2022-04-09)\n",
      "004840\n",
      "DRB동일\n",
      "[2022-04-09 01:15] #0002 replace into company_info values (004840, DRB동일, 2022-04-09)\n",
      "155660\n",
      "DSR\n",
      "[2022-04-09 01:15] #0003 replace into company_info values (155660, DSR, 2022-04-09)\n",
      "078930\n",
      "GS\n",
      "[2022-04-09 01:15] #0004 replace into company_info values (078930, GS, 2022-04-09)\n",
      "016380\n",
      "KG동부제철\n",
      "[2022-04-09 01:15] #0005 replace into company_info values (016380, KG동부제철, 2022-04-09)\n",
      "Update Complete!\n"
     ]
    }
   ],
   "source": [
    "update_krx_data() # 데이터 업데이트"
   ]
  },
  {
   "cell_type": "code",
   "execution_count": 22,
   "id": "dfe7833f",
   "metadata": {},
   "outputs": [
    {
     "data": {
      "text/plain": [
       "2502"
      ]
     },
     "execution_count": 22,
     "metadata": {},
     "output_type": "execute_result"
    }
   ],
   "source": [
    "# delete 데이터 삭제 실습\n",
    "delsql = \"delete from company_info\"\n",
    "curs.execute(delsql)"
   ]
  },
  {
   "cell_type": "code",
   "execution_count": 23,
   "id": "cf99a37b",
   "metadata": {},
   "outputs": [
    {
     "name": "stdout",
     "output_type": "stream",
     "text": [
      "000210\n",
      "DL\n",
      "[2022-04-09 01:15] #0001 replace into company_info values (000210, DL, 2022-04-09)\n",
      "004840\n",
      "DRB동일\n",
      "[2022-04-09 01:15] #0002 replace into company_info values (004840, DRB동일, 2022-04-09)\n",
      "155660\n",
      "DSR\n",
      "[2022-04-09 01:15] #0003 replace into company_info values (155660, DSR, 2022-04-09)\n",
      "078930\n",
      "GS\n",
      "[2022-04-09 01:15] #0004 replace into company_info values (078930, GS, 2022-04-09)\n",
      "016380\n",
      "KG동부제철\n",
      "[2022-04-09 01:15] #0005 replace into company_info values (016380, KG동부제철, 2022-04-09)\n",
      "Update Complete!\n"
     ]
    }
   ],
   "source": [
    "update_krx_data() # 데이터 업데이트\n",
    "conn.close() # 연결 종료"
   ]
  },
  {
   "cell_type": "code",
   "execution_count": null,
   "id": "71d0e577",
   "metadata": {},
   "outputs": [],
   "source": []
  }
 ],
 "metadata": {
  "kernelspec": {
   "display_name": "Python 3 (ipykernel)",
   "language": "python",
   "name": "python3"
  },
  "language_info": {
   "codemirror_mode": {
    "name": "ipython",
    "version": 3
   },
   "file_extension": ".py",
   "mimetype": "text/x-python",
   "name": "python",
   "nbconvert_exporter": "python",
   "pygments_lexer": "ipython3",
   "version": "3.9.7"
  }
 },
 "nbformat": 4,
 "nbformat_minor": 5
}
