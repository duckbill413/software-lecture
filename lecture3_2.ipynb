{
  "nbformat": 4,
  "nbformat_minor": 0,
  "metadata": {
    "colab": {
      "name": "lecture3-2.ipynb",
      "provenance": [],
      "collapsed_sections": [],
      "authorship_tag": "ABX9TyMeu50mAfuBCALQXqo876Ql",
      "include_colab_link": true
    },
    "kernelspec": {
      "name": "python3",
      "display_name": "Python 3"
    },
    "language_info": {
      "name": "python"
    }
  },
  "cells": [
    {
      "cell_type": "markdown",
      "metadata": {
        "id": "view-in-github",
        "colab_type": "text"
      },
      "source": [
        "<a href=\"https://colab.research.google.com/github/duckbillLvr/software-lecture/blob/main/lecture3_2.ipynb\" target=\"_parent\"><img src=\"https://colab.research.google.com/assets/colab-badge.svg\" alt=\"Open In Colab\"/></a>"
      ]
    },
    {
      "cell_type": "code",
      "execution_count": 2,
      "metadata": {
        "colab": {
          "base_uri": "https://localhost:8080/"
        },
        "id": "PTk3DXo8Iy3o",
        "outputId": "044ea05a-1fb8-451d-866b-233d372aa683"
      },
      "outputs": [
        {
          "output_type": "stream",
          "name": "stdout",
          "text": [
            "Collecting finterstellar\n",
            "  Downloading finterstellar-0.1.19-py3-none-any.whl (12 kB)\n",
            "Requirement already satisfied: numpy>=1.19.3 in /usr/local/lib/python3.7/dist-packages (from finterstellar) (1.21.5)\n",
            "Collecting pandas-datareader>=0.10.0\n",
            "  Downloading pandas_datareader-0.10.0-py3-none-any.whl (109 kB)\n",
            "\u001b[K     |████████████████████████████████| 109 kB 2.7 MB/s \n",
            "\u001b[?25hRequirement already satisfied: pandas>=1.1.4 in /usr/local/lib/python3.7/dist-packages (from finterstellar) (1.3.5)\n",
            "Requirement already satisfied: lxml>=4.2.6 in /usr/local/lib/python3.7/dist-packages (from finterstellar) (4.2.6)\n",
            "Requirement already satisfied: requests>=2.23.0 in /usr/local/lib/python3.7/dist-packages (from finterstellar) (2.23.0)\n",
            "Requirement already satisfied: pytz>=2017.3 in /usr/local/lib/python3.7/dist-packages (from pandas>=1.1.4->finterstellar) (2018.9)\n",
            "Requirement already satisfied: python-dateutil>=2.7.3 in /usr/local/lib/python3.7/dist-packages (from pandas>=1.1.4->finterstellar) (2.8.2)\n",
            "Requirement already satisfied: six>=1.5 in /usr/local/lib/python3.7/dist-packages (from python-dateutil>=2.7.3->pandas>=1.1.4->finterstellar) (1.15.0)\n",
            "Requirement already satisfied: chardet<4,>=3.0.2 in /usr/local/lib/python3.7/dist-packages (from requests>=2.23.0->finterstellar) (3.0.4)\n",
            "Requirement already satisfied: urllib3!=1.25.0,!=1.25.1,<1.26,>=1.21.1 in /usr/local/lib/python3.7/dist-packages (from requests>=2.23.0->finterstellar) (1.24.3)\n",
            "Requirement already satisfied: idna<3,>=2.5 in /usr/local/lib/python3.7/dist-packages (from requests>=2.23.0->finterstellar) (2.10)\n",
            "Requirement already satisfied: certifi>=2017.4.17 in /usr/local/lib/python3.7/dist-packages (from requests>=2.23.0->finterstellar) (2021.10.8)\n",
            "Installing collected packages: pandas-datareader, finterstellar\n",
            "  Attempting uninstall: pandas-datareader\n",
            "    Found existing installation: pandas-datareader 0.9.0\n",
            "    Uninstalling pandas-datareader-0.9.0:\n",
            "      Successfully uninstalled pandas-datareader-0.9.0\n",
            "Successfully installed finterstellar-0.1.19 pandas-datareader-0.10.0\n"
          ]
        }
      ],
      "source": [
        "!pip install finterstellar"
      ]
    },
    {
      "cell_type": "code",
      "source": [
        "import finterstellar as fs"
      ],
      "metadata": {
        "id": "xDQ0XR75I4KW"
      },
      "execution_count": 35,
      "outputs": []
    },
    {
      "cell_type": "markdown",
      "source": [
        "1. 핀터스텔라 라이브러리의 fn_single함수를 이용하여 코스트코의 재무제표를 불러온다."
      ],
      "metadata": {
        "id": "J-NeflsUXzto"
      }
    },
    {
      "cell_type": "code",
      "source": [
        "df = fs.fn_single(otp='16474954571099712210', symbol='COST', window='T') # symbol: 데이터 산출 기준, window: 분기데이터=Q, 분기별을 합쳐서 1년치 트레일링 데이터 호출=T\n",
        "df.tail(3)"
      ],
      "metadata": {
        "colab": {
          "base_uri": "https://localhost:8080/",
          "height": 306
        },
        "id": "N-OHt5U_X6By",
        "outputId": "526d9a5c-e754-4bee-94ed-25b57d902597"
      },
      "execution_count": 36,
      "outputs": [
        {
          "output_type": "execute_result",
          "data": {
            "text/plain": [
              "                      Revenue               COGS      Gross Profit  \\\n",
              "2021-08-31 197,998,000,000.00 172,641,000,000.00 25,357,000,000.00   \n",
              "2021-11-30 203,592,000,000.00 177,515,000,000.00 26,077,000,000.00   \n",
              "2022-02-28 210,219,000,000.00 183,617,000,000.00 26,602,000,000.00   \n",
              "\n",
              "                        SG&A  Operating Income       Net Income   EPS  \\\n",
              "2021-08-31 18,273,000,000.00  5,278,000,000.00 5,061,000,000.00 11.42   \n",
              "2021-11-30 18,640,000,000.00  5,631,000,000.00 5,434,000,000.00 12.26   \n",
              "2022-02-28 19,083,000,000.00  7,443,000,000.00 5,513,000,000.00 12.44   \n",
              "\n",
              "                     EBITDA             EBIT         Shares  ...  \\\n",
              "2021-08-31 8,852,000,000.00 5,278,000,000.00 443,089,000.00  ...   \n",
              "2021-11-30 9,221,000,000.00 5,631,000,000.00 443,377,000.00  ...   \n",
              "2022-02-28 9,272,000,000.00 7,443,000,000.00 443,623,000.00  ...   \n",
              "\n",
              "            Long Term Liabilities  Total Liabilities  Shareholders Equity  \\\n",
              "2021-08-31      11,749,000,000.00  41,190,000,000.00    18,078,000,000.00   \n",
              "2021-11-30      11,807,000,000.00  45,149,000,000.00    19,000,000,000.00   \n",
              "2022-02-28      11,557,000,000.00  43,102,000,000.00    19,976,000,000.00   \n",
              "\n",
              "               Depreciation  Operating Cash Flow  Capital Expenditure  \\\n",
              "2021-08-31 2,002,000,000.00     9,644,000,000.00    -2,695,000,000.00   \n",
              "2021-11-30 2,029,000,000.00    12,864,000,000.00    -3,177,000,000.00   \n",
              "2022-02-28 2,071,000,000.00     9,932,000,000.00    -3,900,000,000.00   \n",
              "\n",
              "            Investing cash flow         Dividends  Financing cash flow  Price  \n",
              "2021-08-31    -4,196,000,000.00 -5,438,000,000.00    -6,207,000,000.00 455.49  \n",
              "2021-11-30    -4,753,000,000.00 -1,358,000,000.00    -2,396,000,000.00 539.38  \n",
              "2022-02-28    -3,891,000,000.00 -1,358,000,000.00    -2,805,000,000.00 519.25  \n",
              "\n",
              "[3 rows x 29 columns]"
            ],
            "text/html": [
              "\n",
              "  <div id=\"df-e04ee8c9-b1e5-4791-bf3c-f1130531ac24\">\n",
              "    <div class=\"colab-df-container\">\n",
              "      <div>\n",
              "<style scoped>\n",
              "    .dataframe tbody tr th:only-of-type {\n",
              "        vertical-align: middle;\n",
              "    }\n",
              "\n",
              "    .dataframe tbody tr th {\n",
              "        vertical-align: top;\n",
              "    }\n",
              "\n",
              "    .dataframe thead th {\n",
              "        text-align: right;\n",
              "    }\n",
              "</style>\n",
              "<table border=\"1\" class=\"dataframe\">\n",
              "  <thead>\n",
              "    <tr style=\"text-align: right;\">\n",
              "      <th></th>\n",
              "      <th>Revenue</th>\n",
              "      <th>COGS</th>\n",
              "      <th>Gross Profit</th>\n",
              "      <th>SG&amp;A</th>\n",
              "      <th>Operating Income</th>\n",
              "      <th>Net Income</th>\n",
              "      <th>EPS</th>\n",
              "      <th>EBITDA</th>\n",
              "      <th>EBIT</th>\n",
              "      <th>Shares</th>\n",
              "      <th>...</th>\n",
              "      <th>Long Term Liabilities</th>\n",
              "      <th>Total Liabilities</th>\n",
              "      <th>Shareholders Equity</th>\n",
              "      <th>Depreciation</th>\n",
              "      <th>Operating Cash Flow</th>\n",
              "      <th>Capital Expenditure</th>\n",
              "      <th>Investing cash flow</th>\n",
              "      <th>Dividends</th>\n",
              "      <th>Financing cash flow</th>\n",
              "      <th>Price</th>\n",
              "    </tr>\n",
              "  </thead>\n",
              "  <tbody>\n",
              "    <tr>\n",
              "      <th>2021-08-31</th>\n",
              "      <td>197,998,000,000.00</td>\n",
              "      <td>172,641,000,000.00</td>\n",
              "      <td>25,357,000,000.00</td>\n",
              "      <td>18,273,000,000.00</td>\n",
              "      <td>5,278,000,000.00</td>\n",
              "      <td>5,061,000,000.00</td>\n",
              "      <td>11.42</td>\n",
              "      <td>8,852,000,000.00</td>\n",
              "      <td>5,278,000,000.00</td>\n",
              "      <td>443,089,000.00</td>\n",
              "      <td>...</td>\n",
              "      <td>11,749,000,000.00</td>\n",
              "      <td>41,190,000,000.00</td>\n",
              "      <td>18,078,000,000.00</td>\n",
              "      <td>2,002,000,000.00</td>\n",
              "      <td>9,644,000,000.00</td>\n",
              "      <td>-2,695,000,000.00</td>\n",
              "      <td>-4,196,000,000.00</td>\n",
              "      <td>-5,438,000,000.00</td>\n",
              "      <td>-6,207,000,000.00</td>\n",
              "      <td>455.49</td>\n",
              "    </tr>\n",
              "    <tr>\n",
              "      <th>2021-11-30</th>\n",
              "      <td>203,592,000,000.00</td>\n",
              "      <td>177,515,000,000.00</td>\n",
              "      <td>26,077,000,000.00</td>\n",
              "      <td>18,640,000,000.00</td>\n",
              "      <td>5,631,000,000.00</td>\n",
              "      <td>5,434,000,000.00</td>\n",
              "      <td>12.26</td>\n",
              "      <td>9,221,000,000.00</td>\n",
              "      <td>5,631,000,000.00</td>\n",
              "      <td>443,377,000.00</td>\n",
              "      <td>...</td>\n",
              "      <td>11,807,000,000.00</td>\n",
              "      <td>45,149,000,000.00</td>\n",
              "      <td>19,000,000,000.00</td>\n",
              "      <td>2,029,000,000.00</td>\n",
              "      <td>12,864,000,000.00</td>\n",
              "      <td>-3,177,000,000.00</td>\n",
              "      <td>-4,753,000,000.00</td>\n",
              "      <td>-1,358,000,000.00</td>\n",
              "      <td>-2,396,000,000.00</td>\n",
              "      <td>539.38</td>\n",
              "    </tr>\n",
              "    <tr>\n",
              "      <th>2022-02-28</th>\n",
              "      <td>210,219,000,000.00</td>\n",
              "      <td>183,617,000,000.00</td>\n",
              "      <td>26,602,000,000.00</td>\n",
              "      <td>19,083,000,000.00</td>\n",
              "      <td>7,443,000,000.00</td>\n",
              "      <td>5,513,000,000.00</td>\n",
              "      <td>12.44</td>\n",
              "      <td>9,272,000,000.00</td>\n",
              "      <td>7,443,000,000.00</td>\n",
              "      <td>443,623,000.00</td>\n",
              "      <td>...</td>\n",
              "      <td>11,557,000,000.00</td>\n",
              "      <td>43,102,000,000.00</td>\n",
              "      <td>19,976,000,000.00</td>\n",
              "      <td>2,071,000,000.00</td>\n",
              "      <td>9,932,000,000.00</td>\n",
              "      <td>-3,900,000,000.00</td>\n",
              "      <td>-3,891,000,000.00</td>\n",
              "      <td>-1,358,000,000.00</td>\n",
              "      <td>-2,805,000,000.00</td>\n",
              "      <td>519.25</td>\n",
              "    </tr>\n",
              "  </tbody>\n",
              "</table>\n",
              "<p>3 rows × 29 columns</p>\n",
              "</div>\n",
              "      <button class=\"colab-df-convert\" onclick=\"convertToInteractive('df-e04ee8c9-b1e5-4791-bf3c-f1130531ac24')\"\n",
              "              title=\"Convert this dataframe to an interactive table.\"\n",
              "              style=\"display:none;\">\n",
              "        \n",
              "  <svg xmlns=\"http://www.w3.org/2000/svg\" height=\"24px\"viewBox=\"0 0 24 24\"\n",
              "       width=\"24px\">\n",
              "    <path d=\"M0 0h24v24H0V0z\" fill=\"none\"/>\n",
              "    <path d=\"M18.56 5.44l.94 2.06.94-2.06 2.06-.94-2.06-.94-.94-2.06-.94 2.06-2.06.94zm-11 1L8.5 8.5l.94-2.06 2.06-.94-2.06-.94L8.5 2.5l-.94 2.06-2.06.94zm10 10l.94 2.06.94-2.06 2.06-.94-2.06-.94-.94-2.06-.94 2.06-2.06.94z\"/><path d=\"M17.41 7.96l-1.37-1.37c-.4-.4-.92-.59-1.43-.59-.52 0-1.04.2-1.43.59L10.3 9.45l-7.72 7.72c-.78.78-.78 2.05 0 2.83L4 21.41c.39.39.9.59 1.41.59.51 0 1.02-.2 1.41-.59l7.78-7.78 2.81-2.81c.8-.78.8-2.07 0-2.86zM5.41 20L4 18.59l7.72-7.72 1.47 1.35L5.41 20z\"/>\n",
              "  </svg>\n",
              "      </button>\n",
              "      \n",
              "  <style>\n",
              "    .colab-df-container {\n",
              "      display:flex;\n",
              "      flex-wrap:wrap;\n",
              "      gap: 12px;\n",
              "    }\n",
              "\n",
              "    .colab-df-convert {\n",
              "      background-color: #E8F0FE;\n",
              "      border: none;\n",
              "      border-radius: 50%;\n",
              "      cursor: pointer;\n",
              "      display: none;\n",
              "      fill: #1967D2;\n",
              "      height: 32px;\n",
              "      padding: 0 0 0 0;\n",
              "      width: 32px;\n",
              "    }\n",
              "\n",
              "    .colab-df-convert:hover {\n",
              "      background-color: #E2EBFA;\n",
              "      box-shadow: 0px 1px 2px rgba(60, 64, 67, 0.3), 0px 1px 3px 1px rgba(60, 64, 67, 0.15);\n",
              "      fill: #174EA6;\n",
              "    }\n",
              "\n",
              "    [theme=dark] .colab-df-convert {\n",
              "      background-color: #3B4455;\n",
              "      fill: #D2E3FC;\n",
              "    }\n",
              "\n",
              "    [theme=dark] .colab-df-convert:hover {\n",
              "      background-color: #434B5C;\n",
              "      box-shadow: 0px 1px 3px 1px rgba(0, 0, 0, 0.15);\n",
              "      filter: drop-shadow(0px 1px 2px rgba(0, 0, 0, 0.3));\n",
              "      fill: #FFFFFF;\n",
              "    }\n",
              "  </style>\n",
              "\n",
              "      <script>\n",
              "        const buttonEl =\n",
              "          document.querySelector('#df-e04ee8c9-b1e5-4791-bf3c-f1130531ac24 button.colab-df-convert');\n",
              "        buttonEl.style.display =\n",
              "          google.colab.kernel.accessAllowed ? 'block' : 'none';\n",
              "\n",
              "        async function convertToInteractive(key) {\n",
              "          const element = document.querySelector('#df-e04ee8c9-b1e5-4791-bf3c-f1130531ac24');\n",
              "          const dataTable =\n",
              "            await google.colab.kernel.invokeFunction('convertToInteractive',\n",
              "                                                     [key], {});\n",
              "          if (!dataTable) return;\n",
              "\n",
              "          const docLinkHtml = 'Like what you see? Visit the ' +\n",
              "            '<a target=\"_blank\" href=https://colab.research.google.com/notebooks/data_table.ipynb>data table notebook</a>'\n",
              "            + ' to learn more about interactive tables.';\n",
              "          element.innerHTML = '';\n",
              "          dataTable['output_type'] = 'display_data';\n",
              "          await google.colab.output.renderOutput(dataTable, element);\n",
              "          const docLink = document.createElement('div');\n",
              "          docLink.innerHTML = docLinkHtml;\n",
              "          element.appendChild(docLink);\n",
              "        }\n",
              "      </script>\n",
              "    </div>\n",
              "  </div>\n",
              "  "
            ]
          },
          "metadata": {},
          "execution_count": 36
        }
      ]
    },
    {
      "cell_type": "markdown",
      "source": [
        "2. 가져온 데이터를 확인한다. (columns 파라미터 사용)"
      ],
      "metadata": {
        "id": "I_tSSF57YGg3"
      }
    },
    {
      "cell_type": "code",
      "source": [
        "df.columns"
      ],
      "metadata": {
        "colab": {
          "base_uri": "https://localhost:8080/"
        },
        "id": "FkTw4ngAYpBv",
        "outputId": "cf0b1652-9558-4984-9389-0a2724b0f73a"
      },
      "execution_count": 37,
      "outputs": [
        {
          "output_type": "execute_result",
          "data": {
            "text/plain": [
              "Index(['Revenue', 'COGS', 'Gross Profit', 'SG&A', 'Operating Income',\n",
              "       'Net Income', 'EPS', 'EBITDA', 'EBIT', 'Shares', 'Cash & Equivalents',\n",
              "       'Receivables', 'Inventory', 'Current Assets', 'Long Term Assets',\n",
              "       'Total Assets', 'Current Debt', 'Current Liabilities', 'Long Term Debt',\n",
              "       'Long Term Liabilities', 'Total Liabilities', 'Shareholders Equity',\n",
              "       'Depreciation', 'Operating Cash Flow', 'Capital Expenditure',\n",
              "       'Investing cash flow', 'Dividends', 'Financing cash flow', 'Price'],\n",
              "      dtype='object')"
            ]
          },
          "metadata": {},
          "execution_count": 37
        }
      ]
    },
    {
      "cell_type": "markdown",
      "source": [
        "3. PER를 계산하고 코스트코의 PER추이를 차트로 계산\n",
        "- PER = Price / EPS"
      ],
      "metadata": {
        "id": "p1drZESVZUSH"
      }
    },
    {
      "cell_type": "code",
      "source": [
        "df['PER'] = df['Price'] / df['EPS']"
      ],
      "metadata": {
        "id": "__BcUQRLYvxh"
      },
      "execution_count": 39,
      "outputs": []
    },
    {
      "cell_type": "code",
      "source": [
        "fs.draw_chart(df, left='PER', right='Price')"
      ],
      "metadata": {
        "colab": {
          "base_uri": "https://localhost:8080/",
          "height": 323
        },
        "id": "GaBxCdN42cdC",
        "outputId": "ae824fb7-ac2a-4e6c-e03f-8b44525ac2a2"
      },
      "execution_count": 40,
      "outputs": [
        {
          "output_type": "display_data",
          "data": {
            "text/plain": [
              "<Figure size 720x360 with 2 Axes>"
            ],
            "image/png": "[encoded data removed]"
          },
          "metadata": {
            "needs_background": "light"
          }
        }
      ]
    },
    {
      "cell_type": "code",
      "source": [
        "df.columns # PER항목이 생긴것을 확인 할수 있다."
      ],
      "metadata": {
        "colab": {
          "base_uri": "https://localhost:8080/"
        },
        "id": "Cl6pW5SmZMro",
        "outputId": "391cbc7d-3358-4471-cb8a-2c2b1fea754b"
      },
      "execution_count": 41,
      "outputs": [
        {
          "output_type": "execute_result",
          "data": {
            "text/plain": [
              "Index(['Revenue', 'COGS', 'Gross Profit', 'SG&A', 'Operating Income',\n",
              "       'Net Income', 'EPS', 'EBITDA', 'EBIT', 'Shares', 'Cash & Equivalents',\n",
              "       'Receivables', 'Inventory', 'Current Assets', 'Long Term Assets',\n",
              "       'Total Assets', 'Current Debt', 'Current Liabilities', 'Long Term Debt',\n",
              "       'Long Term Liabilities', 'Total Liabilities', 'Shareholders Equity',\n",
              "       'Depreciation', 'Operating Cash Flow', 'Capital Expenditure',\n",
              "       'Investing cash flow', 'Dividends', 'Financing cash flow', 'Price',\n",
              "       'PER'],\n",
              "      dtype='object')"
            ]
          },
          "metadata": {},
          "execution_count": 41
        }
      ]
    },
    {
      "cell_type": "markdown",
      "source": [
        "4. 밴드차트를 그려본다.\n",
        "- PER와 같이 재무지표와 가격이 결합된 지표를 주가배수(Price Multiple)이라고 한다."
      ],
      "metadata": {
        "id": "dhJr6jIXZfhP"
      }
    },
    {
      "cell_type": "code",
      "source": [
        "fs.draw_price_multiple_band(df, multiple='PER', acct='EPS')"
      ],
      "metadata": {
        "colab": {
          "base_uri": "https://localhost:8080/",
          "height": 319
        },
        "id": "WwGbELUXZ7t6",
        "outputId": "03ebe7ea-9e1b-4722-8bdd-ff40e549f6c1"
      },
      "execution_count": 42,
      "outputs": [
        {
          "output_type": "display_data",
          "data": {
            "text/plain": [
              "<Figure size 720x360 with 1 Axes>"
            ],
            "image/png": "[encoded data removed]"
          },
          "metadata": {
            "needs_background": "light"
          }
        }
      ]
    },
    {
      "cell_type": "markdown",
      "source": [
        "5. 전체 상장 종목의 재무정보 데이터 불러오기\n",
        "\n",
        "- 이익 대비 저평가 종목 : PER를 이용해 투자를 하는 가장 직관적인 방법은 PER가 낮은 종목을 사서 기다리는 것이다.\n",
        "\n",
        "- fn_consolidated() 함수를 이용하면 여러 기업의 재무 정보를 모아서 분기별로 조회할 수 있다."
      ],
      "metadata": {
        "id": "pCfijM3waCQp"
      }
    },
    {
      "cell_type": "code",
      "source": [
        "df = fs.fn_consolidated(otp='16474954571099712210', term='2020Q3', vol=100000, study='Y') # term: 조회 대상 분기 값, vol: 일평균 거래량\n",
        "df.head(3)"
      ],
      "metadata": {
        "colab": {
          "base_uri": "https://localhost:8080/",
          "height": 336
        },
        "id": "ywSwuBx60eYk",
        "outputId": "7dff2b66-f018-4e3c-8dff-6dd0de11933a"
      },
      "execution_count": 43,
      "outputs": [
        {
          "output_type": "stream",
          "name": "stdout",
          "text": [
            "\r2020Q3... For Study. Freezed at the end of July 2021. OK\n"
          ]
        },
        {
          "output_type": "execute_result",
          "data": {
            "text/plain": [
              "          term  Revenue     COGS  Gross Profit     SG&A  Operating Income  \\\n",
              "symbol                                                                      \n",
              "A       2020Q3 5,223.00 2,437.00      2,786.00 1,494.00            797.00   \n",
              "AA      2020Q3 9,330.00 8,043.00      1,287.00   213.00            -23.00   \n",
              "AAIC    2020Q3    64.77     0.00         64.77    12.56             11.16   \n",
              "\n",
              "        Net Income   EPS   EBITDA   EBIT  ...  Financing Cash Flow  Price  \\\n",
              "symbol                                    ...                               \n",
              "A           691.00  2.26 1,105.00 797.00  ...                49.00 100.94   \n",
              "AA         -469.00 -2.53   643.00 -23.00  ...               484.00  11.63   \n",
              "AAIC        -54.80 -1.52    62.76  52.21  ...            -3,220.76   2.84   \n",
              "\n",
              "        Price_M1  Price_M2  Price_M3                                     name  \\\n",
              "symbol                                                                          \n",
              "A         102.09    116.90    118.49                 Agilent Technologies Inc   \n",
              "AA         12.92     19.90     23.05                               Alcoa Corp   \n",
              "AAIC        2.46      3.21      3.78  Arlington Asset Investment Corp Class A   \n",
              "\n",
              "                      name_kr           sector                industry  \\\n",
              "symbol                                                                   \n",
              "A                 애질런트 테크놀로지스       Healthcare  Diagnostics & Research   \n",
              "AA                        알코아  Basic Materials                Aluminum   \n",
              "AAIC    알링턴 에셋 인베스트먼트 Class A      Real Estate           Reit Mortgage   \n",
              "\n",
              "        avg_volume  \n",
              "symbol              \n",
              "A          1362200  \n",
              "AA         5513100  \n",
              "AAIC        166900  \n",
              "\n",
              "[3 rows x 38 columns]"
            ],
            "text/html": [
              "\n",
              "  <div id=\"df-aedde665-85fb-4f8b-b40b-0c1061c077ce\">\n",
              "    <div class=\"colab-df-container\">\n",
              "      <div>\n",
              "<style scoped>\n",
              "    .dataframe tbody tr th:only-of-type {\n",
              "        vertical-align: middle;\n",
              "    }\n",
              "\n",
              "    .dataframe tbody tr th {\n",
              "        vertical-align: top;\n",
              "    }\n",
              "\n",
              "    .dataframe thead th {\n",
              "        text-align: right;\n",
              "    }\n",
              "</style>\n",
              "<table border=\"1\" class=\"dataframe\">\n",
              "  <thead>\n",
              "    <tr style=\"text-align: right;\">\n",
              "      <th></th>\n",
              "      <th>term</th>\n",
              "      <th>Revenue</th>\n",
              "      <th>COGS</th>\n",
              "      <th>Gross Profit</th>\n",
              "      <th>SG&amp;A</th>\n",
              "      <th>Operating Income</th>\n",
              "      <th>Net Income</th>\n",
              "      <th>EPS</th>\n",
              "      <th>EBITDA</th>\n",
              "      <th>EBIT</th>\n",
              "      <th>...</th>\n",
              "      <th>Financing Cash Flow</th>\n",
              "      <th>Price</th>\n",
              "      <th>Price_M1</th>\n",
              "      <th>Price_M2</th>\n",
              "      <th>Price_M3</th>\n",
              "      <th>name</th>\n",
              "      <th>name_kr</th>\n",
              "      <th>sector</th>\n",
              "      <th>industry</th>\n",
              "      <th>avg_volume</th>\n",
              "    </tr>\n",
              "    <tr>\n",
              "      <th>symbol</th>\n",
              "      <th></th>\n",
              "      <th></th>\n",
              "      <th></th>\n",
              "      <th></th>\n",
              "      <th></th>\n",
              "      <th></th>\n",
              "      <th></th>\n",
              "      <th></th>\n",
              "      <th></th>\n",
              "      <th></th>\n",
              "      <th></th>\n",
              "      <th></th>\n",
              "      <th></th>\n",
              "      <th></th>\n",
              "      <th></th>\n",
              "      <th></th>\n",
              "      <th></th>\n",
              "      <th></th>\n",
              "      <th></th>\n",
              "      <th></th>\n",
              "      <th></th>\n",
              "    </tr>\n",
              "  </thead>\n",
              "  <tbody>\n",
              "    <tr>\n",
              "      <th>A</th>\n",
              "      <td>2020Q3</td>\n",
              "      <td>5,223.00</td>\n",
              "      <td>2,437.00</td>\n",
              "      <td>2,786.00</td>\n",
              "      <td>1,494.00</td>\n",
              "      <td>797.00</td>\n",
              "      <td>691.00</td>\n",
              "      <td>2.26</td>\n",
              "      <td>1,105.00</td>\n",
              "      <td>797.00</td>\n",
              "      <td>...</td>\n",
              "      <td>49.00</td>\n",
              "      <td>100.94</td>\n",
              "      <td>102.09</td>\n",
              "      <td>116.90</td>\n",
              "      <td>118.49</td>\n",
              "      <td>Agilent Technologies Inc</td>\n",
              "      <td>애질런트 테크놀로지스</td>\n",
              "      <td>Healthcare</td>\n",
              "      <td>Diagnostics &amp; Research</td>\n",
              "      <td>1362200</td>\n",
              "    </tr>\n",
              "    <tr>\n",
              "      <th>AA</th>\n",
              "      <td>2020Q3</td>\n",
              "      <td>9,330.00</td>\n",
              "      <td>8,043.00</td>\n",
              "      <td>1,287.00</td>\n",
              "      <td>213.00</td>\n",
              "      <td>-23.00</td>\n",
              "      <td>-469.00</td>\n",
              "      <td>-2.53</td>\n",
              "      <td>643.00</td>\n",
              "      <td>-23.00</td>\n",
              "      <td>...</td>\n",
              "      <td>484.00</td>\n",
              "      <td>11.63</td>\n",
              "      <td>12.92</td>\n",
              "      <td>19.90</td>\n",
              "      <td>23.05</td>\n",
              "      <td>Alcoa Corp</td>\n",
              "      <td>알코아</td>\n",
              "      <td>Basic Materials</td>\n",
              "      <td>Aluminum</td>\n",
              "      <td>5513100</td>\n",
              "    </tr>\n",
              "    <tr>\n",
              "      <th>AAIC</th>\n",
              "      <td>2020Q3</td>\n",
              "      <td>64.77</td>\n",
              "      <td>0.00</td>\n",
              "      <td>64.77</td>\n",
              "      <td>12.56</td>\n",
              "      <td>11.16</td>\n",
              "      <td>-54.80</td>\n",
              "      <td>-1.52</td>\n",
              "      <td>62.76</td>\n",
              "      <td>52.21</td>\n",
              "      <td>...</td>\n",
              "      <td>-3,220.76</td>\n",
              "      <td>2.84</td>\n",
              "      <td>2.46</td>\n",
              "      <td>3.21</td>\n",
              "      <td>3.78</td>\n",
              "      <td>Arlington Asset Investment Corp Class A</td>\n",
              "      <td>알링턴 에셋 인베스트먼트 Class A</td>\n",
              "      <td>Real Estate</td>\n",
              "      <td>Reit Mortgage</td>\n",
              "      <td>166900</td>\n",
              "    </tr>\n",
              "  </tbody>\n",
              "</table>\n",
              "<p>3 rows × 38 columns</p>\n",
              "</div>\n",
              "      <button class=\"colab-df-convert\" onclick=\"convertToInteractive('df-aedde665-85fb-4f8b-b40b-0c1061c077ce')\"\n",
              "              title=\"Convert this dataframe to an interactive table.\"\n",
              "              style=\"display:none;\">\n",
              "        \n",
              "  <svg xmlns=\"http://www.w3.org/2000/svg\" height=\"24px\"viewBox=\"0 0 24 24\"\n",
              "       width=\"24px\">\n",
              "    <path d=\"M0 0h24v24H0V0z\" fill=\"none\"/>\n",
              "    <path d=\"M18.56 5.44l.94 2.06.94-2.06 2.06-.94-2.06-.94-.94-2.06-.94 2.06-2.06.94zm-11 1L8.5 8.5l.94-2.06 2.06-.94-2.06-.94L8.5 2.5l-.94 2.06-2.06.94zm10 10l.94 2.06.94-2.06 2.06-.94-2.06-.94-.94-2.06-.94 2.06-2.06.94z\"/><path d=\"M17.41 7.96l-1.37-1.37c-.4-.4-.92-.59-1.43-.59-.52 0-1.04.2-1.43.59L10.3 9.45l-7.72 7.72c-.78.78-.78 2.05 0 2.83L4 21.41c.39.39.9.59 1.41.59.51 0 1.02-.2 1.41-.59l7.78-7.78 2.81-2.81c.8-.78.8-2.07 0-2.86zM5.41 20L4 18.59l7.72-7.72 1.47 1.35L5.41 20z\"/>\n",
              "  </svg>\n",
              "      </button>\n",
              "      \n",
              "  <style>\n",
              "    .colab-df-container {\n",
              "      display:flex;\n",
              "      flex-wrap:wrap;\n",
              "      gap: 12px;\n",
              "    }\n",
              "\n",
              "    .colab-df-convert {\n",
              "      background-color: #E8F0FE;\n",
              "      border: none;\n",
              "      border-radius: 50%;\n",
              "      cursor: pointer;\n",
              "      display: none;\n",
              "      fill: #1967D2;\n",
              "      height: 32px;\n",
              "      padding: 0 0 0 0;\n",
              "      width: 32px;\n",
              "    }\n",
              "\n",
              "    .colab-df-convert:hover {\n",
              "      background-color: #E2EBFA;\n",
              "      box-shadow: 0px 1px 2px rgba(60, 64, 67, 0.3), 0px 1px 3px 1px rgba(60, 64, 67, 0.15);\n",
              "      fill: #174EA6;\n",
              "    }\n",
              "\n",
              "    [theme=dark] .colab-df-convert {\n",
              "      background-color: #3B4455;\n",
              "      fill: #D2E3FC;\n",
              "    }\n",
              "\n",
              "    [theme=dark] .colab-df-convert:hover {\n",
              "      background-color: #434B5C;\n",
              "      box-shadow: 0px 1px 3px 1px rgba(0, 0, 0, 0.15);\n",
              "      filter: drop-shadow(0px 1px 2px rgba(0, 0, 0, 0.3));\n",
              "      fill: #FFFFFF;\n",
              "    }\n",
              "  </style>\n",
              "\n",
              "      <script>\n",
              "        const buttonEl =\n",
              "          document.querySelector('#df-aedde665-85fb-4f8b-b40b-0c1061c077ce button.colab-df-convert');\n",
              "        buttonEl.style.display =\n",
              "          google.colab.kernel.accessAllowed ? 'block' : 'none';\n",
              "\n",
              "        async function convertToInteractive(key) {\n",
              "          const element = document.querySelector('#df-aedde665-85fb-4f8b-b40b-0c1061c077ce');\n",
              "          const dataTable =\n",
              "            await google.colab.kernel.invokeFunction('convertToInteractive',\n",
              "                                                     [key], {});\n",
              "          if (!dataTable) return;\n",
              "\n",
              "          const docLinkHtml = 'Like what you see? Visit the ' +\n",
              "            '<a target=\"_blank\" href=https://colab.research.google.com/notebooks/data_table.ipynb>data table notebook</a>'\n",
              "            + ' to learn more about interactive tables.';\n",
              "          element.innerHTML = '';\n",
              "          dataTable['output_type'] = 'display_data';\n",
              "          await google.colab.output.renderOutput(dataTable, element);\n",
              "          const docLink = document.createElement('div');\n",
              "          docLink.innerHTML = docLinkHtml;\n",
              "          element.appendChild(docLink);\n",
              "        }\n",
              "      </script>\n",
              "    </div>\n",
              "  </div>\n",
              "  "
            ]
          },
          "metadata": {},
          "execution_count": 43
        }
      ]
    },
    {
      "cell_type": "code",
      "source": [
        "df.columns"
      ],
      "metadata": {
        "colab": {
          "base_uri": "https://localhost:8080/"
        },
        "id": "WfAahvzC1tt1",
        "outputId": "45f841c1-adeb-4adb-d268-5e20f169af02"
      },
      "execution_count": 44,
      "outputs": [
        {
          "output_type": "execute_result",
          "data": {
            "text/plain": [
              "Index(['term', 'Revenue', 'COGS', 'Gross Profit', 'SG&A', 'Operating Income',\n",
              "       'Net Income', 'EPS', 'EBITDA', 'EBIT', 'Shares', 'Cash & Equivalents',\n",
              "       'Receivables', 'Inventory', 'Current Assets', 'Long Term Assets',\n",
              "       'Total Assets', 'Current Debt', 'Current Liabilities', 'Long Term Debt',\n",
              "       'Long Term Liabilities', 'Total Liabilities', 'Shareholders Equity',\n",
              "       'Depreciation', 'Operating Cash Flow', 'Capital Expenditure',\n",
              "       'Investing Cash Flow', 'Dividend', 'Financing Cash Flow', 'Price',\n",
              "       'Price_M1', 'Price_M2', 'Price_M3', 'name', 'name_kr', 'sector',\n",
              "       'industry', 'avg_volume'],\n",
              "      dtype='object')"
            ]
          },
          "metadata": {},
          "execution_count": 44
        }
      ]
    },
    {
      "cell_type": "code",
      "source": [
        ""
      ],
      "metadata": {
        "id": "QT6U0PHC1_zt"
      },
      "execution_count": 31,
      "outputs": []
    }
  ]
}